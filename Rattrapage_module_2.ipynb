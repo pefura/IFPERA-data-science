{
 "cells": [
  {
   "cell_type": "markdown",
   "id": "fa7c877a-3c57-44ce-bfe4-9a14b3f655a3",
   "metadata": {},
   "source": [
    "## Examen de rattrapage module 2-data science\n",
    "- Date de soumission: `Mardi 05 septembre 2023 à 12 H`."
   ]
  },
  {
   "cell_type": "markdown",
   "id": "cecedfc1-0f1a-4aa4-b378-18ed9a0ca87a",
   "metadata": {},
   "source": [
    "#### For this exam you should work on blood cells dataset which include different types of blood cells. The final objective is to train a CNN model to classify blood cells. \n",
    "The database can be found here: \n",
    "- [blood cells dataset](https://drive.google.com/file/d/1zdBjXo_ebeUb24RXzmJw64d5JxabMJg5/view?usp=drive_link)\n",
    "- The following cells are found in dataset: ['basophil', 'eosinophil', 'erythroblast', 'ig', 'lymphocyte', 'monocyte', 'neutrophil', 'platelet']. ig = immature granulocyte. "
   ]
  },
  {
   "cell_type": "code",
   "execution_count": 1,
   "id": "14ebb247-60fc-4b30-a822-c7a6aba26558",
   "metadata": {},
   "outputs": [],
   "source": [
    "# Import packages here\n"
   ]
  },
  {
   "cell_type": "markdown",
   "id": "251e7217-18cf-4ddf-9bd5-0daab393e044",
   "metadata": {},
   "source": [
    "### **Part 1:** **Exploring dataset**"
   ]
  },
  {
   "cell_type": "markdown",
   "id": "0c2a190e-06af-4bc1-9f64-87172fb1a9d7",
   "metadata": {},
   "source": [
    "**Task 1.1:** Create a list named `blood_cells` with all the image files. You can use glob package."
   ]
  },
  {
   "cell_type": "code",
   "execution_count": 3,
   "id": "a13bc282-fb69-4162-addd-5e6cc2bdd336",
   "metadata": {},
   "outputs": [],
   "source": [
    "# Verify the lenght of blood_cells list. It will normaly contain all the links of each individual image \n",
    "assert len(blood_cells) == 17092"
   ]
  },
  {
   "cell_type": "markdown",
   "id": "b5cad41d-c9f6-4930-add2-adc20b8f65bc",
   "metadata": {},
   "source": [
    "**Task 1.2:** Create a dataframe `df`respecting the following conditions:\n",
    "- Rows are the links to images\n",
    "- The only variable name should be `file_link`"
   ]
  },
  {
   "cell_type": "code",
   "execution_count": 4,
   "id": "8e401597-dd98-4a55-9c94-131b52fdd02c",
   "metadata": {},
   "outputs": [
    {
     "data": {
      "text/html": [
       "<div>\n",
       "<style scoped>\n",
       "    .dataframe tbody tr th:only-of-type {\n",
       "        vertical-align: middle;\n",
       "    }\n",
       "\n",
       "    .dataframe tbody tr th {\n",
       "        vertical-align: top;\n",
       "    }\n",
       "\n",
       "    .dataframe thead th {\n",
       "        text-align: right;\n",
       "    }\n",
       "</style>\n",
       "<table border=\"1\" class=\"dataframe\">\n",
       "  <thead>\n",
       "    <tr style=\"text-align: right;\">\n",
       "      <th></th>\n",
       "      <th>file_link</th>\n",
       "    </tr>\n",
       "  </thead>\n",
       "  <tbody>\n",
       "    <tr>\n",
       "      <th>0</th>\n",
       "      <td>C:/Users/DDD/Downloads/blood_cells_dataset\\blo...</td>\n",
       "    </tr>\n",
       "    <tr>\n",
       "      <th>1</th>\n",
       "      <td>C:/Users/DDD/Downloads/blood_cells_dataset\\blo...</td>\n",
       "    </tr>\n",
       "    <tr>\n",
       "      <th>2</th>\n",
       "      <td>C:/Users/DDD/Downloads/blood_cells_dataset\\blo...</td>\n",
       "    </tr>\n",
       "    <tr>\n",
       "      <th>3</th>\n",
       "      <td>C:/Users/DDD/Downloads/blood_cells_dataset\\blo...</td>\n",
       "    </tr>\n",
       "    <tr>\n",
       "      <th>4</th>\n",
       "      <td>C:/Users/DDD/Downloads/blood_cells_dataset\\blo...</td>\n",
       "    </tr>\n",
       "    <tr>\n",
       "      <th>...</th>\n",
       "      <td>...</td>\n",
       "    </tr>\n",
       "    <tr>\n",
       "      <th>17087</th>\n",
       "      <td>C:/Users/DDD/Downloads/blood_cells_dataset\\blo...</td>\n",
       "    </tr>\n",
       "    <tr>\n",
       "      <th>17088</th>\n",
       "      <td>C:/Users/DDD/Downloads/blood_cells_dataset\\blo...</td>\n",
       "    </tr>\n",
       "    <tr>\n",
       "      <th>17089</th>\n",
       "      <td>C:/Users/DDD/Downloads/blood_cells_dataset\\blo...</td>\n",
       "    </tr>\n",
       "    <tr>\n",
       "      <th>17090</th>\n",
       "      <td>C:/Users/DDD/Downloads/blood_cells_dataset\\blo...</td>\n",
       "    </tr>\n",
       "    <tr>\n",
       "      <th>17091</th>\n",
       "      <td>C:/Users/DDD/Downloads/blood_cells_dataset\\blo...</td>\n",
       "    </tr>\n",
       "  </tbody>\n",
       "</table>\n",
       "<p>17092 rows × 1 columns</p>\n",
       "</div>"
      ],
      "text/plain": [
       "                                               file_link\n",
       "0      C:/Users/DDD/Downloads/blood_cells_dataset\\blo...\n",
       "1      C:/Users/DDD/Downloads/blood_cells_dataset\\blo...\n",
       "2      C:/Users/DDD/Downloads/blood_cells_dataset\\blo...\n",
       "3      C:/Users/DDD/Downloads/blood_cells_dataset\\blo...\n",
       "4      C:/Users/DDD/Downloads/blood_cells_dataset\\blo...\n",
       "...                                                  ...\n",
       "17087  C:/Users/DDD/Downloads/blood_cells_dataset\\blo...\n",
       "17088  C:/Users/DDD/Downloads/blood_cells_dataset\\blo...\n",
       "17089  C:/Users/DDD/Downloads/blood_cells_dataset\\blo...\n",
       "17090  C:/Users/DDD/Downloads/blood_cells_dataset\\blo...\n",
       "17091  C:/Users/DDD/Downloads/blood_cells_dataset\\blo...\n",
       "\n",
       "[17092 rows x 1 columns]"
      ]
     },
     "execution_count": 4,
     "metadata": {},
     "output_type": "execute_result"
    }
   ],
   "source": []
  },
  {
   "cell_type": "markdown",
   "id": "1a0a7e69-341a-49bd-a1b1-6a4a9c04f9bb",
   "metadata": {},
   "source": [
    "**Task 1.3:** Write a for loop function allowing you to set up a dataframe named `blood_cells_dataset` with 3 columns from `blood_cells` list. These columns should be respectively:\n",
    "- Directory (name should be `Directory`) of images with or without sub-directory(for example: C:/Users/DDD/Downloads/blood_cells_dataset)\n",
    "- Type of blood cell (name should be: `Type_blood_cell, for example: basophil)\n",
    "- The identification number (named `id`) of images (for example: BA_100102)"
   ]
  },
  {
   "cell_type": "code",
   "execution_count": 5,
   "id": "93280807-e2a9-42d7-8a48-5c954068972c",
   "metadata": {},
   "outputs": [],
   "source": [
    "# This is an incomplete example \n",
    "Directory = []\n",
    "Type_blood_cell = []\n",
    "id = []\n",
    "for file in blood_cells:\n",
    "    dir = ...\n",
    "    cell = ...\n",
    "    identification = ...\n",
    "    ..."
   ]
  },
  {
   "cell_type": "markdown",
   "id": "a8c09a0a-743e-4387-8882-2c3ec5507193",
   "metadata": {},
   "source": [
    "**Task 1.4:** State the different types of cells and their proportion in the blood_cells_dataset"
   ]
  },
  {
   "cell_type": "code",
   "execution_count": null,
   "id": "e377e16c-c1fc-4844-8670-8eaa5dcdad50",
   "metadata": {},
   "outputs": [],
   "source": []
  },
  {
   "cell_type": "markdown",
   "id": "a6e1a9a7-b251-4442-b811-237f2cb2ed43",
   "metadata": {},
   "source": [
    "**Task 1.4:** Write a function named `wrangle` to create a dataframe comprising the following columns:\n",
    "- Directory\n",
    "- Type_blood_cell\n",
    "- id"
   ]
  },
  {
   "cell_type": "markdown",
   "id": "57216c8e-979c-4946-a1cb-f76211474c17",
   "metadata": {},
   "source": [
    "**Task 1.6:** Create the dataframe named `data` using `wrangle function` developped above. The columns named are`Directory`,`Type_blood_cell`, `id`"
   ]
  },
  {
   "cell_type": "code",
   "execution_count": 8,
   "id": "17e650bc-89a0-4fc5-88de-0b28b05433b6",
   "metadata": {},
   "outputs": [
    {
     "data": {
      "text/html": [
       "<div>\n",
       "<style scoped>\n",
       "    .dataframe tbody tr th:only-of-type {\n",
       "        vertical-align: middle;\n",
       "    }\n",
       "\n",
       "    .dataframe tbody tr th {\n",
       "        vertical-align: top;\n",
       "    }\n",
       "\n",
       "    .dataframe thead th {\n",
       "        text-align: right;\n",
       "    }\n",
       "</style>\n",
       "<table border=\"1\" class=\"dataframe\">\n",
       "  <thead>\n",
       "    <tr style=\"text-align: right;\">\n",
       "      <th></th>\n",
       "      <th>Directory</th>\n",
       "      <th>Type_blood_cell</th>\n",
       "      <th>id</th>\n",
       "    </tr>\n",
       "  </thead>\n",
       "  <tbody>\n",
       "    <tr>\n",
       "      <th>0</th>\n",
       "      <td>C:/Users/DDD/Downloads/blood_cells_dataset\\blo...</td>\n",
       "      <td>basophil</td>\n",
       "      <td>BA_100102</td>\n",
       "    </tr>\n",
       "    <tr>\n",
       "      <th>1</th>\n",
       "      <td>C:/Users/DDD/Downloads/blood_cells_dataset\\blo...</td>\n",
       "      <td>basophil</td>\n",
       "      <td>BA_101381</td>\n",
       "    </tr>\n",
       "    <tr>\n",
       "      <th>2</th>\n",
       "      <td>C:/Users/DDD/Downloads/blood_cells_dataset\\blo...</td>\n",
       "      <td>basophil</td>\n",
       "      <td>BA_101611</td>\n",
       "    </tr>\n",
       "    <tr>\n",
       "      <th>3</th>\n",
       "      <td>C:/Users/DDD/Downloads/blood_cells_dataset\\blo...</td>\n",
       "      <td>basophil</td>\n",
       "      <td>BA_102039</td>\n",
       "    </tr>\n",
       "    <tr>\n",
       "      <th>4</th>\n",
       "      <td>C:/Users/DDD/Downloads/blood_cells_dataset\\blo...</td>\n",
       "      <td>basophil</td>\n",
       "      <td>BA_102750</td>\n",
       "    </tr>\n",
       "    <tr>\n",
       "      <th>...</th>\n",
       "      <td>...</td>\n",
       "      <td>...</td>\n",
       "      <td>...</td>\n",
       "    </tr>\n",
       "    <tr>\n",
       "      <th>17087</th>\n",
       "      <td>C:/Users/DDD/Downloads/blood_cells_dataset\\blo...</td>\n",
       "      <td>platelet</td>\n",
       "      <td>PLATELET_997286</td>\n",
       "    </tr>\n",
       "    <tr>\n",
       "      <th>17088</th>\n",
       "      <td>C:/Users/DDD/Downloads/blood_cells_dataset\\blo...</td>\n",
       "      <td>platelet</td>\n",
       "      <td>PLATELET_998559</td>\n",
       "    </tr>\n",
       "    <tr>\n",
       "      <th>17089</th>\n",
       "      <td>C:/Users/DDD/Downloads/blood_cells_dataset\\blo...</td>\n",
       "      <td>platelet</td>\n",
       "      <td>PLATELET_999701</td>\n",
       "    </tr>\n",
       "    <tr>\n",
       "      <th>17090</th>\n",
       "      <td>C:/Users/DDD/Downloads/blood_cells_dataset\\blo...</td>\n",
       "      <td>platelet</td>\n",
       "      <td>PLATELET_999873</td>\n",
       "    </tr>\n",
       "    <tr>\n",
       "      <th>17091</th>\n",
       "      <td>C:/Users/DDD/Downloads/blood_cells_dataset\\blo...</td>\n",
       "      <td>platelet</td>\n",
       "      <td>PLATELET_999931</td>\n",
       "    </tr>\n",
       "  </tbody>\n",
       "</table>\n",
       "<p>17092 rows × 3 columns</p>\n",
       "</div>"
      ],
      "text/plain": [
       "                                               Directory Type_blood_cell  \\\n",
       "0      C:/Users/DDD/Downloads/blood_cells_dataset\\blo...        basophil   \n",
       "1      C:/Users/DDD/Downloads/blood_cells_dataset\\blo...        basophil   \n",
       "2      C:/Users/DDD/Downloads/blood_cells_dataset\\blo...        basophil   \n",
       "3      C:/Users/DDD/Downloads/blood_cells_dataset\\blo...        basophil   \n",
       "4      C:/Users/DDD/Downloads/blood_cells_dataset\\blo...        basophil   \n",
       "...                                                  ...             ...   \n",
       "17087  C:/Users/DDD/Downloads/blood_cells_dataset\\blo...        platelet   \n",
       "17088  C:/Users/DDD/Downloads/blood_cells_dataset\\blo...        platelet   \n",
       "17089  C:/Users/DDD/Downloads/blood_cells_dataset\\blo...        platelet   \n",
       "17090  C:/Users/DDD/Downloads/blood_cells_dataset\\blo...        platelet   \n",
       "17091  C:/Users/DDD/Downloads/blood_cells_dataset\\blo...        platelet   \n",
       "\n",
       "                    id  \n",
       "0            BA_100102  \n",
       "1            BA_101381  \n",
       "2            BA_101611  \n",
       "3            BA_102039  \n",
       "4            BA_102750  \n",
       "...                ...  \n",
       "17087  PLATELET_997286  \n",
       "17088  PLATELET_998559  \n",
       "17089  PLATELET_999701  \n",
       "17090  PLATELET_999873  \n",
       "17091  PLATELET_999931  \n",
       "\n",
       "[17092 rows x 3 columns]"
      ]
     },
     "execution_count": 8,
     "metadata": {},
     "output_type": "execute_result"
    }
   ],
   "source": []
  },
  {
   "cell_type": "code",
   "execution_count": 9,
   "id": "7ac742f5-84ec-4e61-a611-dce0ba4d8d3f",
   "metadata": {},
   "outputs": [],
   "source": [
    "assert data.shape == (17092, 3)"
   ]
  },
  {
   "cell_type": "markdown",
   "id": "61f12544-846b-44fc-90b6-161a4f9c8f1b",
   "metadata": {},
   "source": [
    "### **Part 2:** **Training CNN algorithm to identify blood cells**"
   ]
  },
  {
   "cell_type": "markdown",
   "id": "5a02340f-02dc-462d-af4a-a94df1b104de",
   "metadata": {},
   "source": [
    "**Task 2.1:** Print the first and the last image of blood_cells dataset"
   ]
  },
  {
   "cell_type": "code",
   "execution_count": null,
   "id": "57a439a3-26ac-417a-a45e-e46d0e7e3542",
   "metadata": {},
   "outputs": [],
   "source": []
  },
  {
   "cell_type": "code",
   "execution_count": null,
   "id": "3152feb2-1138-4d22-a355-a96fe642ef06",
   "metadata": {},
   "outputs": [],
   "source": []
  },
  {
   "cell_type": "markdown",
   "id": "aef0713d-4df9-4c27-a114-df622988f386",
   "metadata": {},
   "source": [
    "**Task 2.2:** Use tensorflow dataset method to create the training dataset named `train_ds`with 80% of images and the validation dataset named `val_ds`with 20% of images."
   ]
  },
  {
   "cell_type": "code",
   "execution_count": null,
   "id": "eb3a9101-1298-4806-8b9f-c80a2db5f96d",
   "metadata": {},
   "outputs": [],
   "source": []
  },
  {
   "cell_type": "markdown",
   "id": "f72e1d54-527e-48fa-846b-eaa15b04d404",
   "metadata": {},
   "source": [
    "**Task 2.3:** Complete a for loop to print 10 random images from `train_ds`. You should print images and corresponding labels.\n"
   ]
  },
  {
   "cell_type": "code",
   "execution_count": null,
   "id": "ff404657-8162-4350-a7b0-73de87de2391",
   "metadata": {},
   "outputs": [],
   "source": [
    "import matplotlib.pyplot as plt\n",
    "from PIL import Image, ImageEnhance\n",
    "\n",
    "plt.figure(figsize=(..., ...))\n",
    "for ..., ... in training_ds.take(1):\n",
    "    for i in range(...):\n",
    "        ax = plt.subplot(..., ..., i + 1)\n",
    "        plt....(images[i].numpy().astype(\"uint8\"))\n",
    "        plt.title(class_names[labels[i]])\n",
    "        plt.axis(\"off\")"
   ]
  },
  {
   "cell_type": "markdown",
   "id": "206ed2a1-aba9-472d-8938-94b29ce1f53f",
   "metadata": {},
   "source": [
    "**Task 2.4:** Set up a CNN architecture to train a model in order to classify blood cells  "
   ]
  },
  {
   "cell_type": "code",
   "execution_count": null,
   "id": "563e1f25-c0be-452c-88ad-89b7618ade91",
   "metadata": {},
   "outputs": [],
   "source": []
  },
  {
   "cell_type": "markdown",
   "id": "2e8f1245-a38b-463c-8082-6a93967e50fd",
   "metadata": {},
   "source": [
    "**Task 2.5:** Train your model and show the learning curve of the model"
   ]
  },
  {
   "cell_type": "code",
   "execution_count": null,
   "id": "7270e753-b904-45cb-bd5c-9ab78da1004f",
   "metadata": {},
   "outputs": [],
   "source": []
  },
  {
   "cell_type": "markdown",
   "id": "01dfcc12-d78d-473c-b5e6-b932555fa24b",
   "metadata": {},
   "source": [
    "**Good luck**"
   ]
  }
 ],
 "metadata": {
  "kernelspec": {
   "display_name": "Python 3 (ipykernel)",
   "language": "python",
   "name": "python3"
  },
  "language_info": {
   "codemirror_mode": {
    "name": "ipython",
    "version": 3
   },
   "file_extension": ".py",
   "mimetype": "text/x-python",
   "name": "python",
   "nbconvert_exporter": "python",
   "pygments_lexer": "ipython3",
   "version": "3.11.3"
  }
 },
 "nbformat": 4,
 "nbformat_minor": 5
}
