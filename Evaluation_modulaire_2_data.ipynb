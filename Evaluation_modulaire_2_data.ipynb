{
 "cells": [
  {
   "cell_type": "markdown",
   "id": "0a8bba75-78f1-4134-84ba-e5125a103557",
   "metadata": {},
   "source": [
    "## **EVALUATION MODULAIRE numéro 2-data science**\n",
    "### Date de soumission: `lundi 24 juillet 2023 à 10H00`\n",
    "##### **YOUR NAME:** ..."
   ]
  },
  {
   "cell_type": "markdown",
   "id": "16c70da3-3d63-40f2-a559-8c11ad3465ce",
   "metadata": {},
   "source": [
    "##### **Part 1**: **For this part you will work on the sqlite database. This database named `database_ESR` can be found here:** \n",
    "- [database](https://github.com/pefura/IFPERA-data-science/blob/main/database_ESR.sqlite)\n",
    "- Click on `view raw` or on `raw`to download the database on your local machine"
   ]
  },
  {
   "cell_type": "code",
   "execution_count": 215,
   "id": "bd218ee3-4efe-4e11-bb50-419e18f8500c",
   "metadata": {},
   "outputs": [],
   "source": [
    "# Import packages here\n"
   ]
  },
  {
   "cell_type": "markdown",
   "id": "a3f9a4f3-bdf8-416b-bb6b-7e990af0541e",
   "metadata": {},
   "source": [
    "##### **Task 1.1**: Initialize sqlite3 and connect to the database"
   ]
  },
  {
   "cell_type": "code",
   "execution_count": null,
   "id": "b2f32945-7b40-47eb-a250-c45a2eba1a8f",
   "metadata": {},
   "outputs": [],
   "source": []
  },
  {
   "cell_type": "markdown",
   "id": "7abf9132-7645-4f43-a0aa-37a431438649",
   "metadata": {},
   "source": [
    "##### **Task 1.2**: Which table are in the database?"
   ]
  },
  {
   "cell_type": "code",
   "execution_count": null,
   "id": "1ad6413c-d963-4458-ac67-74d2974f9fdf",
   "metadata": {},
   "outputs": [],
   "source": []
  },
  {
   "cell_type": "markdown",
   "id": "ccd381df-bbec-432a-bf53-bdd0a5c8e7bc",
   "metadata": {},
   "source": [
    "**Task 1.3:** Use `NUM_ORDRE` as identification number to select and join in one table the following columns 1)`SEXE_REC, Age, niveau_education_Numérique` from demographie table 2) `nombre_personnes_maison, nombre_chambres_maison` from the demographie_clinique table 3) `TOUX_CHRONIQUE_REC, bmi_copd`  from the clinique table.\n",
    "You should limit your results to the first five rows. "
   ]
  },
  {
   "cell_type": "code",
   "execution_count": null,
   "id": "dcd2a899-66dd-4a65-b995-e46131e8390b",
   "metadata": {},
   "outputs": [],
   "source": []
  },
  {
   "cell_type": "markdown",
   "id": "2a0edce0-ab3f-478a-9d1c-da75e9f47758",
   "metadata": {},
   "source": [
    "**Task 1.4:** Put the SQL query `(without limiting number of rows)` you have used to combine columns in Task 1.3 into a string and assign it to the variable `query`. Please print your query object"
   ]
  },
  {
   "cell_type": "code",
   "execution_count": null,
   "id": "2c0113c7-8c64-483a-9902-43441126f4c7",
   "metadata": {},
   "outputs": [],
   "source": []
  },
  {
   "cell_type": "markdown",
   "id": "adea16df-dc2f-4917-9600-eb9837336045",
   "metadata": {},
   "source": [
    "**Task 1.5:**  Define a function named `wrangle` to create a pandas dataframe named `df`from your `query`. Be sure that the **`NUM_ORDRE`** is set as your index column. You need to create first a connection to database using sql connect method. You should not limit your query. "
   ]
  },
  {
   "cell_type": "code",
   "execution_count": null,
   "id": "d7c2627f-798a-4950-90db-b1b350e57ed0",
   "metadata": {},
   "outputs": [],
   "source": []
  },
  {
   "cell_type": "code",
   "execution_count": null,
   "id": "aa5e9f43-1076-41e7-b428-12ad89102a56",
   "metadata": {},
   "outputs": [],
   "source": [
    "# Verify the shape of df\n",
    "assert df.shape == (5055, 7 )"
   ]
  },
  {
   "cell_type": "markdown",
   "id": "ca1f8972-5839-4a52-aaea-290bcf74702c",
   "metadata": {},
   "source": [
    "**Task 1.6:** The pandas dataframe you created can also be found as csv file at the following link:\n",
    "- [df](https://raw.githubusercontent.com/pefura/IFPERA-data-science/main/database_ESR.csv)\n",
    "- Use df to calculate the number of person per room in this dataset and attached this column to df. You should name this column `person-room`"
   ]
  },
  {
   "cell_type": "code",
   "execution_count": null,
   "id": "5edb73fc-55d9-43ef-8bd7-7099c4b0229b",
   "metadata": {},
   "outputs": [],
   "source": []
  },
  {
   "cell_type": "markdown",
   "id": "d03f177a-3100-4416-8bfd-22d8b7abe0d2",
   "metadata": {},
   "source": [
    "**Task 1.7:** Is it any association between number of persons per room and level of education? "
   ]
  },
  {
   "cell_type": "code",
   "execution_count": null,
   "id": "84aa5361-f098-4b2f-91d2-88069d88ee88",
   "metadata": {},
   "outputs": [],
   "source": []
  },
  {
   "cell_type": "markdown",
   "id": "8a50afbe-9e2d-4ed0-a00c-0cc59062258a",
   "metadata": {},
   "source": [
    "**Task 1.8:** Create a table comparing the mean and standard deviation of bmi_copd in male and female. male is coded 1 and female 2"
   ]
  },
  {
   "cell_type": "code",
   "execution_count": null,
   "id": "b0e3d017-d540-4029-89f9-9031d2eb8230",
   "metadata": {},
   "outputs": [],
   "source": []
  },
  {
   "cell_type": "markdown",
   "id": "c4bf7513-88e1-4a51-9dd9-4a3a3b38ee61",
   "metadata": {},
   "source": [
    "**Task 1.9:** Compare bmi_copd in male and female"
   ]
  },
  {
   "cell_type": "code",
   "execution_count": null,
   "id": "2f25d350-1711-4f9a-a62e-f171daaa9304",
   "metadata": {},
   "outputs": [],
   "source": []
  },
  {
   "cell_type": "markdown",
   "id": "148c3d0b-32e6-4b41-b2f6-001c230cfad8",
   "metadata": {},
   "source": [
    "##### **Part 2**: **For this part you will work on the speechs given by former US president Donald Trump. the compressed file containing all of his speeches is available at:**\n",
    "- [Speeches-20230715T175601Z-001.zip](https://github.com/pefura/IFPERA-data-science/blob/main/Speeches-20230715T175601Z-001.zip)\n",
    "- It is advisable to unzip the file in your local computer or your working environment before carrying out the preprocessing of the data.\n",
    "\n",
    "- Click on `view raw` or on `raw`to download the database on your local machine\n",
    "- Your role is to analyze this database to help a future candidate opposed to Trump."
   ]
  },
  {
   "cell_type": "code",
   "execution_count": 216,
   "id": "9ba95327-4401-4abd-92f5-70ff694973d1",
   "metadata": {},
   "outputs": [],
   "source": [
    "# import libraries here\n"
   ]
  },
  {
   "cell_type": "markdown",
   "id": "a943f9b7-cbad-42d0-a0e0-15255d30c633",
   "metadata": {},
   "source": [
    "**Task 2.1:**  Define a function named `dataframe_from_text` to create a pandas dataframe named `df`from your `directory`. Use the docstring below to help you define the function. The function should have one argument (namely the path of the directory containing all the files). You must 1)create a list of each file name as in directory without`.txt` extension(for example: `BattleCreekDec19_2019`) 2)Use content manager to create the content of all correponding speeches 3) Create and empty dataframe and then add file names and contents. **Don't forget to remove squared brackets [ ] in each content.**"
   ]
  },
  {
   "cell_type": "code",
   "execution_count": null,
   "id": "47254016-b640-4d5c-b8d7-9cd276e12337",
   "metadata": {},
   "outputs": [],
   "source": [
    "def dataframe_from_text(...):\n",
    "    # read all the files in the directory \n",
    "    ...\n",
    "    # Find the name of each file and put the names in a list using for loop\n",
    "    file_names = []\n",
    "    \n",
    "    # read each content from directory using contents manager and for loop. \n",
    "    # Use LATIN-1 encoding in context manager\n",
    "    contents= []\n",
    "    \n",
    "    # create a dataframe with file_names and contents\n",
    "    df = pd.DataFrame() # This is and empty dataframe\n",
    "    ...\n",
    "    ...\n",
    "    \n",
    "    return ..."
   ]
  },
  {
   "cell_type": "markdown",
   "id": "9393d261-14c5-4455-b27e-3440e56bb0dd",
   "metadata": {},
   "source": [
    "**Task 2.2:** Use `dataframe_from_text` to create df of the correspondind database `Speeches-20230715T175601Z-001.zip`"
   ]
  },
  {
   "cell_type": "code",
   "execution_count": null,
   "id": "f7eab5ca-38fa-4dec-b995-922734286d8e",
   "metadata": {},
   "outputs": [],
   "source": []
  },
  {
   "cell_type": "code",
   "execution_count": 146,
   "id": "651ff700-745c-42cf-b7e0-1c948a3c8da2",
   "metadata": {},
   "outputs": [],
   "source": [
    "# Verify your answer here\n",
    "assert df.shape == (35, 2)"
   ]
  },
  {
   "cell_type": "markdown",
   "id": "ac89e458-dbd2-420c-81b6-396ba41a43be",
   "metadata": {},
   "source": [
    "**Task 2.3:** Use the pattern of `months` in file_names to write a function `city` to create `city column` in df. It should be easier to use  `find method`. The cities are the places where the speeches were held."
   ]
  },
  {
   "cell_type": "code",
   "execution_count": null,
   "id": "40bf8014-19aa-4fcd-a3fb-8ffbd83ad66f",
   "metadata": {},
   "outputs": [],
   "source": [
    "months = [\"Jan\", \"Feb\", \"Mar\", \"Apr\", \"May\", \"Jun\", \"Jul\", \"Aug\", \"Sep\", \"Oct\", \"Nov\", \"Dec\"]\n",
    "def city(file_name):\n",
    "    # write a for loop here (with combination of if condition) and it will be easier to use \"find method\"\n",
    "    ...\n",
    "    return city"
   ]
  },
  {
   "cell_type": "code",
   "execution_count": 168,
   "id": "c8ec4a2c-59a7-4bda-954b-d148e3d23ddf",
   "metadata": {},
   "outputs": [],
   "source": [
    "# Apply the function \"city\" to file_names column to insert city column in df\n",
    "..."
   ]
  },
  {
   "cell_type": "markdown",
   "id": "1196608f-eaac-4351-bf11-330d0ddf58ec",
   "metadata": {},
   "source": [
    "**Task 2.4:** Complete  `city function` in order to create `date column` in df. "
   ]
  },
  {
   "cell_type": "code",
   "execution_count": null,
   "id": "ba6499f6-e052-4ab5-ab5c-e8ba8952649c",
   "metadata": {},
   "outputs": [],
   "source": [
    "def date(file_name):\n",
    "  # Complete the function\n",
    "    ...\n",
    "    return date"
   ]
  },
  {
   "cell_type": "code",
   "execution_count": null,
   "id": "2925f0e5-9e38-444f-9802-569189d21f8e",
   "metadata": {},
   "outputs": [],
   "source": [
    "# Apply the function \"date\" to file_names column to insert date column in df\n",
    "..."
   ]
  },
  {
   "cell_type": "code",
   "execution_count": null,
   "id": "17144af9-9bce-4fff-b533-07ca02916da0",
   "metadata": {},
   "outputs": [],
   "source": [
    "# Verify your output here\n",
    "assert df.shape ==(35, 4)\n",
    "assert df[\"date\"][14] == \"Feb21_2020\""
   ]
  },
  {
   "cell_type": "markdown",
   "id": "480796e9-6ea9-4149-8ad1-cfc92e004d4f",
   "metadata": {},
   "source": [
    "**Task 2.5:** Use `to_datetime method in pandas` to transform date column to datetime variable. The format should be in the form `year-month-day` (for example:2019-12-19) "
   ]
  },
  {
   "cell_type": "code",
   "execution_count": 174,
   "id": "9cd4e650-9f7e-49eb-b412-781214bb8470",
   "metadata": {},
   "outputs": [],
   "source": []
  },
  {
   "cell_type": "markdown",
   "id": "5e487edb-f8e7-4427-b18e-c872f8af19cb",
   "metadata": {},
   "source": [
    "**Task 2.6:** Create three columns in df, namely `year`, `month` and `weekday (this is the day of the week)` columns from `date column`. monday is set as 0 and sunday as 6. "
   ]
  },
  {
   "cell_type": "code",
   "execution_count": null,
   "id": "540cd1d9-f87d-48e8-b8e9-7ce04066fb4d",
   "metadata": {},
   "outputs": [],
   "source": []
  },
  {
   "cell_type": "markdown",
   "id": "e4581575-e97f-457e-bf12-bc27539fae48",
   "metadata": {},
   "source": [
    "**Task 2.7:** Use the tasks above `(from task 2.1, 2.3 to task 2.6)` to complete `dataframe_from_text` in order to create a unique function named `wrangle_text` to produce dataframe df from ditrectory. This function should have one argument. "
   ]
  },
  {
   "cell_type": "code",
   "execution_count": null,
   "id": "64e86e7d-c996-4ab3-9d42-74d9a458b5a4",
   "metadata": {},
   "outputs": [],
   "source": []
  },
  {
   "cell_type": "markdown",
   "id": "26105b92-e63a-4928-a86d-dc51a3f7e89f",
   "metadata": {},
   "source": [
    "**Task 2.8:** What were the most used  `day of the week ` and the most use  `month ` during the Trump campaign?"
   ]
  },
  {
   "cell_type": "code",
   "execution_count": null,
   "id": "7d534684-fd11-4e06-9e51-576e3feca2e5",
   "metadata": {},
   "outputs": [],
   "source": []
  },
  {
   "cell_type": "markdown",
   "id": "0688efde-905e-47b9-bd81-a877495ef673",
   "metadata": {},
   "source": [
    "**Task 2.9:** What were the most used words by President Trump?"
   ]
  },
  {
   "cell_type": "code",
   "execution_count": null,
   "id": "1db10f1e-52d0-4d82-933c-04a0a537d6aa",
   "metadata": {},
   "outputs": [],
   "source": []
  },
  {
   "cell_type": "markdown",
   "id": "472d3a73-d489-4f56-bed9-db4942627ccd",
   "metadata": {},
   "source": [
    "**Task 2.10:** What are the prevailing sentiment and prevailing subjectivity in these speeches"
   ]
  },
  {
   "cell_type": "code",
   "execution_count": null,
   "id": "f9cecab3-4acf-45c2-8b1c-a04d1a2e9b30",
   "metadata": {},
   "outputs": [],
   "source": []
  }
 ],
 "metadata": {
  "kernelspec": {
   "display_name": "Python 3 (ipykernel)",
   "language": "python",
   "name": "python3"
  },
  "language_info": {
   "codemirror_mode": {
    "name": "ipython",
    "version": 3
   },
   "file_extension": ".py",
   "mimetype": "text/x-python",
   "name": "python",
   "nbconvert_exporter": "python",
   "pygments_lexer": "ipython3",
   "version": "3.11.3"
  }
 },
 "nbformat": 4,
 "nbformat_minor": 5
}
