{
 "cells": [
  {
   "cell_type": "markdown",
   "id": "7873641f-8734-49fb-a636-a0b68e341359",
   "metadata": {},
   "source": [
    "## **[Objectif: Maîtriser SQL]()** \n",
    "#### Le projet de cette semaine porte sur le SQL et la manipulation des bases des données relationnelles\n",
    "#### Date de soumission: jeudi 15 juin 2023 à 22 H"
   ]
  },
  {
   "cell_type": "markdown",
   "id": "db4b8ab3-1e50-4356-9f5e-d8d9713f4455",
   "metadata": {},
   "source": [
    "##### Nous travaillerons dans cette partie avec une base des données du championnat de baskett ball américain (NBA)\n",
    "##### Cette base est au format compressé et disponible publiquement dans kaggle et  accessible à l'adresse:\n",
    "- [baskettball_data (url)](https://drive.google.com/file/d/17T1SQdChPn6JTpdLnd8VGWSOVGeWCL6W/view?usp=sharing)\n",
    "- Vous devez obtenir une version décompresser directement dans votre environement de travail ou dans votre disque local"
   ]
  },
  {
   "cell_type": "markdown",
   "id": "f622d7c5-d832-4d5c-a906-97dccd3fc2ce",
   "metadata": {},
   "source": [
    "##### `Importer les librairies necéssaires pour travailler avec une application de gestion SQL avec python (sqlite3)`"
   ]
  },
  {
   "cell_type": "code",
   "execution_count": 1,
   "id": "4783c747-0d3c-4d81-88ff-b2b60659e085",
   "metadata": {},
   "outputs": [],
   "source": [
    "import sqlite3\n",
    "import pandas as pd"
   ]
  },
  {
   "cell_type": "code",
   "execution_count": 12,
   "id": "d3448bbe-4215-48fe-9d75-216fb87c2b67",
   "metadata": {},
   "outputs": [
    {
     "name": "stdout",
     "output_type": "stream",
     "text": [
      "The sql extension is already loaded. To reload it, use:\n",
      "  %reload_ext sql\n"
     ]
    }
   ],
   "source": [
    "%load_ext sql\n",
    "%sql sqlite:////Users/DDD/Downloads/data/data.sqlite"
   ]
  },
  {
   "cell_type": "markdown",
   "id": "8ab74290-3852-4aa0-9b4b-05f623510ed4",
   "metadata": {},
   "source": [
    "**Tâche 1.1:** Initialiser sqlite3 et accéder à la base des données"
   ]
  },
  {
   "cell_type": "code",
   "execution_count": 6,
   "id": "a6c23e49-9a9d-45ad-859a-bdb9f88559f3",
   "metadata": {},
   "outputs": [
    {
     "name": "stdout",
     "output_type": "stream",
     "text": [
      "The sql extension is already loaded. To reload it, use:\n",
      "  %reload_ext sql\n"
     ]
    }
   ],
   "source": [
    "## Vous devez modifier la séquence suivante (Users/DDD/Downloads/basketball.sqlite/basketball.sqlite) \n",
    "# en fonction de la localisation du fichier dans votre ordinateur\n",
    "%load_ext sql\n",
    "%sql sqlite:////Users/DDD/Downloads/basketball.sqlite/basketball.sqlite "
   ]
  },
  {
   "cell_type": "markdown",
   "id": "fb1911d8-bb1c-4d96-afb2-d4c63d7cc6ea",
   "metadata": {},
   "source": [
    "**Tâche 1.2:** Faire votre première réquête dans la base en affichant son contenu\n",
    "- [SQL: exposé de compréhension](https://www.i3s.unice.fr/~edemaria/cours/c4.pdf)\n",
    "- [SQL: bases et fonctions](https://fxjollois.github.io/cours-sql/)\n",
    "- Pour communiquer avec sqlite, chaque cellule de codes de jupyter doit commencer par '%%sql'"
   ]
  },
  {
   "cell_type": "markdown",
   "id": "c6a44194-f57f-40c9-99a0-9a31fb7f976f",
   "metadata": {},
   "source": [
    "##### Utiliser la fonction SELECT  pour avoir accés aux informations et tables de la base"
   ]
  },
  {
   "cell_type": "code",
   "execution_count": 12,
   "id": "ac964fef-81e5-4bf3-8033-b6469481b5c6",
   "metadata": {},
   "outputs": [
    {
     "name": "stdout",
     "output_type": "stream",
     "text": [
      " * sqlite:////Users/DDD/Downloads/basketball.sqlite/basketball.sqlite\n",
      "Done.\n"
     ]
    },
    {
     "data": {
      "text/html": [
       "<table>\n",
       "    <thead>\n",
       "        <tr>\n",
       "            <th>type</th>\n",
       "            <th>name</th>\n",
       "            <th>tbl_name</th>\n",
       "            <th>rootpage</th>\n",
       "            <th>sql</th>\n",
       "        </tr>\n",
       "    </thead>\n",
       "    <tbody>\n",
       "        <tr>\n",
       "            <td>table</td>\n",
       "            <td>Player</td>\n",
       "            <td>Player</td>\n",
       "            <td>2</td>\n",
       "            <td>CREATE TABLE &quot;Player&quot; (<br>&quot;id&quot; TEXT,<br>  &quot;full_name&quot; TEXT,<br>  &quot;first_name&quot; TEXT,<br>  &quot;last_name&quot; TEXT,<br>  &quot;is_active&quot; INTEGER<br>)</td>\n",
       "        </tr>\n",
       "        <tr>\n",
       "            <td>table</td>\n",
       "            <td>Team</td>\n",
       "            <td>Team</td>\n",
       "            <td>4</td>\n",
       "            <td>CREATE TABLE &quot;Team&quot; (<br>&quot;id&quot; TEXT,<br>  &quot;full_name&quot; TEXT,<br>  &quot;abbreviation&quot; TEXT,<br>  &quot;nickname&quot; TEXT,<br>  &quot;city&quot; TEXT,<br>  &quot;state&quot; TEXT,<br>  &quot;year_founded&quot; INTEGER<br>)</td>\n",
       "        </tr>\n",
       "        <tr>\n",
       "            <td>table</td>\n",
       "            <td>Team_Attributes</td>\n",
       "            <td>Team_Attributes</td>\n",
       "            <td>5</td>\n",
       "            <td>CREATE TABLE &quot;Team_Attributes&quot; (<br>&quot;ID&quot; TEXT,<br>  &quot;ABBREVIATION&quot; TEXT,<br>  &quot;NICKNAME&quot; TEXT,<br>  &quot;YEARFOUNDED&quot; TEXT,<br>  &quot;CITY&quot; TEXT,<br>  &quot;ARENA&quot; TEXT,<br>  &quot;ARENACAPACITY&quot; REAL,<br>  &quot;OWNER&quot; TEXT,<br>  &quot;GENERALMANAGER&quot; TEXT,<br>  &quot;HEADCOACH&quot; TEXT,<br>  &quot;DLEAGUEAFFILIATION&quot; TEXT,<br>  &quot;FACEBOOK_WEBSITE_LINK&quot; TEXT,<br>  &quot;INSTAGRAM_WEBSITE_LINK&quot; TEXT,<br>  &quot;TWITTER_WEBSITE_LINK&quot; TEXT<br>)</td>\n",
       "        </tr>\n",
       "        <tr>\n",
       "            <td>table</td>\n",
       "            <td>Team_History</td>\n",
       "            <td>Team_History</td>\n",
       "            <td>6</td>\n",
       "            <td>CREATE TABLE &quot;Team_History&quot; (<br>&quot;ID&quot; TEXT,<br>  &quot;CITY&quot; TEXT,<br>  &quot;NICKNAME&quot; TEXT,<br>  &quot;YEARFOUNDED&quot; TEXT,<br>  &quot;YEARACTIVETILL&quot; TEXT<br>)</td>\n",
       "        </tr>\n",
       "        <tr>\n",
       "            <td>table</td>\n",
       "            <td>Player_Attributes</td>\n",
       "            <td>Player_Attributes</td>\n",
       "            <td>15</td>\n",
       "            <td>CREATE TABLE &quot;Player_Attributes&quot; (<br>&quot;ID&quot; TEXT,<br>  &quot;FIRST_NAME&quot; TEXT,<br>  &quot;LAST_NAME&quot; TEXT,<br>  &quot;DISPLAY_FIRST_LAST&quot; TEXT,<br>  &quot;DISPLAY_LAST_COMMA_FIRST&quot; TEXT,<br>  &quot;DISPLAY_FI_LAST&quot; TEXT,<br>  &quot;PLAYER_SLUG&quot; TEXT,<br>  &quot;BIRTHDATE&quot; TEXT,<br>  &quot;SCHOOL&quot; TEXT,<br>  &quot;COUNTRY&quot; TEXT,<br>  &quot;LAST_AFFILIATION&quot; TEXT,<br>  &quot;HEIGHT&quot; REAL,<br>  &quot;WEIGHT&quot; REAL,<br>  &quot;SEASON_EXP&quot; INTEGER,<br>  &quot;JERSEY&quot; TEXT,<br>  &quot;POSITION&quot; TEXT,<br>  &quot;ROSTERSTATUS&quot; TEXT,<br>  &quot;GAMES_PLAYED_CURRENT_SEASON_FLAG&quot; TEXT,<br>  &quot;TEAM_ID&quot; TEXT,<br>  &quot;TEAM_NAME&quot; TEXT,<br>  &quot;TEAM_ABBREVIATION&quot; TEXT,<br>  &quot;TEAM_CODE&quot; TEXT,<br>  &quot;TEAM_CITY&quot; TEXT,<br>  &quot;PLAYERCODE&quot; TEXT,<br>  &quot;FROM_YEAR&quot; TEXT,<br>  &quot;TO_YEAR&quot; TEXT,<br>  &quot;DLEAGUE_FLAG&quot; TEXT,<br>  &quot;NBA_FLAG&quot; TEXT,<br>  &quot;GAMES_PLAYED_FLAG&quot; TEXT,<br>  &quot;DRAFT_YEAR&quot; TEXT,<br>  &quot;DRAFT_ROUND&quot; TEXT,<br>  &quot;DRAFT_NUMBER&quot; TEXT,<br>  &quot;PTS&quot; REAL,<br>  &quot;AST&quot; REAL,<br>  &quot;REB&quot; REAL,<br>  &quot;ALL_STAR_APPEARANCES&quot; REAL,<br>  &quot;PIE&quot; REAL<br>)</td>\n",
       "        </tr>\n",
       "        <tr>\n",
       "            <td>table</td>\n",
       "            <td>Game_Officials</td>\n",
       "            <td>Game_Officials</td>\n",
       "            <td>8375</td>\n",
       "            <td>CREATE TABLE &quot;Game_Officials&quot; (<br>&quot;OFFICIAL_ID&quot; TEXT,<br>  &quot;FIRST_NAME&quot; TEXT,<br>  &quot;LAST_NAME&quot; TEXT,<br>  &quot;JERSEY_NUM&quot; TEXT,<br>  &quot;GAME_ID&quot; TEXT<br>)</td>\n",
       "        </tr>\n",
       "        <tr>\n",
       "            <td>table</td>\n",
       "            <td>Game_Inactive_Players</td>\n",
       "            <td>Game_Inactive_Players</td>\n",
       "            <td>8997</td>\n",
       "            <td>CREATE TABLE &quot;Game_Inactive_Players&quot; (<br>&quot;PLAYER_ID&quot; TEXT,<br>  &quot;FIRST_NAME&quot; TEXT,<br>  &quot;LAST_NAME&quot; TEXT,<br>  &quot;JERSEY_NUM&quot; TEXT,<br>  &quot;TEAM_ID&quot; TEXT,<br>  &quot;TEAM_CITY&quot; TEXT,<br>  &quot;TEAM_NAME&quot; TEXT,<br>  &quot;TEAM_ABBREVIATION&quot; TEXT,<br>  &quot;GAME_ID&quot; TEXT<br>)</td>\n",
       "        </tr>\n",
       "        <tr>\n",
       "            <td>table</td>\n",
       "            <td>Team_Salary</td>\n",
       "            <td>Team_Salary</td>\n",
       "            <td>13415</td>\n",
       "            <td>CREATE TABLE `Team_Salary` (<br>  `nameTeam` TEXT,<br>  `slugTeam` TEXT,<br>  `urlTeamSalaryHoopsHype` TEXT,<br>  `X2020-21` REAL,<br>  `X2021-22` REAL,<br>  `X2022-23` REAL,<br>  `X2023-24` REAL,<br>  `X2024-25` REAL,<br>  `X2025-26` REAL<br>)</td>\n",
       "        </tr>\n",
       "        <tr>\n",
       "            <td>table</td>\n",
       "            <td>Player_Salary</td>\n",
       "            <td>Player_Salary</td>\n",
       "            <td>23558</td>\n",
       "            <td>CREATE TABLE `Player_Salary` (<br>  `slugSeason` TEXT,<br>  `nameTeam` TEXT,<br>  `namePlayer` TEXT,<br>  `statusPlayer` TEXT,<br>  `isFinalSeason` INTEGER,<br>  `isWaived` INTEGER,<br>  `isOnRoster` INTEGER,<br>  `isNonGuaranteed` INTEGER,<br>  `isTeamOption` INTEGER,<br>  `isPlayerOption` INTEGER,<br>  `typeContractDetail` TEXT,<br>  `value` REAL<br>)</td>\n",
       "        </tr>\n",
       "        <tr>\n",
       "            <td>table</td>\n",
       "            <td>Draft</td>\n",
       "            <td>Draft</td>\n",
       "            <td>23559</td>\n",
       "            <td>CREATE TABLE `Draft` (<br>  `yearDraft` REAL,<br>  `numberPickOverall` REAL,<br>  `numberRound` REAL,<br>  `numberRoundPick` REAL,<br>  `namePlayer` TEXT,<br>  `slugTeam` TEXT,<br>  `nameOrganizationFrom` TEXT,<br>  `typeOrganizationFrom` TEXT,<br>  `idPlayer` REAL,<br>  `idTeam` REAL,<br>  `nameTeam` TEXT,<br>  `cityTeam` TEXT,<br>  `teamName` TEXT,<br>  `PLAYER_PROFILE_FLAG` REAL,<br>  `slugOrganizationTypeFrom` TEXT,<br>  `locationOrganizationFrom` TEXT<br>)</td>\n",
       "        </tr>\n",
       "        <tr>\n",
       "            <td>table</td>\n",
       "            <td>Draft_Combine</td>\n",
       "            <td>Draft_Combine</td>\n",
       "            <td>23562</td>\n",
       "            <td>CREATE TABLE `Draft_Combine` (<br>  `yearCombine` INTEGER,<br>  `idPlayer` REAL,<br>  `nameFirst` TEXT,<br>  `nameLast` TEXT,<br>  `namePlayer` TEXT,<br>  `slugPosition` TEXT,<br>  `heightWOShoesInches` REAL,<br>  `heightWOShoes` TEXT,<br>  `weightLBS` REAL,<br>  `wingspanInches` REAL,<br>  `wingspan` TEXT,<br>  `reachStandingInches` REAL,<br>  `reachStandingO` TEXT,<br>  `verticalLeapStandingInches` REAL,<br>  `verticalLeapMaxInches` REAL,<br>  `timeLaneAgility` REAL,<br>  `timeThreeQuarterCourtSprint` REAL,<br>  `repsBenchPress135` REAL,<br>  `pctBodyFat` REAL,<br>  `heightWShoesInches` REAL,<br>  `heightWShoes` TEXT,<br>  `lengthHandInches` REAL,<br>  `widthHandInches` REAL,<br>  `timeModifiedLaneAgility` REAL,<br>  `setSpot15CornerLeft` TEXT,<br>  `setSpot15BreakLeft` TEXT,<br>  `setSpot15TopKey` TEXT,<br>  `setSpot15BreakRight` TEXT,<br>  `setSpot15CornerRight` TEXT,<br>  `setSpot15CornerLeftCollege` TEXT,<br>  `setSpot15BreakLeftCollege` TEXT,<br>  `setSpot15TopKeyCollege` TEXT,<br>  `setSpot15BreakRightCollege` TEXT,<br>  `setSpot15CornerRightCollege` TEXT,<br>  `setSpot15CornerLeftNBA` TEXT,<br>  `setSpot15BreakLeftNBA` TEXT,<br>  `setSpot15TopKeyNBA` TEXT,<br>  `setSpotBreakRightNBA` TEXT,<br>  `setSpotCornerRightNBA` TEXT,<br>  `setSpot15CornerLeftMade` REAL,<br>  `setSpot15CornerLeftAttempted` REAL,<br>  `setSpot15CornerLeftPct` REAL,<br>  `setSpot15BreakLeftMade` REAL,<br>  `setSpot15BreakLeftAttempted` REAL,<br>  `setSpot15BreakLeftPct` REAL,<br>  `setSpot15TopKeyMade` REAL,<br>  `setSpot15TopKeyAttempted` REAL,<br>  `setSpot15TopKeyPct` REAL,<br>  `setSpot15BreakRightMade` REAL,<br>  `setSpot15BreakRightAttempted` REAL,<br>  `setSpot15BreakRightPct` REAL,<br>  `setSpot15CornerRightMade` REAL,<br>  `setSpot15CornerRightAttempted` REAL,<br>  `setSpot15CornerRightPct` REAL,<br>  `setSpot15CornerLeftCollegeMade` REAL,<br>  `setSpot15CornerLeftCollegeAttempted` REAL,<br>  `setSpot15CornerLeftCollegePct` REAL,<br>  `setSpot15BreakLeftCollegeMade` REAL,<br>  `setSpot15BreakLeftCollegeAttempted` REAL,<br>  `setSpot15BreakLeftCollegePct` REAL,<br>  `setSpot15TopKeyCollegeMade` REAL,<br>  `setSpot15TopKeyCollegeAttempted` REAL,<br>  `setSpot15TopKeyCollegePct` REAL,<br>  `setSpot15BreakRightCollegeMade` REAL,<br>  `setSpot15BreakRightCollegeAttempted` REAL,<br>  `setSpot15BreakRightCollegePct` REAL,<br>  `setSpot15CornerRightCollegeMade` REAL,<br>  `setSpot15CornerRightCollegeAttempted` REAL,<br>  `setSpot15CornerRightCollegePct` REAL,<br>  `setSpot15CornerLeftNBAMade` REAL,<br>  `setSpot15CornerLeftNBAAttempted` REAL,<br>  `setSpot15CornerLeftNBAPct` REAL,<br>  `setSpot15BreakLeftNBAMade` REAL,<br>  `setSpot15BreakLeftNBAAttempted` REAL,<br>  `setSpot15BreakLeftNBAPct` REAL,<br>  `setSpot15TopKeyNBAMade` REAL,<br>  `setSpot15TopKeyNBAAttempted` REAL,<br>  `setSpot15TopKeyNBAPct` REAL,<br>  `setSpotBreakRightNBAMade` REAL,<br>  `setSpotBreakRightNBAAttempted` REAL,<br>  `setSpotBreakRightNBAPct` REAL,<br>  `setSpotCornerRightNBAMade` REAL,<br>  `setSpotCornerRightNBAAttempted` REAL,<br>  `setSpotCornerRightNBAPct` REAL,<br>  `setOffDrib15BreakLeft` TEXT,<br>  `setSpotOffDrib15TopKey` TEXT,<br>  `setOffDrib15BreakRight` TEXT,<br>  `setOnMove15` TEXT,<br>  `setOnMoveCollege` TEXT,<br>  `setOffDrib15BreakLeftMade` REAL,<br>  `setOffDrib15BreakLeftAttempted` REAL,<br>  `setOffDrib15BreakLeftPct` REAL,<br>  `setSpotOffDrib15TopKeyMade` REAL,<br>  `setSpotOffDrib15TopKeyAttempted` REAL,<br>  `setSpotOffDrib15TopKeyPct` REAL,<br>  `setOffDrib15BreakRightMade` REAL,<br>  `setOffDrib15BreakRightAttempted` REAL,<br>  `setOffDrib15BreakRightPct` REAL,<br>  `setOnMove15Made` REAL,<br>  `setOnMove15Attempted` REAL,<br>  `setOnMove15Pct` REAL,<br>  `setOnMoveCollegeMade` REAL,<br>  `setOnMoveCollegeAttempted` REAL,<br>  `setOnMoveCollegePct` REAL,<br>  `setOffDribBreakLeftCollege` TEXT,<br>  `setOffDribTopKeyCollege` TEXT,<br>  `setOffDribBreakRightCollege` TEXT,<br>  `setOffDribBreakLeftCollegeMade` REAL,<br>  `setOffDribBreakLeftCollegeAttempted` REAL,<br>  `setOffDribBreakLeftCollegePct` REAL,<br>  `setOffDribTopKeyCollegeMade` REAL,<br>  `setOffDribTopKeyCollegeAttempted` REAL,<br>  `setOffDribTopKeyCollegePct` REAL,<br>  `setOffDribBreakRightCollegeMade` REAL,<br>  `setOffDribBreakRightCollegeAttempted` REAL,<br>  `setOffDribBreakRightCollegePct` REAL<br>)</td>\n",
       "        </tr>\n",
       "        <tr>\n",
       "            <td>table</td>\n",
       "            <td>Player_Photos</td>\n",
       "            <td>Player_Photos</td>\n",
       "            <td>23565</td>\n",
       "            <td>CREATE TABLE `Player_Photos` (<br>  `isActive` INTEGER,<br>  `isRookie` INTEGER,<br>  `namePlayer` TEXT,<br>  `idPlayer` REAL,<br>  `countSeasons` REAL,<br>  `yearSeasonFirst` REAL,<br>  `yearSeasonLast` REAL,<br>  `idTeam` REAL,<br>  `hasGamesPlayedFlag` INTEGER,<br>  `urlPlayerStats` TEXT,<br>  `urlPlayerThumbnail` TEXT,<br>  `urlPlayerHeadshot` TEXT,<br>  `urlPlayerActionPhoto` TEXT,<br>  `hasHeadShot` INTEGER,<br>  `hasThumbnail` INTEGER,<br>  `hasAction` INTEGER,<br>  `urlPlayerPhoto` TEXT<br>)</td>\n",
       "        </tr>\n",
       "        <tr>\n",
       "            <td>table</td>\n",
       "            <td>Player_Bios</td>\n",
       "            <td>Player_Bios</td>\n",
       "            <td>22541</td>\n",
       "            <td>CREATE TABLE `Player_Bios` (<br>  `namePlayerBREF` TEXT,<br>  `urlPlayerBioBREF` TEXT,<br>  `nameTable` TEXT,<br>  `urlPlayerImageBREF` TEXT,<br>  `slugPlayerBREF` TEXT,<br>  `numberTransactionPlayer` INTEGER,<br>  `dateTransaction` REAL,<br>  `descriptionTransaction` TEXT,<br>  `isGLeagueMovement` INTEGER,<br>  `isDraft` INTEGER,<br>  `isSigned` INTEGER,<br>  `isWaived` INTEGER,<br>  `isTraded` INTEGER,<br>  `slugSeason` TEXT,<br>  `nameTeam` TEXT,<br>  `slugLeague` TEXT,<br>  `amountSalary` REAL,<br>  `detailsContract` TEXT,<br>  `namePronunciation` TEXT,<br>  `namePosition` TEXT,<br>  `heightInches` REAL,<br>  `weightLBS` REAL,<br>  `dateBirth` REAL,<br>  `locationBirthplace` TEXT,<br>  `cityBirthplace` TEXT,<br>  `stateBirthplace` TEXT,<br>  `nameCollege` TEXT,<br>  `nameHighSchool` TEXT,<br>  `dateNBADebut` REAL,<br>  `career length` TEXT,<br>  `yearsExperience` REAL,<br>  `nameTwitter` TEXT,<br>  `yearHighSchool` REAL,<br>  `rankHighSchool` REAL,<br>  `dateDeath` REAL,<br>  `high schools` TEXT,<br>  `descriptionRelatives` TEXT,<br>  `descriptionHOF` TEXT,<br>  `playerNicknames` TEXT,<br>  `colleges` TEXT<br>)</td>\n",
       "        </tr>\n",
       "        <tr>\n",
       "            <td>table</td>\n",
       "            <td>Game</td>\n",
       "            <td>Game</td>\n",
       "            <td>25</td>\n",
       "            <td>CREATE TABLE &quot;Game&quot; (<br>&quot;GAME_ID&quot; TEXT,<br>  &quot;SEASON_ID&quot; TEXT,<br>  &quot;TEAM_ID_HOME&quot; TEXT,<br>  &quot;TEAM_ABBREVIATION_HOME&quot; TEXT,<br>  &quot;TEAM_NAME_HOME&quot; TEXT,<br>  &quot;GAME_DATE&quot; TEXT,<br>  &quot;MATCHUP_HOME&quot; TEXT,<br>  &quot;WL_HOME&quot; TEXT,<br>  &quot;MIN_HOME&quot; INTEGER,<br>  &quot;FGM_HOME&quot; REAL,<br>  &quot;FGA_HOME&quot; TEXT,<br>  &quot;FG_PCT_HOME&quot; REAL,<br>  &quot;FG3M_HOME&quot; TEXT,<br>  &quot;FG3A_HOME&quot; TEXT,<br>  &quot;FG3_PCT_HOME&quot; REAL,<br>  &quot;FTM_HOME&quot; REAL,<br>  &quot;FTA_HOME&quot; REAL,<br>  &quot;FT_PCT_HOME&quot; REAL,<br>  &quot;OREB_HOME&quot; TEXT,<br>  &quot;DREB_HOME&quot; TEXT,<br>  &quot;REB_HOME&quot; TEXT,<br>  &quot;AST_HOME&quot; TEXT,<br>  &quot;STL_HOME&quot; TEXT,<br>  &quot;BLK_HOME&quot; TEXT,<br>  &quot;TOV_HOME&quot; TEXT,<br>  &quot;PF_HOME&quot; REAL,<br>  &quot;PTS_HOME&quot; INTEGER,<br>  &quot;PLUS_MINUS_HOME&quot; INTEGER,<br>  &quot;VIDEO_AVAILABLE_HOME&quot; INTEGER,<br>  &quot;TEAM_ID_AWAY&quot; TEXT,<br>  &quot;TEAM_ABBREVIATION_AWAY&quot; TEXT,<br>  &quot;TEAM_NAME_AWAY&quot; TEXT,<br>  &quot;MATCHUP_AWAY&quot; TEXT,<br>  &quot;WL_AWAY&quot; TEXT,<br>  &quot;MIN_AWAY&quot; INTEGER,<br>  &quot;FGM_AWAY&quot; REAL,<br>  &quot;FGA_AWAY&quot; TEXT,<br>  &quot;FG_PCT_AWAY&quot; REAL,<br>  &quot;FG3M_AWAY&quot; TEXT,<br>  &quot;FG3A_AWAY&quot; TEXT,<br>  &quot;FG3_PCT_AWAY&quot; REAL,<br>  &quot;FTM_AWAY&quot; REAL,<br>  &quot;FTA_AWAY&quot; REAL,<br>  &quot;FT_PCT_AWAY&quot; REAL,<br>  &quot;OREB_AWAY&quot; TEXT,<br>  &quot;DREB_AWAY&quot; TEXT,<br>  &quot;REB_AWAY&quot; TEXT,<br>  &quot;AST_AWAY&quot; TEXT,<br>  &quot;STL_AWAY&quot; TEXT,<br>  &quot;BLK_AWAY&quot; TEXT,<br>  &quot;TOV_AWAY&quot; TEXT,<br>  &quot;PF_AWAY&quot; REAL,<br>  &quot;PTS_AWAY&quot; INTEGER,<br>  &quot;PLUS_MINUS_AWAY&quot; INTEGER,<br>  &quot;VIDEO_AVAILABLE_AWAY&quot; INTEGER,<br>  &quot;GAME_DATE_EST&quot; TEXT,<br>  &quot;GAME_SEQUENCE&quot; TEXT,<br>  &quot;GAME_STATUS_ID&quot; TEXT,<br>  &quot;GAME_STATUS_TEXT&quot; TEXT,<br>  &quot;GAMECODE&quot; TEXT,<br>  &quot;HOME_TEAM_ID&quot; TEXT,<br>  &quot;VISITOR_TEAM_ID&quot; TEXT,<br>  &quot;SEASON&quot; TEXT,<br>  &quot;LIVE_PERIOD&quot; REAL,<br>  &quot;LIVE_PC_TIME&quot; TEXT,<br>  &quot;NATL_TV_BROADCASTER_ABBREVIATION&quot; TEXT,<br>  &quot;LIVE_PERIOD_TIME_BCAST&quot; TEXT,<br>  &quot;WH_STATUS&quot; REAL,<br>  &quot;TEAM_CITY_HOME&quot; TEXT,<br>  &quot;PTS_PAINT_HOME&quot; TEXT,<br>  &quot;PTS_2ND_CHANCE_HOME&quot; TEXT,<br>  &quot;PTS_FB_HOME&quot; TEXT,<br>  &quot;LARGEST_LEAD_HOME&quot; TEXT,<br>  &quot;LEAD_CHANGES_HOME&quot; TEXT,<br>  &quot;TIMES_TIED_HOME&quot; TEXT,<br>  &quot;TEAM_TURNOVERS_HOME&quot; TEXT,<br>  &quot;TOTAL_TURNOVERS_HOME&quot; TEXT,<br>  &quot;TEAM_REBOUNDS_HOME&quot; TEXT,<br>  &quot;PTS_OFF_TO_HOME&quot; TEXT,<br>  &quot;TEAM_CITY_AWAY&quot; TEXT,<br>  &quot;PTS_PAINT_AWAY&quot; TEXT,<br>  &quot;PTS_2ND_CHANCE_AWAY&quot; TEXT,<br>  &quot;PTS_FB_AWAY&quot; TEXT,<br>  &quot;LARGEST_LEAD_AWAY&quot; TEXT,<br>  &quot;LEAD_CHANGES_AWAY&quot; TEXT,<br>  &quot;TIMES_TIED_AWAY&quot; TEXT,<br>  &quot;TEAM_TURNOVERS_AWAY&quot; TEXT,<br>  &quot;TOTAL_TURNOVERS_AWAY&quot; TEXT,<br>  &quot;TEAM_REBOUNDS_AWAY&quot; TEXT,<br>  &quot;PTS_OFF_TO_AWAY&quot; TEXT,<br>  &quot;LEAGUE_ID&quot; TEXT,<br>  &quot;GAME_DATE_DAY&quot; TEXT,<br>  &quot;ATTENDANCE&quot; TEXT,<br>  &quot;GAME_TIME&quot; TEXT,<br>  &quot;TEAM_CITY_NAME_HOME&quot; TEXT,<br>  &quot;TEAM_NICKNAME_HOME&quot; TEXT,<br>  &quot;TEAM_WINS_LOSSES_HOME&quot; TEXT,<br>  &quot;PTS_QTR1_HOME&quot; TEXT,<br>  &quot;PTS_QTR2_HOME&quot; TEXT,<br>  &quot;PTS_QTR3_HOME&quot; TEXT,<br>  &quot;PTS_QTR4_HOME&quot; TEXT,<br>  &quot;PTS_OT1_HOME&quot; TEXT,<br>  &quot;PTS_OT2_HOME&quot; TEXT,<br>  &quot;PTS_OT3_HOME&quot; TEXT,<br>  &quot;PTS_OT4_HOME&quot; TEXT,<br>  &quot;PTS_OT5_HOME&quot; TEXT,<br>  &quot;PTS_OT6_HOME&quot; TEXT,<br>  &quot;PTS_OT7_HOME&quot; TEXT,<br>  &quot;PTS_OT8_HOME&quot; TEXT,<br>  &quot;PTS_OT9_HOME&quot; TEXT,<br>  &quot;PTS_OT10_HOME&quot; TEXT,<br>  &quot;PTS_HOME_y&quot; REAL,<br>  &quot;TEAM_CITY_NAME_AWAY&quot; TEXT,<br>  &quot;TEAM_NICKNAME_AWAY&quot; TEXT,<br>  &quot;TEAM_WINS_LOSSES_AWAY&quot; TEXT,<br>  &quot;PTS_QTR1_AWAY&quot; TEXT,<br>  &quot;PTS_QTR2_AWAY&quot; TEXT,<br>  &quot;PTS_QTR3_AWAY&quot; TEXT,<br>  &quot;PTS_QTR4_AWAY&quot; TEXT,<br>  &quot;PTS_OT1_AWAY&quot; TEXT,<br>  &quot;PTS_OT2_AWAY&quot; TEXT,<br>  &quot;PTS_OT3_AWAY&quot; TEXT,<br>  &quot;PTS_OT4_AWAY&quot; TEXT,<br>  &quot;PTS_OT5_AWAY&quot; TEXT,<br>  &quot;PTS_OT6_AWAY&quot; TEXT,<br>  &quot;PTS_OT7_AWAY&quot; TEXT,<br>  &quot;PTS_OT8_AWAY&quot; TEXT,<br>  &quot;PTS_OT9_AWAY&quot; TEXT,<br>  &quot;PTS_OT10_AWAY&quot; TEXT,<br>  &quot;LAST_GAME_ID&quot; TEXT,<br>  &quot;LAST_GAME_DATE_EST&quot; TEXT,<br>  &quot;LAST_GAME_HOME_TEAM_ID&quot; TEXT,<br>  &quot;LAST_GAME_HOME_TEAM_CITY&quot; TEXT,<br>  &quot;LAST_GAME_HOME_TEAM_NAME&quot; TEXT,<br>  &quot;LAST_GAME_HOME_TEAM_ABBREVIATION&quot; TEXT,<br>  &quot;LAST_GAME_HOME_TEAM_POINTS&quot; TEXT,<br>  &quot;LAST_GAME_VISITOR_TEAM_ID&quot; TEXT,<br>  &quot;LAST_GAME_VISITOR_TEAM_CITY&quot; TEXT,<br>  &quot;LAST_GAME_VISITOR_TEAM_NAME&quot; TEXT,<br>  &quot;LAST_GAME_VISITOR_TEAM_CITY1&quot; TEXT,<br>  &quot;LAST_GAME_VISITOR_TEAM_POINTS&quot; TEXT,<br>  &quot;HOME_TEAM_WINS&quot; REAL,<br>  &quot;HOME_TEAM_LOSSES&quot; REAL,<br>  &quot;SERIES_LEADER&quot; TEXT,<br>  &quot;VIDEO_AVAILABLE_FLAG&quot; REAL,<br>  &quot;PT_AVAILABLE&quot; REAL,<br>  &quot;PT_XYZ_AVAILABLE&quot; REAL,<br>  &quot;HUSTLE_STATUS&quot; REAL,<br>  &quot;HISTORICAL_STATUS&quot; REAL<br>)</td>\n",
       "        </tr>\n",
       "        <tr>\n",
       "            <td>table</td>\n",
       "            <td>News</td>\n",
       "            <td>News</td>\n",
       "            <td>13142</td>\n",
       "            <td>CREATE TABLE &quot;News&quot; (<br>&quot;title&quot; TEXT,<br>  &quot;author&quot; TEXT,<br>  &quot;published_date&quot; TEXT,<br>  &quot;published_date_precision&quot; TEXT,<br>  &quot;link&quot; TEXT,<br>  &quot;clean_url&quot; TEXT,<br>  &quot;summary&quot; TEXT,<br>  &quot;rights&quot; TEXT,<br>  &quot;rank&quot; INTEGER,<br>  &quot;topic&quot; TEXT,<br>  &quot;country&quot; TEXT,<br>  &quot;language&quot; TEXT,<br>  &quot;authors&quot; TEXT,<br>  &quot;media&quot; TEXT,<br>  &quot;is_opinion&quot; INTEGER,<br>  &quot;twitter_account&quot; TEXT,<br>  &quot;_score&quot; REAL,<br>  &quot;_id&quot; TEXT,<br>  &quot;page_number&quot; INTEGER,<br>  &quot;query&quot; TEXT,<br>  &quot;text&quot; TEXT,<br>  &quot;top_image&quot; TEXT,<br>  &quot;images&quot; TEXT,<br>  &quot;movies&quot; TEXT,<br>  &quot;html&quot; TEXT,<br>  &quot;article_html&quot; TEXT,<br>  &quot;querystring_q&quot; TEXT,<br>  &quot;querystring_lang&quot; TEXT,<br>  &quot;querystring_page_size&quot; REAL,<br>  &quot;querystring_from&quot; TEXT,<br>  &quot;querystring_to&quot; TEXT,<br>  &quot;querystring_page&quot; REAL,<br>  &quot;scrape_date&quot; TEXT<br>)</td>\n",
       "        </tr>\n",
       "        <tr>\n",
       "            <td>table</td>\n",
       "            <td>News_Missing</td>\n",
       "            <td>News_Missing</td>\n",
       "            <td>198017</td>\n",
       "            <td>CREATE TABLE &quot;News_Missing&quot; (<br>&quot;link&quot; TEXT,<br>  &quot;exception&quot; TEXT,<br>  &quot;extraction_date&quot; DATE<br>)</td>\n",
       "        </tr>\n",
       "    </tbody>\n",
       "</table>"
      ],
      "text/plain": [
       "[('table', 'Player', 'Player', 2, 'CREATE TABLE \"Player\" (\\n\"id\" TEXT,\\n  \"full_name\" TEXT,\\n  \"first_name\" TEXT,\\n  \"last_name\" TEXT,\\n  \"is_active\" INTEGER\\n)'),\n",
       " ('table', 'Team', 'Team', 4, 'CREATE TABLE \"Team\" (\\n\"id\" TEXT,\\n  \"full_name\" TEXT,\\n  \"abbreviation\" TEXT,\\n  \"nickname\" TEXT,\\n  \"city\" TEXT,\\n  \"state\" TEXT,\\n  \"year_founded\" INTEGER\\n)'),\n",
       " ('table', 'Team_Attributes', 'Team_Attributes', 5, 'CREATE TABLE \"Team_Attributes\" (\\n\"ID\" TEXT,\\n  \"ABBREVIATION\" TEXT,\\n  \"NICKNAME\" TEXT,\\n  \"YEARFOUNDED\" TEXT,\\n  \"CITY\" TEXT,\\n  \"ARENA\" TEXT,\\n  \" ... (66 characters truncated) ...  \"HEADCOACH\" TEXT,\\n  \"DLEAGUEAFFILIATION\" TEXT,\\n  \"FACEBOOK_WEBSITE_LINK\" TEXT,\\n  \"INSTAGRAM_WEBSITE_LINK\" TEXT,\\n  \"TWITTER_WEBSITE_LINK\" TEXT\\n)'),\n",
       " ('table', 'Team_History', 'Team_History', 6, 'CREATE TABLE \"Team_History\" (\\n\"ID\" TEXT,\\n  \"CITY\" TEXT,\\n  \"NICKNAME\" TEXT,\\n  \"YEARFOUNDED\" TEXT,\\n  \"YEARACTIVETILL\" TEXT\\n)'),\n",
       " ('table', 'Player_Attributes', 'Player_Attributes', 15, 'CREATE TABLE \"Player_Attributes\" (\\n\"ID\" TEXT,\\n  \"FIRST_NAME\" TEXT,\\n  \"LAST_NAME\" TEXT,\\n  \"DISPLAY_FIRST_LAST\" TEXT,\\n  \"DISPLAY_LAST_COMMA_FIRST\" ... (569 characters truncated) ... R\" TEXT,\\n  \"DRAFT_ROUND\" TEXT,\\n  \"DRAFT_NUMBER\" TEXT,\\n  \"PTS\" REAL,\\n  \"AST\" REAL,\\n  \"REB\" REAL,\\n  \"ALL_STAR_APPEARANCES\" REAL,\\n  \"PIE\" REAL\\n)'),\n",
       " ('table', 'Game_Officials', 'Game_Officials', 8375, 'CREATE TABLE \"Game_Officials\" (\\n\"OFFICIAL_ID\" TEXT,\\n  \"FIRST_NAME\" TEXT,\\n  \"LAST_NAME\" TEXT,\\n  \"JERSEY_NUM\" TEXT,\\n  \"GAME_ID\" TEXT\\n)'),\n",
       " ('table', 'Game_Inactive_Players', 'Game_Inactive_Players', 8997, 'CREATE TABLE \"Game_Inactive_Players\" (\\n\"PLAYER_ID\" TEXT,\\n  \"FIRST_NAME\" TEXT,\\n  \"LAST_NAME\" TEXT,\\n  \"JERSEY_NUM\" TEXT,\\n  \"TEAM_ID\" TEXT,\\n  \"TEAM_CITY\" TEXT,\\n  \"TEAM_NAME\" TEXT,\\n  \"TEAM_ABBREVIATION\" TEXT,\\n  \"GAME_ID\" TEXT\\n)'),\n",
       " ('table', 'Team_Salary', 'Team_Salary', 13415, 'CREATE TABLE `Team_Salary` (\\n  `nameTeam` TEXT,\\n  `slugTeam` TEXT,\\n  `urlTeamSalaryHoopsHype` TEXT,\\n  `X2020-21` REAL,\\n  `X2021-22` REAL,\\n  `X2022-23` REAL,\\n  `X2023-24` REAL,\\n  `X2024-25` REAL,\\n  `X2025-26` REAL\\n)'),\n",
       " ('table', 'Player_Salary', 'Player_Salary', 23558, 'CREATE TABLE `Player_Salary` (\\n  `slugSeason` TEXT,\\n  `nameTeam` TEXT,\\n  `namePlayer` TEXT,\\n  `statusPlayer` TEXT,\\n  `isFinalSeason` INTEGER,\\n  ... (31 characters truncated) ... ster` INTEGER,\\n  `isNonGuaranteed` INTEGER,\\n  `isTeamOption` INTEGER,\\n  `isPlayerOption` INTEGER,\\n  `typeContractDetail` TEXT,\\n  `value` REAL\\n)'),\n",
       " ('table', 'Draft', 'Draft', 23559, 'CREATE TABLE `Draft` (\\n  `yearDraft` REAL,\\n  `numberPickOverall` REAL,\\n  `numberRound` REAL,\\n  `numberRoundPick` REAL,\\n  `namePlayer` TEXT,\\n  ` ... (133 characters truncated) ... EXT,\\n  `cityTeam` TEXT,\\n  `teamName` TEXT,\\n  `PLAYER_PROFILE_FLAG` REAL,\\n  `slugOrganizationTypeFrom` TEXT,\\n  `locationOrganizationFrom` TEXT\\n)'),\n",
       " ('table', 'Draft_Combine', 'Draft_Combine', 23562, 'CREATE TABLE `Draft_Combine` (\\n  `yearCombine` INTEGER,\\n  `idPlayer` REAL,\\n  `nameFirst` TEXT,\\n  `nameLast` TEXT,\\n  `namePlayer` TEXT,\\n  `slugP ... (3799 characters truncated) ... legePct` REAL,\\n  `setOffDribBreakRightCollegeMade` REAL,\\n  `setOffDribBreakRightCollegeAttempted` REAL,\\n  `setOffDribBreakRightCollegePct` REAL\\n)'),\n",
       " ('table', 'Player_Photos', 'Player_Photos', 23565, 'CREATE TABLE `Player_Photos` (\\n  `isActive` INTEGER,\\n  `isRookie` INTEGER,\\n  `namePlayer` TEXT,\\n  `idPlayer` REAL,\\n  `countSeasons` REAL,\\n  `ye ... (170 characters truncated) ... dshot` TEXT,\\n  `urlPlayerActionPhoto` TEXT,\\n  `hasHeadShot` INTEGER,\\n  `hasThumbnail` INTEGER,\\n  `hasAction` INTEGER,\\n  `urlPlayerPhoto` TEXT\\n)'),\n",
       " ('table', 'Player_Bios', 'Player_Bios', 22541, 'CREATE TABLE `Player_Bios` (\\n  `namePlayerBREF` TEXT,\\n  `urlPlayerBioBREF` TEXT,\\n  `nameTable` TEXT,\\n  `urlPlayerImageBREF` TEXT,\\n  `slugPlayerB ... (752 characters truncated) ...  `dateDeath` REAL,\\n  `high schools` TEXT,\\n  `descriptionRelatives` TEXT,\\n  `descriptionHOF` TEXT,\\n  `playerNicknames` TEXT,\\n  `colleges` TEXT\\n)'),\n",
       " ('table', 'Game', 'Game', 25, 'CREATE TABLE \"Game\" (\\n\"GAME_ID\" TEXT,\\n  \"SEASON_ID\" TEXT,\\n  \"TEAM_ID_HOME\" TEXT,\\n  \"TEAM_ABBREVIATION_HOME\" TEXT,\\n  \"TEAM_NAME_HOME\" TEXT,\\n  \"G ... (3563 characters truncated) ... ER\" TEXT,\\n  \"VIDEO_AVAILABLE_FLAG\" REAL,\\n  \"PT_AVAILABLE\" REAL,\\n  \"PT_XYZ_AVAILABLE\" REAL,\\n  \"HUSTLE_STATUS\" REAL,\\n  \"HISTORICAL_STATUS\" REAL\\n)'),\n",
       " ('table', 'News', 'News', 13142, 'CREATE TABLE \"News\" (\\n\"title\" TEXT,\\n  \"author\" TEXT,\\n  \"published_date\" TEXT,\\n  \"published_date_precision\" TEXT,\\n  \"link\" TEXT,\\n  \"clean_url\" T ... (437 characters truncated) ... ng\" TEXT,\\n  \"querystring_page_size\" REAL,\\n  \"querystring_from\" TEXT,\\n  \"querystring_to\" TEXT,\\n  \"querystring_page\" REAL,\\n  \"scrape_date\" TEXT\\n)'),\n",
       " ('table', 'News_Missing', 'News_Missing', 198017, 'CREATE TABLE \"News_Missing\" (\\n\"link\" TEXT,\\n  \"exception\" TEXT,\\n  \"extraction_date\" DATE\\n)')]"
      ]
     },
     "execution_count": 12,
     "metadata": {},
     "output_type": "execute_result"
    }
   ],
   "source": [
    "%%sql\n",
    "\n",
    "SELECT *\n",
    "FROM sqlite_schema"
   ]
  },
  {
   "cell_type": "markdown",
   "id": "63e60816-d86b-41ee-9aa6-9f52be7b244e",
   "metadata": {},
   "source": [
    "**Task 1.3:** Selectionner toutes les tables de la base\n",
    "- Compléter le code ci-dessous en utilisant la fonction 'WHERE' "
   ]
  },
  {
   "cell_type": "code",
   "execution_count": 16,
   "id": "fc6a1f92-265d-4d6e-8aa4-933fdfa7aead",
   "metadata": {},
   "outputs": [
    {
     "name": "stdout",
     "output_type": "stream",
     "text": [
      " * sqlite:////Users/DDD/Downloads/basketball.sqlite/basketball.sqlite\n",
      "Done.\n"
     ]
    },
    {
     "data": {
      "text/html": [
       "<table>\n",
       "    <thead>\n",
       "        <tr>\n",
       "            <th>name</th>\n",
       "        </tr>\n",
       "    </thead>\n",
       "    <tbody>\n",
       "        <tr>\n",
       "            <td>Player</td>\n",
       "        </tr>\n",
       "        <tr>\n",
       "            <td>Team</td>\n",
       "        </tr>\n",
       "        <tr>\n",
       "            <td>Team_Attributes</td>\n",
       "        </tr>\n",
       "        <tr>\n",
       "            <td>Team_History</td>\n",
       "        </tr>\n",
       "        <tr>\n",
       "            <td>Player_Attributes</td>\n",
       "        </tr>\n",
       "        <tr>\n",
       "            <td>Game_Officials</td>\n",
       "        </tr>\n",
       "        <tr>\n",
       "            <td>Game_Inactive_Players</td>\n",
       "        </tr>\n",
       "        <tr>\n",
       "            <td>Team_Salary</td>\n",
       "        </tr>\n",
       "        <tr>\n",
       "            <td>Player_Salary</td>\n",
       "        </tr>\n",
       "        <tr>\n",
       "            <td>Draft</td>\n",
       "        </tr>\n",
       "        <tr>\n",
       "            <td>Draft_Combine</td>\n",
       "        </tr>\n",
       "        <tr>\n",
       "            <td>Player_Photos</td>\n",
       "        </tr>\n",
       "        <tr>\n",
       "            <td>Player_Bios</td>\n",
       "        </tr>\n",
       "        <tr>\n",
       "            <td>Game</td>\n",
       "        </tr>\n",
       "        <tr>\n",
       "            <td>News</td>\n",
       "        </tr>\n",
       "        <tr>\n",
       "            <td>News_Missing</td>\n",
       "        </tr>\n",
       "    </tbody>\n",
       "</table>"
      ],
      "text/plain": [
       "[('Player',),\n",
       " ('Team',),\n",
       " ('Team_Attributes',),\n",
       " ('Team_History',),\n",
       " ('Player_Attributes',),\n",
       " ('Game_Officials',),\n",
       " ('Game_Inactive_Players',),\n",
       " ('Team_Salary',),\n",
       " ('Player_Salary',),\n",
       " ('Draft',),\n",
       " ('Draft_Combine',),\n",
       " ('Player_Photos',),\n",
       " ('Player_Bios',),\n",
       " ('Game',),\n",
       " ('News',),\n",
       " ('News_Missing',)]"
      ]
     },
     "execution_count": 16,
     "metadata": {},
     "output_type": "execute_result"
    }
   ],
   "source": [
    "%%sql\n",
    "\n",
    "SELECT  name \n",
    "FROM sqlite_schema\n",
    "WHERE type = \"table\""
   ]
  },
  {
   "cell_type": "markdown",
   "id": "bdfa68ac-8609-480b-99ae-d3ba422440e6",
   "metadata": {},
   "source": [
    "**Task 1.4:** Select all columns from the `Player` table and from `Player_salary`, limiting your results to the first five rows. Use two separate cells to execute your code\n",
    "- [SQL: bases et fonctions](https://fxjollois.github.io/cours-sql/)"
   ]
  },
  {
   "cell_type": "code",
   "execution_count": 17,
   "id": "560d7093-d8fd-41f3-8427-2b9e6722f35f",
   "metadata": {},
   "outputs": [
    {
     "name": "stdout",
     "output_type": "stream",
     "text": [
      " * sqlite:////Users/DDD/Downloads/basketball.sqlite/basketball.sqlite\n",
      "Done.\n"
     ]
    },
    {
     "data": {
      "text/html": [
       "<table>\n",
       "    <thead>\n",
       "        <tr>\n",
       "            <th>id</th>\n",
       "            <th>full_name</th>\n",
       "            <th>first_name</th>\n",
       "            <th>last_name</th>\n",
       "            <th>is_active</th>\n",
       "        </tr>\n",
       "    </thead>\n",
       "    <tbody>\n",
       "        <tr>\n",
       "            <td>76001</td>\n",
       "            <td>Alaa Abdelnaby</td>\n",
       "            <td>Alaa</td>\n",
       "            <td>Abdelnaby</td>\n",
       "            <td>0</td>\n",
       "        </tr>\n",
       "        <tr>\n",
       "            <td>76002</td>\n",
       "            <td>Zaid Abdul-Aziz</td>\n",
       "            <td>Zaid</td>\n",
       "            <td>Abdul-Aziz</td>\n",
       "            <td>0</td>\n",
       "        </tr>\n",
       "        <tr>\n",
       "            <td>76003</td>\n",
       "            <td>Kareem Abdul-Jabbar</td>\n",
       "            <td>Kareem</td>\n",
       "            <td>Abdul-Jabbar</td>\n",
       "            <td>0</td>\n",
       "        </tr>\n",
       "        <tr>\n",
       "            <td>51</td>\n",
       "            <td>Mahmoud Abdul-Rauf</td>\n",
       "            <td>Mahmoud</td>\n",
       "            <td>Abdul-Rauf</td>\n",
       "            <td>0</td>\n",
       "        </tr>\n",
       "        <tr>\n",
       "            <td>1505</td>\n",
       "            <td>Tariq Abdul-Wahad</td>\n",
       "            <td>Tariq</td>\n",
       "            <td>Abdul-Wahad</td>\n",
       "            <td>0</td>\n",
       "        </tr>\n",
       "    </tbody>\n",
       "</table>"
      ],
      "text/plain": [
       "[('76001', 'Alaa Abdelnaby', 'Alaa', 'Abdelnaby', 0),\n",
       " ('76002', 'Zaid Abdul-Aziz', 'Zaid', 'Abdul-Aziz', 0),\n",
       " ('76003', 'Kareem Abdul-Jabbar', 'Kareem', 'Abdul-Jabbar', 0),\n",
       " ('51', 'Mahmoud Abdul-Rauf', 'Mahmoud', 'Abdul-Rauf', 0),\n",
       " ('1505', 'Tariq Abdul-Wahad', 'Tariq', 'Abdul-Wahad', 0)]"
      ]
     },
     "execution_count": 17,
     "metadata": {},
     "output_type": "execute_result"
    }
   ],
   "source": [
    "%%sql\n",
    "SELECT *\n",
    "FROM Player\n",
    "lIMIT 5"
   ]
  },
  {
   "cell_type": "code",
   "execution_count": null,
   "id": "4d52a0a7-0bb2-4b7c-9fd4-13adce98e524",
   "metadata": {},
   "outputs": [],
   "source": []
  },
  {
   "cell_type": "code",
   "execution_count": 29,
   "id": "634165c9-3c60-4e72-8d30-4c1324eaa62b",
   "metadata": {},
   "outputs": [
    {
     "name": "stdout",
     "output_type": "stream",
     "text": [
      " * sqlite:////Users/DDD/Downloads/basketball.sqlite/basketball.sqlite\n",
      "Done.\n"
     ]
    },
    {
     "data": {
      "text/html": [
       "<table>\n",
       "    <thead>\n",
       "        <tr>\n",
       "            <th>slugSeason</th>\n",
       "            <th>nameTeam</th>\n",
       "            <th>namePlayer</th>\n",
       "            <th>statusPlayer</th>\n",
       "            <th>isFinalSeason</th>\n",
       "            <th>isWaived</th>\n",
       "            <th>isOnRoster</th>\n",
       "            <th>isNonGuaranteed</th>\n",
       "            <th>isTeamOption</th>\n",
       "            <th>isPlayerOption</th>\n",
       "            <th>typeContractDetail</th>\n",
       "            <th>value</th>\n",
       "        </tr>\n",
       "    </thead>\n",
       "    <tbody>\n",
       "        <tr>\n",
       "            <td>2020-21</td>\n",
       "            <td>Atlanta Hawks</td>\n",
       "            <td>Bogdan Bogdanovic</td>\n",
       "            <td>current roster</td>\n",
       "            <td>0</td>\n",
       "            <td>0</td>\n",
       "            <td>1</td>\n",
       "            <td>0</td>\n",
       "            <td>0</td>\n",
       "            <td>0</td>\n",
       "            <td>Guaranteed</td>\n",
       "            <td>18000000.0</td>\n",
       "        </tr>\n",
       "        <tr>\n",
       "            <td>2021-22</td>\n",
       "            <td>Atlanta Hawks</td>\n",
       "            <td>Bogdan Bogdanovic</td>\n",
       "            <td>current roster</td>\n",
       "            <td>0</td>\n",
       "            <td>0</td>\n",
       "            <td>1</td>\n",
       "            <td>0</td>\n",
       "            <td>0</td>\n",
       "            <td>0</td>\n",
       "            <td>Guaranteed</td>\n",
       "            <td>18000000.0</td>\n",
       "        </tr>\n",
       "        <tr>\n",
       "            <td>2022-23</td>\n",
       "            <td>Atlanta Hawks</td>\n",
       "            <td>Bogdan Bogdanovic</td>\n",
       "            <td>current roster</td>\n",
       "            <td>0</td>\n",
       "            <td>0</td>\n",
       "            <td>1</td>\n",
       "            <td>0</td>\n",
       "            <td>0</td>\n",
       "            <td>0</td>\n",
       "            <td>Guaranteed</td>\n",
       "            <td>18000000.0</td>\n",
       "        </tr>\n",
       "        <tr>\n",
       "            <td>2023-24</td>\n",
       "            <td>Atlanta Hawks</td>\n",
       "            <td>Bogdan Bogdanovic</td>\n",
       "            <td>current roster</td>\n",
       "            <td>1</td>\n",
       "            <td>0</td>\n",
       "            <td>1</td>\n",
       "            <td>0</td>\n",
       "            <td>0</td>\n",
       "            <td>1</td>\n",
       "            <td>Player Option</td>\n",
       "            <td>18000000.0</td>\n",
       "        </tr>\n",
       "        <tr>\n",
       "            <td>2020-21</td>\n",
       "            <td>Atlanta Hawks</td>\n",
       "            <td>Brandon Goodwin</td>\n",
       "            <td>current roster</td>\n",
       "            <td>0</td>\n",
       "            <td>0</td>\n",
       "            <td>1</td>\n",
       "            <td>0</td>\n",
       "            <td>0</td>\n",
       "            <td>0</td>\n",
       "            <td>Guaranteed</td>\n",
       "            <td>1701593.0</td>\n",
       "        </tr>\n",
       "    </tbody>\n",
       "</table>"
      ],
      "text/plain": [
       "[('2020-21', 'Atlanta Hawks', 'Bogdan Bogdanovic', 'current roster', 0, 0, 1, 0, 0, 0, 'Guaranteed', 18000000.0),\n",
       " ('2021-22', 'Atlanta Hawks', 'Bogdan Bogdanovic', 'current roster', 0, 0, 1, 0, 0, 0, 'Guaranteed', 18000000.0),\n",
       " ('2022-23', 'Atlanta Hawks', 'Bogdan Bogdanovic', 'current roster', 0, 0, 1, 0, 0, 0, 'Guaranteed', 18000000.0),\n",
       " ('2023-24', 'Atlanta Hawks', 'Bogdan Bogdanovic', 'current roster', 1, 0, 1, 0, 0, 1, 'Player Option', 18000000.0),\n",
       " ('2020-21', 'Atlanta Hawks', 'Brandon Goodwin', 'current roster', 0, 0, 1, 0, 0, 0, 'Guaranteed', 1701593.0)]"
      ]
     },
     "execution_count": 29,
     "metadata": {},
     "output_type": "execute_result"
    }
   ],
   "source": [
    "%%sql\n",
    "SELECT *\n",
    "FROM Player_salary\n",
    "lIMIT 5"
   ]
  },
  {
   "cell_type": "markdown",
   "id": "17e40e72-8156-44aa-a16b-cc6c60a545bf",
   "metadata": {},
   "source": [
    "**Task 1.5:** How many observations are in the `Player` table? Use the `count` command to find out. You should find no more than 4501 observations.\n",
    "- [SQL count](https://www.sqlitetutorial.net/sqlite-count-function/)"
   ]
  },
  {
   "cell_type": "code",
   "execution_count": 4,
   "id": "ed9a2f8f-81c7-4595-a169-fab025ecb562",
   "metadata": {},
   "outputs": [
    {
     "name": "stdout",
     "output_type": "stream",
     "text": [
      " * sqlite:////Users/DDD/Downloads/basketball.sqlite/basketball.sqlite\n",
      "Done.\n"
     ]
    },
    {
     "data": {
      "text/html": [
       "<table>\n",
       "    <thead>\n",
       "        <tr>\n",
       "            <th>count(*)</th>\n",
       "        </tr>\n",
       "    </thead>\n",
       "    <tbody>\n",
       "        <tr>\n",
       "            <td>4501</td>\n",
       "        </tr>\n",
       "    </tbody>\n",
       "</table>"
      ],
      "text/plain": [
       "[(4501,)]"
      ]
     },
     "execution_count": 4,
     "metadata": {},
     "output_type": "execute_result"
    }
   ],
   "source": [
    "%%sql\n",
    "SELECT count(*)\n",
    "FROM Player"
   ]
  },
  {
   "cell_type": "markdown",
   "id": "f3dde076-5944-4b74-9e76-f3c50a2eb363",
   "metadata": {},
   "source": [
    "**Task 1.6:** Select all columns from the `Team` table, limiting your results to the first five rows. Use `SELECT` and `LIMIT` functions\n",
    "- [SQL: bases et fonctions](https://fxjollois.github.io/cours-sql/)"
   ]
  },
  {
   "cell_type": "code",
   "execution_count": 5,
   "id": "87e1dcb6-28fc-4aca-805f-23f8c3076da6",
   "metadata": {},
   "outputs": [
    {
     "name": "stdout",
     "output_type": "stream",
     "text": [
      " * sqlite:////Users/DDD/Downloads/basketball.sqlite/basketball.sqlite\n",
      "Done.\n"
     ]
    },
    {
     "data": {
      "text/html": [
       "<table>\n",
       "    <thead>\n",
       "        <tr>\n",
       "            <th>id</th>\n",
       "            <th>full_name</th>\n",
       "            <th>abbreviation</th>\n",
       "            <th>nickname</th>\n",
       "            <th>city</th>\n",
       "            <th>state</th>\n",
       "            <th>year_founded</th>\n",
       "        </tr>\n",
       "    </thead>\n",
       "    <tbody>\n",
       "        <tr>\n",
       "            <td>1610612737</td>\n",
       "            <td>Atlanta Hawks</td>\n",
       "            <td>ATL</td>\n",
       "            <td>Hawks</td>\n",
       "            <td>Atlanta</td>\n",
       "            <td>Atlanta</td>\n",
       "            <td>1949</td>\n",
       "        </tr>\n",
       "        <tr>\n",
       "            <td>1610612738</td>\n",
       "            <td>Boston Celtics</td>\n",
       "            <td>BOS</td>\n",
       "            <td>Celtics</td>\n",
       "            <td>Boston</td>\n",
       "            <td>Massachusetts</td>\n",
       "            <td>1946</td>\n",
       "        </tr>\n",
       "        <tr>\n",
       "            <td>1610612739</td>\n",
       "            <td>Cleveland Cavaliers</td>\n",
       "            <td>CLE</td>\n",
       "            <td>Cavaliers</td>\n",
       "            <td>Cleveland</td>\n",
       "            <td>Ohio</td>\n",
       "            <td>1970</td>\n",
       "        </tr>\n",
       "        <tr>\n",
       "            <td>1610612740</td>\n",
       "            <td>New Orleans Pelicans</td>\n",
       "            <td>NOP</td>\n",
       "            <td>Pelicans</td>\n",
       "            <td>New Orleans</td>\n",
       "            <td>Louisiana</td>\n",
       "            <td>2002</td>\n",
       "        </tr>\n",
       "        <tr>\n",
       "            <td>1610612741</td>\n",
       "            <td>Chicago Bulls</td>\n",
       "            <td>CHI</td>\n",
       "            <td>Bulls</td>\n",
       "            <td>Chicago</td>\n",
       "            <td>Illinois</td>\n",
       "            <td>1966</td>\n",
       "        </tr>\n",
       "    </tbody>\n",
       "</table>"
      ],
      "text/plain": [
       "[('1610612737', 'Atlanta Hawks', 'ATL', 'Hawks', 'Atlanta', 'Atlanta', 1949),\n",
       " ('1610612738', 'Boston Celtics', 'BOS', 'Celtics', 'Boston', 'Massachusetts', 1946),\n",
       " ('1610612739', 'Cleveland Cavaliers', 'CLE', 'Cavaliers', 'Cleveland', 'Ohio', 1970),\n",
       " ('1610612740', 'New Orleans Pelicans', 'NOP', 'Pelicans', 'New Orleans', 'Louisiana', 2002),\n",
       " ('1610612741', 'Chicago Bulls', 'CHI', 'Bulls', 'Chicago', 'Illinois', 1966)]"
      ]
     },
     "execution_count": 5,
     "metadata": {},
     "output_type": "execute_result"
    }
   ],
   "source": [
    "%%sql\n",
    "SELECT *\n",
    "FROM Team\n",
    "LIMIT 5"
   ]
  },
  {
   "cell_type": "markdown",
   "id": "a23ef968-7ebc-41ef-a353-e581d88c451c",
   "metadata": {},
   "source": [
    "**Task 1.7:** What cities are represented in the `Team` table? Use the `distinct` command to determine the unique values in the **`city** column.\n",
    "- [SQL: bases et fonctions](https://fxjollois.github.io/cours-sql/)"
   ]
  },
  {
   "cell_type": "code",
   "execution_count": 23,
   "id": "a7ac58eb-b7d6-4db3-b238-d66f64597bd3",
   "metadata": {},
   "outputs": [
    {
     "name": "stdout",
     "output_type": "stream",
     "text": [
      " * sqlite:////Users/DDD/Downloads/basketball.sqlite/basketball.sqlite\n",
      "Done.\n"
     ]
    },
    {
     "data": {
      "text/html": [
       "<table>\n",
       "    <thead>\n",
       "        <tr>\n",
       "            <th>city</th>\n",
       "        </tr>\n",
       "    </thead>\n",
       "    <tbody>\n",
       "        <tr>\n",
       "            <td>Atlanta</td>\n",
       "        </tr>\n",
       "        <tr>\n",
       "            <td>Boston</td>\n",
       "        </tr>\n",
       "        <tr>\n",
       "            <td>Cleveland</td>\n",
       "        </tr>\n",
       "        <tr>\n",
       "            <td>New Orleans</td>\n",
       "        </tr>\n",
       "        <tr>\n",
       "            <td>Chicago</td>\n",
       "        </tr>\n",
       "        <tr>\n",
       "            <td>Dallas</td>\n",
       "        </tr>\n",
       "        <tr>\n",
       "            <td>Denver</td>\n",
       "        </tr>\n",
       "        <tr>\n",
       "            <td>Golden State</td>\n",
       "        </tr>\n",
       "        <tr>\n",
       "            <td>Houston</td>\n",
       "        </tr>\n",
       "        <tr>\n",
       "            <td>Los Angeles</td>\n",
       "        </tr>\n",
       "        <tr>\n",
       "            <td>Miami</td>\n",
       "        </tr>\n",
       "        <tr>\n",
       "            <td>Milwaukee</td>\n",
       "        </tr>\n",
       "        <tr>\n",
       "            <td>Minnesota</td>\n",
       "        </tr>\n",
       "        <tr>\n",
       "            <td>Brooklyn</td>\n",
       "        </tr>\n",
       "        <tr>\n",
       "            <td>New York</td>\n",
       "        </tr>\n",
       "        <tr>\n",
       "            <td>Orlando</td>\n",
       "        </tr>\n",
       "        <tr>\n",
       "            <td>Indiana</td>\n",
       "        </tr>\n",
       "        <tr>\n",
       "            <td>Philadelphia</td>\n",
       "        </tr>\n",
       "        <tr>\n",
       "            <td>Phoenix</td>\n",
       "        </tr>\n",
       "        <tr>\n",
       "            <td>Portland</td>\n",
       "        </tr>\n",
       "        <tr>\n",
       "            <td>Sacramento</td>\n",
       "        </tr>\n",
       "        <tr>\n",
       "            <td>San Antonio</td>\n",
       "        </tr>\n",
       "        <tr>\n",
       "            <td>Oklahoma City</td>\n",
       "        </tr>\n",
       "        <tr>\n",
       "            <td>Toronto</td>\n",
       "        </tr>\n",
       "        <tr>\n",
       "            <td>Utah</td>\n",
       "        </tr>\n",
       "        <tr>\n",
       "            <td>Memphis</td>\n",
       "        </tr>\n",
       "        <tr>\n",
       "            <td>Washington</td>\n",
       "        </tr>\n",
       "        <tr>\n",
       "            <td>Detroit</td>\n",
       "        </tr>\n",
       "        <tr>\n",
       "            <td>Charlotte</td>\n",
       "        </tr>\n",
       "    </tbody>\n",
       "</table>"
      ],
      "text/plain": [
       "[('Atlanta',),\n",
       " ('Boston',),\n",
       " ('Cleveland',),\n",
       " ('New Orleans',),\n",
       " ('Chicago',),\n",
       " ('Dallas',),\n",
       " ('Denver',),\n",
       " ('Golden State',),\n",
       " ('Houston',),\n",
       " ('Los Angeles',),\n",
       " ('Miami',),\n",
       " ('Milwaukee',),\n",
       " ('Minnesota',),\n",
       " ('Brooklyn',),\n",
       " ('New York',),\n",
       " ('Orlando',),\n",
       " ('Indiana',),\n",
       " ('Philadelphia',),\n",
       " ('Phoenix',),\n",
       " ('Portland',),\n",
       " ('Sacramento',),\n",
       " ('San Antonio',),\n",
       " ('Oklahoma City',),\n",
       " ('Toronto',),\n",
       " ('Utah',),\n",
       " ('Memphis',),\n",
       " ('Washington',),\n",
       " ('Detroit',),\n",
       " ('Charlotte',)]"
      ]
     },
     "execution_count": 23,
     "metadata": {},
     "output_type": "execute_result"
    }
   ],
   "source": [
    "%%sql\n",
    "SELECT distinct(city)\n",
    "FROM Team"
   ]
  },
  {
   "cell_type": "markdown",
   "id": "616e395f-6774-47cc-91a3-72edd8828f2d",
   "metadata": {},
   "source": [
    "**Task 1.8:** How many cities are there in `Team` table? Combine the `count` and `distinct` commands to calculate the number of unique values in **`Team`**."
   ]
  },
  {
   "cell_type": "code",
   "execution_count": 26,
   "id": "635586fa-7a1a-4caf-98fb-22d045bf1e7a",
   "metadata": {},
   "outputs": [
    {
     "name": "stdout",
     "output_type": "stream",
     "text": [
      " * sqlite:////Users/DDD/Downloads/basketball.sqlite/basketball.sqlite\n",
      "Done.\n"
     ]
    },
    {
     "data": {
      "text/html": [
       "<table>\n",
       "    <thead>\n",
       "        <tr>\n",
       "            <th>count(distinct(city))</th>\n",
       "        </tr>\n",
       "    </thead>\n",
       "    <tbody>\n",
       "        <tr>\n",
       "            <td>29</td>\n",
       "        </tr>\n",
       "    </tbody>\n",
       "</table>"
      ],
      "text/plain": [
       "[(29,)]"
      ]
     },
     "execution_count": 26,
     "metadata": {},
     "output_type": "execute_result"
    }
   ],
   "source": [
    "%%sql\n",
    "SELECT count(distinct(city))\n",
    "FROM team\n"
   ]
  },
  {
   "cell_type": "markdown",
   "id": "9eab607d-60d2-40e1-87c6-d2b88b4cff92",
   "metadata": {},
   "source": [
    "**Task 1.9:** For our model, we'll focus on slugSeason `2020-21`. Select all columns that from `Player_Salary`, showing only rows where the **`slugSeason`** is `2020-21` and limiting your results to the first thre rows."
   ]
  },
  {
   "cell_type": "code",
   "execution_count": 36,
   "id": "0b413f88-17ce-41eb-92dd-35ec99c1d5ac",
   "metadata": {},
   "outputs": [
    {
     "name": "stdout",
     "output_type": "stream",
     "text": [
      " * sqlite:////Users/DDD/Downloads/basketball.sqlite/basketball.sqlite\n",
      "Done.\n"
     ]
    },
    {
     "data": {
      "text/html": [
       "<table>\n",
       "    <thead>\n",
       "        <tr>\n",
       "            <th>slugSeason</th>\n",
       "            <th>nameTeam</th>\n",
       "            <th>namePlayer</th>\n",
       "            <th>statusPlayer</th>\n",
       "            <th>isFinalSeason</th>\n",
       "            <th>isWaived</th>\n",
       "            <th>isOnRoster</th>\n",
       "            <th>isNonGuaranteed</th>\n",
       "            <th>isTeamOption</th>\n",
       "            <th>isPlayerOption</th>\n",
       "            <th>typeContractDetail</th>\n",
       "            <th>value</th>\n",
       "        </tr>\n",
       "    </thead>\n",
       "    <tbody>\n",
       "        <tr>\n",
       "            <td>2020-21</td>\n",
       "            <td>Atlanta Hawks</td>\n",
       "            <td>Bogdan Bogdanovic</td>\n",
       "            <td>current roster</td>\n",
       "            <td>0</td>\n",
       "            <td>0</td>\n",
       "            <td>1</td>\n",
       "            <td>0</td>\n",
       "            <td>0</td>\n",
       "            <td>0</td>\n",
       "            <td>Guaranteed</td>\n",
       "            <td>18000000.0</td>\n",
       "        </tr>\n",
       "        <tr>\n",
       "            <td>2020-21</td>\n",
       "            <td>Atlanta Hawks</td>\n",
       "            <td>Brandon Goodwin</td>\n",
       "            <td>current roster</td>\n",
       "            <td>0</td>\n",
       "            <td>0</td>\n",
       "            <td>1</td>\n",
       "            <td>0</td>\n",
       "            <td>0</td>\n",
       "            <td>0</td>\n",
       "            <td>Guaranteed</td>\n",
       "            <td>1701593.0</td>\n",
       "        </tr>\n",
       "        <tr>\n",
       "            <td>2020-21</td>\n",
       "            <td>Atlanta Hawks</td>\n",
       "            <td>Bruno Fernando</td>\n",
       "            <td>current roster</td>\n",
       "            <td>0</td>\n",
       "            <td>0</td>\n",
       "            <td>1</td>\n",
       "            <td>0</td>\n",
       "            <td>0</td>\n",
       "            <td>0</td>\n",
       "            <td>Guaranteed</td>\n",
       "            <td>1517981.0</td>\n",
       "        </tr>\n",
       "    </tbody>\n",
       "</table>"
      ],
      "text/plain": [
       "[('2020-21', 'Atlanta Hawks', 'Bogdan Bogdanovic', 'current roster', 0, 0, 1, 0, 0, 0, 'Guaranteed', 18000000.0),\n",
       " ('2020-21', 'Atlanta Hawks', 'Brandon Goodwin', 'current roster', 0, 0, 1, 0, 0, 0, 'Guaranteed', 1701593.0),\n",
       " ('2020-21', 'Atlanta Hawks', 'Bruno Fernando', 'current roster', 0, 0, 1, 0, 0, 0, 'Guaranteed', 1517981.0)]"
      ]
     },
     "execution_count": 36,
     "metadata": {},
     "output_type": "execute_result"
    }
   ],
   "source": [
    "%%sql\n",
    "SELECT *\n",
    "FROM player_salary\n",
    "WHERE slugSeason= \"2020-21\"\n",
    "lIMIT 3"
   ]
  },
  {
   "cell_type": "code",
   "execution_count": 37,
   "id": "14f7da34-b790-4ae7-9f1f-68bb6ac1e188",
   "metadata": {},
   "outputs": [
    {
     "name": "stdout",
     "output_type": "stream",
     "text": [
      " * sqlite:////Users/DDD/Downloads/basketball.sqlite/basketball.sqlite\n",
      "Done.\n"
     ]
    },
    {
     "data": {
      "text/html": [
       "<table>\n",
       "    <thead>\n",
       "        <tr>\n",
       "            <th>ID</th>\n",
       "            <th>FIRST_NAME</th>\n",
       "            <th>LAST_NAME</th>\n",
       "            <th>DISPLAY_FIRST_LAST</th>\n",
       "            <th>DISPLAY_LAST_COMMA_FIRST</th>\n",
       "            <th>DISPLAY_FI_LAST</th>\n",
       "            <th>PLAYER_SLUG</th>\n",
       "            <th>BIRTHDATE</th>\n",
       "            <th>SCHOOL</th>\n",
       "            <th>COUNTRY</th>\n",
       "            <th>LAST_AFFILIATION</th>\n",
       "            <th>HEIGHT</th>\n",
       "            <th>WEIGHT</th>\n",
       "            <th>SEASON_EXP</th>\n",
       "            <th>JERSEY</th>\n",
       "            <th>POSITION</th>\n",
       "            <th>ROSTERSTATUS</th>\n",
       "            <th>GAMES_PLAYED_CURRENT_SEASON_FLAG</th>\n",
       "            <th>TEAM_ID</th>\n",
       "            <th>TEAM_NAME</th>\n",
       "            <th>TEAM_ABBREVIATION</th>\n",
       "            <th>TEAM_CODE</th>\n",
       "            <th>TEAM_CITY</th>\n",
       "            <th>PLAYERCODE</th>\n",
       "            <th>FROM_YEAR</th>\n",
       "            <th>TO_YEAR</th>\n",
       "            <th>DLEAGUE_FLAG</th>\n",
       "            <th>NBA_FLAG</th>\n",
       "            <th>GAMES_PLAYED_FLAG</th>\n",
       "            <th>DRAFT_YEAR</th>\n",
       "            <th>DRAFT_ROUND</th>\n",
       "            <th>DRAFT_NUMBER</th>\n",
       "            <th>PTS</th>\n",
       "            <th>AST</th>\n",
       "            <th>REB</th>\n",
       "            <th>ALL_STAR_APPEARANCES</th>\n",
       "            <th>PIE</th>\n",
       "        </tr>\n",
       "    </thead>\n",
       "    <tbody>\n",
       "        <tr>\n",
       "            <td>76001</td>\n",
       "            <td>Alaa</td>\n",
       "            <td>Abdelnaby</td>\n",
       "            <td>Alaa Abdelnaby</td>\n",
       "            <td>Abdelnaby, Alaa</td>\n",
       "            <td>A. Abdelnaby</td>\n",
       "            <td>alaa-abdelnaby</td>\n",
       "            <td>1968-06-24T00:00:00</td>\n",
       "            <td>Duke</td>\n",
       "            <td>USA</td>\n",
       "            <td>Duke/USA</td>\n",
       "            <td>82.0</td>\n",
       "            <td>240.0</td>\n",
       "            <td>4</td>\n",
       "            <td>30</td>\n",
       "            <td>Forward</td>\n",
       "            <td>Inactive</td>\n",
       "            <td>N</td>\n",
       "            <td>1610612757</td>\n",
       "            <td>Trail Blazers</td>\n",
       "            <td>POR</td>\n",
       "            <td>blazers</td>\n",
       "            <td>Portland</td>\n",
       "            <td>HISTADD_alaa_abdelnaby</td>\n",
       "            <td>1990</td>\n",
       "            <td>1994</td>\n",
       "            <td>N</td>\n",
       "            <td>Y</td>\n",
       "            <td>Y</td>\n",
       "            <td>1990</td>\n",
       "            <td>1</td>\n",
       "            <td>25</td>\n",
       "            <td>5.7</td>\n",
       "            <td>0.3</td>\n",
       "            <td>3.3</td>\n",
       "            <td>0.0</td>\n",
       "            <td>None</td>\n",
       "        </tr>\n",
       "        <tr>\n",
       "            <td>76002</td>\n",
       "            <td>Zaid</td>\n",
       "            <td>Abdul-Aziz</td>\n",
       "            <td>Zaid Abdul-Aziz</td>\n",
       "            <td>Abdul-Aziz, Zaid</td>\n",
       "            <td>Z. Abdul-Aziz</td>\n",
       "            <td>zaid-abdul-aziz</td>\n",
       "            <td>1946-04-07T00:00:00</td>\n",
       "            <td>Iowa State</td>\n",
       "            <td>USA</td>\n",
       "            <td>Iowa State/USA</td>\n",
       "            <td>81.0</td>\n",
       "            <td>235.0</td>\n",
       "            <td>9</td>\n",
       "            <td>54</td>\n",
       "            <td>Center</td>\n",
       "            <td>Inactive</td>\n",
       "            <td>N</td>\n",
       "            <td>1610612745</td>\n",
       "            <td>Rockets</td>\n",
       "            <td>HOU</td>\n",
       "            <td>rockets</td>\n",
       "            <td>Houston</td>\n",
       "            <td>HISTADD_zaid_abdul-aziz</td>\n",
       "            <td>1968</td>\n",
       "            <td>1977</td>\n",
       "            <td>N</td>\n",
       "            <td>Y</td>\n",
       "            <td>Y</td>\n",
       "            <td>1968</td>\n",
       "            <td>1</td>\n",
       "            <td>5</td>\n",
       "            <td>9.0</td>\n",
       "            <td>1.2</td>\n",
       "            <td>8.0</td>\n",
       "            <td>0.0</td>\n",
       "            <td>None</td>\n",
       "        </tr>\n",
       "        <tr>\n",
       "            <td>76003</td>\n",
       "            <td>Kareem</td>\n",
       "            <td>Abdul-Jabbar</td>\n",
       "            <td>Kareem Abdul-Jabbar</td>\n",
       "            <td>Abdul-Jabbar, Kareem</td>\n",
       "            <td>K. Abdul-Jabbar</td>\n",
       "            <td>kareem-abdul-jabbar</td>\n",
       "            <td>1947-04-16T00:00:00</td>\n",
       "            <td>UCLA</td>\n",
       "            <td>USA</td>\n",
       "            <td>UCLA/USA</td>\n",
       "            <td>86.0</td>\n",
       "            <td>225.0</td>\n",
       "            <td>19</td>\n",
       "            <td>33</td>\n",
       "            <td>Center</td>\n",
       "            <td>Inactive</td>\n",
       "            <td>N</td>\n",
       "            <td>1610612747</td>\n",
       "            <td>Lakers</td>\n",
       "            <td>LAL</td>\n",
       "            <td>lakers</td>\n",
       "            <td>Los Angeles</td>\n",
       "            <td>HISTADD_kareem_abdul-jabbar</td>\n",
       "            <td>1969</td>\n",
       "            <td>1988</td>\n",
       "            <td>N</td>\n",
       "            <td>Y</td>\n",
       "            <td>Y</td>\n",
       "            <td>1969</td>\n",
       "            <td>1</td>\n",
       "            <td>1</td>\n",
       "            <td>24.6</td>\n",
       "            <td>3.6</td>\n",
       "            <td>11.2</td>\n",
       "            <td>18.0</td>\n",
       "            <td>None</td>\n",
       "        </tr>\n",
       "        <tr>\n",
       "            <td>51</td>\n",
       "            <td>Mahmoud</td>\n",
       "            <td>Abdul-Rauf</td>\n",
       "            <td>Mahmoud Abdul-Rauf</td>\n",
       "            <td>Abdul-Rauf, Mahmoud</td>\n",
       "            <td>M. Abdul-Rauf</td>\n",
       "            <td>mahmoud-abdul-rauf</td>\n",
       "            <td>1969-03-09T00:00:00</td>\n",
       "            <td>Louisiana State</td>\n",
       "            <td>USA</td>\n",
       "            <td>Louisiana State/USA</td>\n",
       "            <td>73.0</td>\n",
       "            <td>162.0</td>\n",
       "            <td>8</td>\n",
       "            <td>1</td>\n",
       "            <td>Guard</td>\n",
       "            <td>Inactive</td>\n",
       "            <td>N</td>\n",
       "            <td>1610612743</td>\n",
       "            <td>Nuggets</td>\n",
       "            <td>DEN</td>\n",
       "            <td>nuggets</td>\n",
       "            <td>Denver</td>\n",
       "            <td>mahmoud_abdul-rauf</td>\n",
       "            <td>1990</td>\n",
       "            <td>2000</td>\n",
       "            <td>N</td>\n",
       "            <td>Y</td>\n",
       "            <td>Y</td>\n",
       "            <td>1990</td>\n",
       "            <td>1</td>\n",
       "            <td>3</td>\n",
       "            <td>14.6</td>\n",
       "            <td>3.5</td>\n",
       "            <td>1.9</td>\n",
       "            <td>0.0</td>\n",
       "            <td>None</td>\n",
       "        </tr>\n",
       "        <tr>\n",
       "            <td>1505</td>\n",
       "            <td>Tariq</td>\n",
       "            <td>Abdul-Wahad</td>\n",
       "            <td>Tariq Abdul-Wahad</td>\n",
       "            <td>Abdul-Wahad, Tariq</td>\n",
       "            <td>T. Abdul-Wahad</td>\n",
       "            <td>tariq-abdul-wahad</td>\n",
       "            <td>1974-11-03T00:00:00</td>\n",
       "            <td>San Jose State</td>\n",
       "            <td>France</td>\n",
       "            <td>San Jose State/France</td>\n",
       "            <td>78.0</td>\n",
       "            <td>235.0</td>\n",
       "            <td>6</td>\n",
       "            <td>9</td>\n",
       "            <td>Forward-Guard</td>\n",
       "            <td>Inactive</td>\n",
       "            <td>N</td>\n",
       "            <td>1610612758</td>\n",
       "            <td>Kings</td>\n",
       "            <td>SAC</td>\n",
       "            <td>kings</td>\n",
       "            <td>Sacramento</td>\n",
       "            <td>tariq_abdul-wahad</td>\n",
       "            <td>1997</td>\n",
       "            <td>2003</td>\n",
       "            <td>N</td>\n",
       "            <td>Y</td>\n",
       "            <td>Y</td>\n",
       "            <td>1997</td>\n",
       "            <td>1</td>\n",
       "            <td>11</td>\n",
       "            <td>7.8</td>\n",
       "            <td>1.1</td>\n",
       "            <td>3.3</td>\n",
       "            <td>0.0</td>\n",
       "            <td>None</td>\n",
       "        </tr>\n",
       "    </tbody>\n",
       "</table>"
      ],
      "text/plain": [
       "[('76001', 'Alaa', 'Abdelnaby', 'Alaa Abdelnaby', 'Abdelnaby, Alaa', 'A. Abdelnaby', 'alaa-abdelnaby', '1968-06-24T00:00:00', 'Duke', 'USA', 'Duke/USA', 82.0, 240.0, 4, '30', 'Forward', 'Inactive', 'N', '1610612757', 'Trail Blazers', 'POR', 'blazers', 'Portland', 'HISTADD_alaa_abdelnaby', '1990', '1994', 'N', 'Y', 'Y', '1990', '1', '25', 5.7, 0.3, 3.3, 0.0, None),\n",
       " ('76002', 'Zaid', 'Abdul-Aziz', 'Zaid Abdul-Aziz', 'Abdul-Aziz, Zaid', 'Z. Abdul-Aziz', 'zaid-abdul-aziz', '1946-04-07T00:00:00', 'Iowa State', 'USA', 'Iowa State/USA', 81.0, 235.0, 9, '54', 'Center', 'Inactive', 'N', '1610612745', 'Rockets', 'HOU', 'rockets', 'Houston', 'HISTADD_zaid_abdul-aziz', '1968', '1977', 'N', 'Y', 'Y', '1968', '1', '5', 9.0, 1.2, 8.0, 0.0, None),\n",
       " ('76003', 'Kareem', 'Abdul-Jabbar', 'Kareem Abdul-Jabbar', 'Abdul-Jabbar, Kareem', 'K. Abdul-Jabbar', 'kareem-abdul-jabbar', '1947-04-16T00:00:00', 'UCLA', 'USA', 'UCLA/USA', 86.0, 225.0, 19, '33', 'Center', 'Inactive', 'N', '1610612747', 'Lakers', 'LAL', 'lakers', 'Los Angeles', 'HISTADD_kareem_abdul-jabbar', '1969', '1988', 'N', 'Y', 'Y', '1969', '1', '1', 24.6, 3.6, 11.2, 18.0, None),\n",
       " ('51', 'Mahmoud', 'Abdul-Rauf', 'Mahmoud Abdul-Rauf', 'Abdul-Rauf, Mahmoud', 'M. Abdul-Rauf', 'mahmoud-abdul-rauf', '1969-03-09T00:00:00', 'Louisiana State', 'USA', 'Louisiana State/USA', 73.0, 162.0, 8, '1', 'Guard', 'Inactive', 'N', '1610612743', 'Nuggets', 'DEN', 'nuggets', 'Denver', 'mahmoud_abdul-rauf', '1990', '2000', 'N', 'Y', 'Y', '1990', '1', '3', 14.6, 3.5, 1.9, 0.0, None),\n",
       " ('1505', 'Tariq', 'Abdul-Wahad', 'Tariq Abdul-Wahad', 'Abdul-Wahad, Tariq', 'T. Abdul-Wahad', 'tariq-abdul-wahad', '1974-11-03T00:00:00', 'San Jose State', 'France', 'San Jose State/France', 78.0, 235.0, 6, '9', 'Forward-Guard', 'Inactive', 'N', '1610612758', 'Kings', 'SAC', 'kings', 'Sacramento', 'tariq_abdul-wahad', '1997', '2003', 'N', 'Y', 'Y', '1997', '1', '11', 7.8, 1.1, 3.3, 0.0, None)]"
      ]
     },
     "execution_count": 37,
     "metadata": {},
     "output_type": "execute_result"
    }
   ],
   "source": [
    "%%sql\n",
    "SELECT *\n",
    "FROM Player_attributes\n",
    "lIMIT 5"
   ]
  },
  {
   "cell_type": "markdown",
   "id": "29a3caf0-df73-452b-ba20-c7e4b80fb5c2",
   "metadata": {},
   "source": [
    "**Task 1.10:** How many unique salary values do you have in the table create above? \n",
    "Remember that this table concerns only season 2020-21. Yous should have no more than 523 individuals salary."
   ]
  },
  {
   "cell_type": "code",
   "execution_count": 35,
   "id": "64f0e7cc-ffcf-44b4-b92f-c683e8df87fd",
   "metadata": {},
   "outputs": [
    {
     "name": "stdout",
     "output_type": "stream",
     "text": [
      " * sqlite:////Users/DDD/Downloads/basketball.sqlite/basketball.sqlite\n",
      "Done.\n"
     ]
    },
    {
     "data": {
      "text/html": [
       "<table>\n",
       "    <thead>\n",
       "        <tr>\n",
       "            <th>count(*)</th>\n",
       "        </tr>\n",
       "    </thead>\n",
       "    <tbody>\n",
       "        <tr>\n",
       "            <td>523</td>\n",
       "        </tr>\n",
       "    </tbody>\n",
       "</table>"
      ],
      "text/plain": [
       "[(523,)]"
      ]
     },
     "execution_count": 35,
     "metadata": {},
     "output_type": "execute_result"
    }
   ],
   "source": [
    "%%sql\n",
    "SELECT count(*)\n",
    "FROM player_salary\n",
    "WHERE slugSeason= \"2020-21\""
   ]
  },
  {
   "cell_type": "markdown",
   "id": "48cd1752-f4ed-486b-968a-e18045e943de",
   "metadata": {},
   "source": [
    "**Task 1.11:** Copy and rename table and column in tha table. Use `ALTER` and `RENAME` functions.\n",
    "You should first alter the name of the table as `salary_full_name` then rename `namePlayer` column as `full_name`.\n",
    "`full_name` is the name of players in table `Player`."
   ]
  },
  {
   "cell_type": "code",
   "execution_count": 62,
   "id": "77175d02-c99d-4cea-b0a7-a903619ed6d9",
   "metadata": {},
   "outputs": [
    {
     "name": "stdout",
     "output_type": "stream",
     "text": [
      " * sqlite:////Users/DDD/Downloads/basketball.sqlite/basketball.sqlite\n",
      "Done.\n"
     ]
    },
    {
     "data": {
      "text/plain": [
       "[]"
      ]
     },
     "execution_count": 62,
     "metadata": {},
     "output_type": "execute_result"
    }
   ],
   "source": [
    "%%sql\n",
    "ALTER TABLE Player_salary\n",
    "RENAME TO salary_full_name"
   ]
  },
  {
   "cell_type": "code",
   "execution_count": 63,
   "id": "f7f676c0-7aab-4c51-8a9e-27f6011d00b2",
   "metadata": {},
   "outputs": [
    {
     "name": "stdout",
     "output_type": "stream",
     "text": [
      " * sqlite:////Users/DDD/Downloads/basketball.sqlite/basketball.sqlite\n",
      "Done.\n"
     ]
    },
    {
     "data": {
      "text/plain": [
       "[]"
      ]
     },
     "execution_count": 63,
     "metadata": {},
     "output_type": "execute_result"
    }
   ],
   "source": [
    "%%sql\n",
    "ALTER TABLE salary_full_name\n",
    "RENAME COLUMN namePlayer TO full_name"
   ]
  },
  {
   "cell_type": "code",
   "execution_count": 64,
   "id": "96f3701e-fd9c-47c8-92e3-a144da424a4f",
   "metadata": {},
   "outputs": [
    {
     "name": "stdout",
     "output_type": "stream",
     "text": [
      " * sqlite:////Users/DDD/Downloads/basketball.sqlite/basketball.sqlite\n",
      "Done.\n"
     ]
    },
    {
     "data": {
      "text/html": [
       "<table>\n",
       "    <thead>\n",
       "        <tr>\n",
       "            <th>slugSeason</th>\n",
       "            <th>nameTeam</th>\n",
       "            <th>full_name</th>\n",
       "            <th>statusPlayer</th>\n",
       "            <th>isFinalSeason</th>\n",
       "            <th>isWaived</th>\n",
       "            <th>isOnRoster</th>\n",
       "            <th>isNonGuaranteed</th>\n",
       "            <th>isTeamOption</th>\n",
       "            <th>isPlayerOption</th>\n",
       "            <th>typeContractDetail</th>\n",
       "            <th>value</th>\n",
       "        </tr>\n",
       "    </thead>\n",
       "    <tbody>\n",
       "        <tr>\n",
       "            <td>2020-21</td>\n",
       "            <td>Atlanta Hawks</td>\n",
       "            <td>Bogdan Bogdanovic</td>\n",
       "            <td>current roster</td>\n",
       "            <td>0</td>\n",
       "            <td>0</td>\n",
       "            <td>1</td>\n",
       "            <td>0</td>\n",
       "            <td>0</td>\n",
       "            <td>0</td>\n",
       "            <td>Guaranteed</td>\n",
       "            <td>18000000.0</td>\n",
       "        </tr>\n",
       "        <tr>\n",
       "            <td>2021-22</td>\n",
       "            <td>Atlanta Hawks</td>\n",
       "            <td>Bogdan Bogdanovic</td>\n",
       "            <td>current roster</td>\n",
       "            <td>0</td>\n",
       "            <td>0</td>\n",
       "            <td>1</td>\n",
       "            <td>0</td>\n",
       "            <td>0</td>\n",
       "            <td>0</td>\n",
       "            <td>Guaranteed</td>\n",
       "            <td>18000000.0</td>\n",
       "        </tr>\n",
       "        <tr>\n",
       "            <td>2022-23</td>\n",
       "            <td>Atlanta Hawks</td>\n",
       "            <td>Bogdan Bogdanovic</td>\n",
       "            <td>current roster</td>\n",
       "            <td>0</td>\n",
       "            <td>0</td>\n",
       "            <td>1</td>\n",
       "            <td>0</td>\n",
       "            <td>0</td>\n",
       "            <td>0</td>\n",
       "            <td>Guaranteed</td>\n",
       "            <td>18000000.0</td>\n",
       "        </tr>\n",
       "        <tr>\n",
       "            <td>2023-24</td>\n",
       "            <td>Atlanta Hawks</td>\n",
       "            <td>Bogdan Bogdanovic</td>\n",
       "            <td>current roster</td>\n",
       "            <td>1</td>\n",
       "            <td>0</td>\n",
       "            <td>1</td>\n",
       "            <td>0</td>\n",
       "            <td>0</td>\n",
       "            <td>1</td>\n",
       "            <td>Player Option</td>\n",
       "            <td>18000000.0</td>\n",
       "        </tr>\n",
       "        <tr>\n",
       "            <td>2020-21</td>\n",
       "            <td>Atlanta Hawks</td>\n",
       "            <td>Brandon Goodwin</td>\n",
       "            <td>current roster</td>\n",
       "            <td>0</td>\n",
       "            <td>0</td>\n",
       "            <td>1</td>\n",
       "            <td>0</td>\n",
       "            <td>0</td>\n",
       "            <td>0</td>\n",
       "            <td>Guaranteed</td>\n",
       "            <td>1701593.0</td>\n",
       "        </tr>\n",
       "    </tbody>\n",
       "</table>"
      ],
      "text/plain": [
       "[('2020-21', 'Atlanta Hawks', 'Bogdan Bogdanovic', 'current roster', 0, 0, 1, 0, 0, 0, 'Guaranteed', 18000000.0),\n",
       " ('2021-22', 'Atlanta Hawks', 'Bogdan Bogdanovic', 'current roster', 0, 0, 1, 0, 0, 0, 'Guaranteed', 18000000.0),\n",
       " ('2022-23', 'Atlanta Hawks', 'Bogdan Bogdanovic', 'current roster', 0, 0, 1, 0, 0, 0, 'Guaranteed', 18000000.0),\n",
       " ('2023-24', 'Atlanta Hawks', 'Bogdan Bogdanovic', 'current roster', 1, 0, 1, 0, 0, 1, 'Player Option', 18000000.0),\n",
       " ('2020-21', 'Atlanta Hawks', 'Brandon Goodwin', 'current roster', 0, 0, 1, 0, 0, 0, 'Guaranteed', 1701593.0)]"
      ]
     },
     "execution_count": 64,
     "metadata": {},
     "output_type": "execute_result"
    }
   ],
   "source": [
    "%%sql\n",
    "SELECT *\n",
    "FROM salary_full_name\n",
    "lIMIT 5"
   ]
  },
  {
   "cell_type": "code",
   "execution_count": 87,
   "id": "6f0a8a1d-d5c6-4df4-a01e-b013b7ae371e",
   "metadata": {},
   "outputs": [
    {
     "name": "stdout",
     "output_type": "stream",
     "text": [
      " * sqlite:////Users/DDD/Downloads/basketball.sqlite/basketball.sqlite\n",
      "Done.\n"
     ]
    },
    {
     "data": {
      "text/html": [
       "<table>\n",
       "    <thead>\n",
       "        <tr>\n",
       "            <th>id</th>\n",
       "            <th>full_name</th>\n",
       "            <th>first_name</th>\n",
       "            <th>last_name</th>\n",
       "            <th>is_active</th>\n",
       "        </tr>\n",
       "    </thead>\n",
       "    <tbody>\n",
       "        <tr>\n",
       "            <td>76001</td>\n",
       "            <td>Alaa Abdelnaby</td>\n",
       "            <td>Alaa</td>\n",
       "            <td>Abdelnaby</td>\n",
       "            <td>0</td>\n",
       "        </tr>\n",
       "        <tr>\n",
       "            <td>76002</td>\n",
       "            <td>Zaid Abdul-Aziz</td>\n",
       "            <td>Zaid</td>\n",
       "            <td>Abdul-Aziz</td>\n",
       "            <td>0</td>\n",
       "        </tr>\n",
       "        <tr>\n",
       "            <td>76003</td>\n",
       "            <td>Kareem Abdul-Jabbar</td>\n",
       "            <td>Kareem</td>\n",
       "            <td>Abdul-Jabbar</td>\n",
       "            <td>0</td>\n",
       "        </tr>\n",
       "        <tr>\n",
       "            <td>51</td>\n",
       "            <td>Mahmoud Abdul-Rauf</td>\n",
       "            <td>Mahmoud</td>\n",
       "            <td>Abdul-Rauf</td>\n",
       "            <td>0</td>\n",
       "        </tr>\n",
       "        <tr>\n",
       "            <td>1505</td>\n",
       "            <td>Tariq Abdul-Wahad</td>\n",
       "            <td>Tariq</td>\n",
       "            <td>Abdul-Wahad</td>\n",
       "            <td>0</td>\n",
       "        </tr>\n",
       "    </tbody>\n",
       "</table>"
      ],
      "text/plain": [
       "[('76001', 'Alaa Abdelnaby', 'Alaa', 'Abdelnaby', 0),\n",
       " ('76002', 'Zaid Abdul-Aziz', 'Zaid', 'Abdul-Aziz', 0),\n",
       " ('76003', 'Kareem Abdul-Jabbar', 'Kareem', 'Abdul-Jabbar', 0),\n",
       " ('51', 'Mahmoud Abdul-Rauf', 'Mahmoud', 'Abdul-Rauf', 0),\n",
       " ('1505', 'Tariq Abdul-Wahad', 'Tariq', 'Abdul-Wahad', 0)]"
      ]
     },
     "execution_count": 87,
     "metadata": {},
     "output_type": "execute_result"
    }
   ],
   "source": [
    "%%sql\n",
    "SELECT *\n",
    "FROM Player\n",
    "lIMIT 5"
   ]
  },
  {
   "cell_type": "code",
   "execution_count": 67,
   "id": "41e55bd6-e35c-4ceb-b6d1-9d25732550cb",
   "metadata": {},
   "outputs": [
    {
     "name": "stdout",
     "output_type": "stream",
     "text": [
      " * sqlite:////Users/DDD/Downloads/basketball.sqlite/basketball.sqlite\n",
      "Done.\n"
     ]
    },
    {
     "data": {
      "text/html": [
       "<table>\n",
       "    <thead>\n",
       "        <tr>\n",
       "            <th>count(*)</th>\n",
       "        </tr>\n",
       "    </thead>\n",
       "    <tbody>\n",
       "        <tr>\n",
       "            <td>1292</td>\n",
       "        </tr>\n",
       "    </tbody>\n",
       "</table>"
      ],
      "text/plain": [
       "[(1292,)]"
      ]
     },
     "execution_count": 67,
     "metadata": {},
     "output_type": "execute_result"
    }
   ],
   "source": [
    "%%sql\n",
    "SELECT count(*)\n",
    "FROM salary_full_name"
   ]
  },
  {
   "cell_type": "markdown",
   "id": "15603242-e566-4237-8053-570aa69f0d1f",
   "metadata": {},
   "source": [
    "**Task .1.12:** Use the `distinct` command to create a column with all unique full_name in the `salary_full_name` table (the one you just created). `JOIN` this column with all the columns from the `Player` table, showing only Season where slugSeason is **2020-21**  and limiting your results to the first five rows of the new table\n",
    "- [JOIN in SQLite](https://www.sqlitetutorial.net/sqlite-join/)"
   ]
  },
  {
   "cell_type": "code",
   "execution_count": 84,
   "id": "98ddc350-c66d-4404-8bf2-9505be488b4c",
   "metadata": {},
   "outputs": [
    {
     "name": "stdout",
     "output_type": "stream",
     "text": [
      " * sqlite:////Users/DDD/Downloads/basketball.sqlite/basketball.sqlite\n",
      "Done.\n"
     ]
    },
    {
     "data": {
      "text/html": [
       "<table>\n",
       "    <thead>\n",
       "        <tr>\n",
       "            <th>slugSeason</th>\n",
       "            <th>nameTeam</th>\n",
       "            <th>full_name</th>\n",
       "            <th>statusPlayer</th>\n",
       "            <th>isFinalSeason</th>\n",
       "            <th>isWaived</th>\n",
       "            <th>isOnRoster</th>\n",
       "            <th>isNonGuaranteed</th>\n",
       "            <th>isTeamOption</th>\n",
       "            <th>isPlayerOption</th>\n",
       "            <th>typeContractDetail</th>\n",
       "            <th>value</th>\n",
       "            <th>id</th>\n",
       "            <th>full_name_1</th>\n",
       "            <th>first_name</th>\n",
       "            <th>last_name</th>\n",
       "            <th>is_active</th>\n",
       "        </tr>\n",
       "    </thead>\n",
       "    <tbody>\n",
       "        <tr>\n",
       "            <td>2020-21</td>\n",
       "            <td>Atlanta Hawks</td>\n",
       "            <td>Bogdan Bogdanovic</td>\n",
       "            <td>current roster</td>\n",
       "            <td>0</td>\n",
       "            <td>0</td>\n",
       "            <td>1</td>\n",
       "            <td>0</td>\n",
       "            <td>0</td>\n",
       "            <td>0</td>\n",
       "            <td>Guaranteed</td>\n",
       "            <td>18000000.0</td>\n",
       "            <td>203992</td>\n",
       "            <td>Bogdan Bogdanovic</td>\n",
       "            <td>Bogdan</td>\n",
       "            <td>Bogdanovic</td>\n",
       "            <td>1</td>\n",
       "        </tr>\n",
       "        <tr>\n",
       "            <td>2020-21</td>\n",
       "            <td>Atlanta Hawks</td>\n",
       "            <td>Brandon Goodwin</td>\n",
       "            <td>current roster</td>\n",
       "            <td>0</td>\n",
       "            <td>0</td>\n",
       "            <td>1</td>\n",
       "            <td>0</td>\n",
       "            <td>0</td>\n",
       "            <td>0</td>\n",
       "            <td>Guaranteed</td>\n",
       "            <td>1701593.0</td>\n",
       "            <td>1629164</td>\n",
       "            <td>Brandon Goodwin</td>\n",
       "            <td>Brandon</td>\n",
       "            <td>Goodwin</td>\n",
       "            <td>1</td>\n",
       "        </tr>\n",
       "        <tr>\n",
       "            <td>2020-21</td>\n",
       "            <td>Atlanta Hawks</td>\n",
       "            <td>Bruno Fernando</td>\n",
       "            <td>current roster</td>\n",
       "            <td>0</td>\n",
       "            <td>0</td>\n",
       "            <td>1</td>\n",
       "            <td>0</td>\n",
       "            <td>0</td>\n",
       "            <td>0</td>\n",
       "            <td>Guaranteed</td>\n",
       "            <td>1517981.0</td>\n",
       "            <td>1628981</td>\n",
       "            <td>Bruno Fernando</td>\n",
       "            <td>Bruno</td>\n",
       "            <td>Fernando</td>\n",
       "            <td>1</td>\n",
       "        </tr>\n",
       "        <tr>\n",
       "            <td>2020-21</td>\n",
       "            <td>Atlanta Hawks</td>\n",
       "            <td>Cam Reddish</td>\n",
       "            <td>current roster</td>\n",
       "            <td>0</td>\n",
       "            <td>0</td>\n",
       "            <td>1</td>\n",
       "            <td>0</td>\n",
       "            <td>0</td>\n",
       "            <td>0</td>\n",
       "            <td>Guaranteed</td>\n",
       "            <td>4458000.0</td>\n",
       "            <td>1629629</td>\n",
       "            <td>Cam Reddish</td>\n",
       "            <td>Cam</td>\n",
       "            <td>Reddish</td>\n",
       "            <td>1</td>\n",
       "        </tr>\n",
       "        <tr>\n",
       "            <td>2020-21</td>\n",
       "            <td>Atlanta Hawks</td>\n",
       "            <td>Clint Capela</td>\n",
       "            <td>current roster</td>\n",
       "            <td>0</td>\n",
       "            <td>0</td>\n",
       "            <td>1</td>\n",
       "            <td>0</td>\n",
       "            <td>0</td>\n",
       "            <td>0</td>\n",
       "            <td>Guaranteed</td>\n",
       "            <td>16000000.0</td>\n",
       "            <td>203991</td>\n",
       "            <td>Clint Capela</td>\n",
       "            <td>Clint</td>\n",
       "            <td>Capela</td>\n",
       "            <td>1</td>\n",
       "        </tr>\n",
       "    </tbody>\n",
       "</table>"
      ],
      "text/plain": [
       "[('2020-21', 'Atlanta Hawks', 'Bogdan Bogdanovic', 'current roster', 0, 0, 1, 0, 0, 0, 'Guaranteed', 18000000.0, '203992', 'Bogdan Bogdanovic', 'Bogdan', 'Bogdanovic', 1),\n",
       " ('2020-21', 'Atlanta Hawks', 'Brandon Goodwin', 'current roster', 0, 0, 1, 0, 0, 0, 'Guaranteed', 1701593.0, '1629164', 'Brandon Goodwin', 'Brandon', 'Goodwin', 1),\n",
       " ('2020-21', 'Atlanta Hawks', 'Bruno Fernando', 'current roster', 0, 0, 1, 0, 0, 0, 'Guaranteed', 1517981.0, '1628981', 'Bruno Fernando', 'Bruno', 'Fernando', 1),\n",
       " ('2020-21', 'Atlanta Hawks', 'Cam Reddish', 'current roster', 0, 0, 1, 0, 0, 0, 'Guaranteed', 4458000.0, '1629629', 'Cam Reddish', 'Cam', 'Reddish', 1),\n",
       " ('2020-21', 'Atlanta Hawks', 'Clint Capela', 'current roster', 0, 0, 1, 0, 0, 0, 'Guaranteed', 16000000.0, '203991', 'Clint Capela', 'Clint', 'Capela', 1)]"
      ]
     },
     "execution_count": 84,
     "metadata": {},
     "output_type": "execute_result"
    }
   ],
   "source": [
    "%%sql\n",
    "SELECT *\n",
    "FROM salary_full_name AS s\n",
    "JOIN Player AS t ON s.full_name = t.full_name\n",
    "WHERE slugSeason= \"2020-21\"\n",
    "LIMIT 5"
   ]
  },
  {
   "cell_type": "markdown",
   "id": "8acf8ff3-eb17-4db8-92f6-aac1f2269ad7",
   "metadata": {},
   "source": [
    "##### Now you have 2 columns with full_name: full_name and full_name_1. We should rename full_name_1 as name"
   ]
  },
  {
   "cell_type": "code",
   "execution_count": 88,
   "id": "004a1033-40c6-4570-a3df-ecbd1622eaf1",
   "metadata": {},
   "outputs": [
    {
     "name": "stdout",
     "output_type": "stream",
     "text": [
      " * sqlite:////Users/DDD/Downloads/basketball.sqlite/basketball.sqlite\n",
      "Done.\n"
     ]
    },
    {
     "data": {
      "text/html": [
       "<table>\n",
       "    <thead>\n",
       "        <tr>\n",
       "            <th>name</th>\n",
       "            <th>slugSeason</th>\n",
       "            <th>nameTeam</th>\n",
       "            <th>full_name</th>\n",
       "            <th>statusPlayer</th>\n",
       "            <th>isFinalSeason</th>\n",
       "            <th>isWaived</th>\n",
       "            <th>isOnRoster</th>\n",
       "            <th>isNonGuaranteed</th>\n",
       "            <th>isTeamOption</th>\n",
       "            <th>isPlayerOption</th>\n",
       "            <th>typeContractDetail</th>\n",
       "            <th>value</th>\n",
       "        </tr>\n",
       "    </thead>\n",
       "    <tbody>\n",
       "        <tr>\n",
       "            <td>Bogdan Bogdanovic</td>\n",
       "            <td>2020-21</td>\n",
       "            <td>Atlanta Hawks</td>\n",
       "            <td>Bogdan Bogdanovic</td>\n",
       "            <td>current roster</td>\n",
       "            <td>0</td>\n",
       "            <td>0</td>\n",
       "            <td>1</td>\n",
       "            <td>0</td>\n",
       "            <td>0</td>\n",
       "            <td>0</td>\n",
       "            <td>Guaranteed</td>\n",
       "            <td>18000000.0</td>\n",
       "        </tr>\n",
       "        <tr>\n",
       "            <td>Brandon Goodwin</td>\n",
       "            <td>2020-21</td>\n",
       "            <td>Atlanta Hawks</td>\n",
       "            <td>Brandon Goodwin</td>\n",
       "            <td>current roster</td>\n",
       "            <td>0</td>\n",
       "            <td>0</td>\n",
       "            <td>1</td>\n",
       "            <td>0</td>\n",
       "            <td>0</td>\n",
       "            <td>0</td>\n",
       "            <td>Guaranteed</td>\n",
       "            <td>1701593.0</td>\n",
       "        </tr>\n",
       "        <tr>\n",
       "            <td>Bruno Fernando</td>\n",
       "            <td>2020-21</td>\n",
       "            <td>Atlanta Hawks</td>\n",
       "            <td>Bruno Fernando</td>\n",
       "            <td>current roster</td>\n",
       "            <td>0</td>\n",
       "            <td>0</td>\n",
       "            <td>1</td>\n",
       "            <td>0</td>\n",
       "            <td>0</td>\n",
       "            <td>0</td>\n",
       "            <td>Guaranteed</td>\n",
       "            <td>1517981.0</td>\n",
       "        </tr>\n",
       "        <tr>\n",
       "            <td>Cam Reddish</td>\n",
       "            <td>2020-21</td>\n",
       "            <td>Atlanta Hawks</td>\n",
       "            <td>Cam Reddish</td>\n",
       "            <td>current roster</td>\n",
       "            <td>0</td>\n",
       "            <td>0</td>\n",
       "            <td>1</td>\n",
       "            <td>0</td>\n",
       "            <td>0</td>\n",
       "            <td>0</td>\n",
       "            <td>Guaranteed</td>\n",
       "            <td>4458000.0</td>\n",
       "        </tr>\n",
       "        <tr>\n",
       "            <td>Clint Capela</td>\n",
       "            <td>2020-21</td>\n",
       "            <td>Atlanta Hawks</td>\n",
       "            <td>Clint Capela</td>\n",
       "            <td>current roster</td>\n",
       "            <td>0</td>\n",
       "            <td>0</td>\n",
       "            <td>1</td>\n",
       "            <td>0</td>\n",
       "            <td>0</td>\n",
       "            <td>0</td>\n",
       "            <td>Guaranteed</td>\n",
       "            <td>16000000.0</td>\n",
       "        </tr>\n",
       "    </tbody>\n",
       "</table>"
      ],
      "text/plain": [
       "[('Bogdan Bogdanovic', '2020-21', 'Atlanta Hawks', 'Bogdan Bogdanovic', 'current roster', 0, 0, 1, 0, 0, 0, 'Guaranteed', 18000000.0),\n",
       " ('Brandon Goodwin', '2020-21', 'Atlanta Hawks', 'Brandon Goodwin', 'current roster', 0, 0, 1, 0, 0, 0, 'Guaranteed', 1701593.0),\n",
       " ('Bruno Fernando', '2020-21', 'Atlanta Hawks', 'Bruno Fernando', 'current roster', 0, 0, 1, 0, 0, 0, 'Guaranteed', 1517981.0),\n",
       " ('Cam Reddish', '2020-21', 'Atlanta Hawks', 'Cam Reddish', 'current roster', 0, 0, 1, 0, 0, 0, 'Guaranteed', 4458000.0),\n",
       " ('Clint Capela', '2020-21', 'Atlanta Hawks', 'Clint Capela', 'current roster', 0, 0, 1, 0, 0, 0, 'Guaranteed', 16000000.0)]"
      ]
     },
     "execution_count": 88,
     "metadata": {},
     "output_type": "execute_result"
    }
   ],
   "source": [
    "%%sql\n",
    "SELECT distinct(s.full_name) AS name,\n",
    "              s.*\n",
    "FROM salary_full_name AS s\n",
    "JOIN Player AS t ON s.full_name = t.full_name\n",
    "WHERE slugSeason= \"2020-21\"\n",
    "LIMIT 5"
   ]
  },
  {
   "cell_type": "code",
   "execution_count": 85,
   "id": "daeb1802-0c7e-41ae-8a92-81781a667129",
   "metadata": {},
   "outputs": [
    {
     "name": "stdout",
     "output_type": "stream",
     "text": [
      " * sqlite:////Users/DDD/Downloads/basketball.sqlite/basketball.sqlite\n",
      "Done.\n"
     ]
    },
    {
     "data": {
      "text/html": [
       "<table>\n",
       "    <thead>\n",
       "        <tr>\n",
       "            <th>count(*)</th>\n",
       "        </tr>\n",
       "    </thead>\n",
       "    <tbody>\n",
       "        <tr>\n",
       "            <td>419</td>\n",
       "        </tr>\n",
       "    </tbody>\n",
       "</table>"
      ],
      "text/plain": [
       "[(419,)]"
      ]
     },
     "execution_count": 85,
     "metadata": {},
     "output_type": "execute_result"
    }
   ],
   "source": [
    "%%sql\n",
    "SELECT count(*) \n",
    "FROM salary_full_name AS s\n",
    "JOIN Player AS t ON s.full_name = t.full_name\n",
    "WHERE slugSeason= \"2020-21\""
   ]
  },
  {
   "cell_type": "markdown",
   "id": "4b2433b4-0c9e-46a8-9436-4ce5e12b25e7",
   "metadata": {},
   "source": [
    "**Task 1.13:** Put your the SQL query you have used to combine tables into a string and assign it to the variable `query`."
   ]
  },
  {
   "cell_type": "code",
   "execution_count": null,
   "id": "1347354b-915e-403d-a616-924301dbb6d6",
   "metadata": {},
   "outputs": [],
   "source": []
  },
  {
   "cell_type": "code",
   "execution_count": 94,
   "id": "87e802c0-8745-4666-8e01-217dbabd83b3",
   "metadata": {},
   "outputs": [
    {
     "name": "stdout",
     "output_type": "stream",
     "text": [
      " SELECT distinct(s.full_name) AS name,\n",
      "              s.*\n",
      "FROM salary_full_name AS s\n",
      "JOIN Player AS t ON s.full_name = t.full_name\n",
      "WHERE slugSeason= \"2020-21\"\n",
      "\n",
      "\n"
     ]
    }
   ],
   "source": [
    "query = \"\"\" SELECT distinct(s.full_name) AS name,\n",
    "              s.*\n",
    "FROM salary_full_name AS s\n",
    "JOIN Player AS t ON s.full_name = t.full_name\n",
    "WHERE slugSeason= \"2020-21\"\n",
    "\n",
    "\"\"\"\n",
    "print(query)"
   ]
  },
  {
   "cell_type": "markdown",
   "id": "8c2d5cf4-22b0-46a7-a3c7-544a92c93920",
   "metadata": {},
   "source": [
    "**Task 1.14:** Use the [`connect`](https://docs.python.org/3/library/sqlite3.html#sqlite3.connect) method from the sqlite3 library to connect to the database. Remember that you should specify the url of your database.\n",
    "- [Connection to a SQL database using sqlite3</span></span>.](../%40textbook/10-databases-sql.ipynb#Using-pandas-with-SQL-Databases)"
   ]
  },
  {
   "cell_type": "code",
   "execution_count": 83,
   "id": "bc7550ce-a23c-471c-8656-dd56f81b7867",
   "metadata": {},
   "outputs": [],
   "source": [
    "conn = sqlite3.connect(\"C:/Users/DDD/Downloads/basketball.sqlite/basketball.sqlite\")"
   ]
  },
  {
   "cell_type": "markdown",
   "id": "a8e961b5-0a25-4e5f-808f-c8a1fb427062",
   "metadata": {},
   "source": [
    "**Task 1.15:** Use the [`read_sql`](https://pandas.pydata.org/docs/reference/api/pandas.read_sql.html#pandas-read-sql) from the pandas library to create a DataFrame from your `query`. Be sure that the **`full_name`** is set as your index column. You should not limit your query. "
   ]
  },
  {
   "cell_type": "code",
   "execution_count": 95,
   "id": "42e73e4c-b49f-4f78-aa2b-80f64e2565d0",
   "metadata": {},
   "outputs": [
    {
     "data": {
      "text/html": [
       "<div>\n",
       "<style scoped>\n",
       "    .dataframe tbody tr th:only-of-type {\n",
       "        vertical-align: middle;\n",
       "    }\n",
       "\n",
       "    .dataframe tbody tr th {\n",
       "        vertical-align: top;\n",
       "    }\n",
       "\n",
       "    .dataframe thead th {\n",
       "        text-align: right;\n",
       "    }\n",
       "</style>\n",
       "<table border=\"1\" class=\"dataframe\">\n",
       "  <thead>\n",
       "    <tr style=\"text-align: right;\">\n",
       "      <th></th>\n",
       "      <th>name</th>\n",
       "      <th>slugSeason</th>\n",
       "      <th>nameTeam</th>\n",
       "      <th>statusPlayer</th>\n",
       "      <th>isFinalSeason</th>\n",
       "      <th>isWaived</th>\n",
       "      <th>isOnRoster</th>\n",
       "      <th>isNonGuaranteed</th>\n",
       "      <th>isTeamOption</th>\n",
       "      <th>isPlayerOption</th>\n",
       "      <th>typeContractDetail</th>\n",
       "      <th>value</th>\n",
       "    </tr>\n",
       "    <tr>\n",
       "      <th>full_name</th>\n",
       "      <th></th>\n",
       "      <th></th>\n",
       "      <th></th>\n",
       "      <th></th>\n",
       "      <th></th>\n",
       "      <th></th>\n",
       "      <th></th>\n",
       "      <th></th>\n",
       "      <th></th>\n",
       "      <th></th>\n",
       "      <th></th>\n",
       "      <th></th>\n",
       "    </tr>\n",
       "  </thead>\n",
       "  <tbody>\n",
       "    <tr>\n",
       "      <th>Bogdan Bogdanovic</th>\n",
       "      <td>Bogdan Bogdanovic</td>\n",
       "      <td>2020-21</td>\n",
       "      <td>Atlanta Hawks</td>\n",
       "      <td>current roster</td>\n",
       "      <td>0</td>\n",
       "      <td>0</td>\n",
       "      <td>1</td>\n",
       "      <td>0</td>\n",
       "      <td>0</td>\n",
       "      <td>0</td>\n",
       "      <td>Guaranteed</td>\n",
       "      <td>18000000.0</td>\n",
       "    </tr>\n",
       "    <tr>\n",
       "      <th>Brandon Goodwin</th>\n",
       "      <td>Brandon Goodwin</td>\n",
       "      <td>2020-21</td>\n",
       "      <td>Atlanta Hawks</td>\n",
       "      <td>current roster</td>\n",
       "      <td>0</td>\n",
       "      <td>0</td>\n",
       "      <td>1</td>\n",
       "      <td>0</td>\n",
       "      <td>0</td>\n",
       "      <td>0</td>\n",
       "      <td>Guaranteed</td>\n",
       "      <td>1701593.0</td>\n",
       "    </tr>\n",
       "    <tr>\n",
       "      <th>Bruno Fernando</th>\n",
       "      <td>Bruno Fernando</td>\n",
       "      <td>2020-21</td>\n",
       "      <td>Atlanta Hawks</td>\n",
       "      <td>current roster</td>\n",
       "      <td>0</td>\n",
       "      <td>0</td>\n",
       "      <td>1</td>\n",
       "      <td>0</td>\n",
       "      <td>0</td>\n",
       "      <td>0</td>\n",
       "      <td>Guaranteed</td>\n",
       "      <td>1517981.0</td>\n",
       "    </tr>\n",
       "    <tr>\n",
       "      <th>Cam Reddish</th>\n",
       "      <td>Cam Reddish</td>\n",
       "      <td>2020-21</td>\n",
       "      <td>Atlanta Hawks</td>\n",
       "      <td>current roster</td>\n",
       "      <td>0</td>\n",
       "      <td>0</td>\n",
       "      <td>1</td>\n",
       "      <td>0</td>\n",
       "      <td>0</td>\n",
       "      <td>0</td>\n",
       "      <td>Guaranteed</td>\n",
       "      <td>4458000.0</td>\n",
       "    </tr>\n",
       "    <tr>\n",
       "      <th>Clint Capela</th>\n",
       "      <td>Clint Capela</td>\n",
       "      <td>2020-21</td>\n",
       "      <td>Atlanta Hawks</td>\n",
       "      <td>current roster</td>\n",
       "      <td>0</td>\n",
       "      <td>0</td>\n",
       "      <td>1</td>\n",
       "      <td>0</td>\n",
       "      <td>0</td>\n",
       "      <td>0</td>\n",
       "      <td>Guaranteed</td>\n",
       "      <td>16000000.0</td>\n",
       "    </tr>\n",
       "  </tbody>\n",
       "</table>\n",
       "</div>"
      ],
      "text/plain": [
       "                                name slugSeason       nameTeam  \\\n",
       "full_name                                                        \n",
       "Bogdan Bogdanovic  Bogdan Bogdanovic    2020-21  Atlanta Hawks   \n",
       "Brandon Goodwin      Brandon Goodwin    2020-21  Atlanta Hawks   \n",
       "Bruno Fernando        Bruno Fernando    2020-21  Atlanta Hawks   \n",
       "Cam Reddish              Cam Reddish    2020-21  Atlanta Hawks   \n",
       "Clint Capela            Clint Capela    2020-21  Atlanta Hawks   \n",
       "\n",
       "                     statusPlayer  isFinalSeason  isWaived  isOnRoster  \\\n",
       "full_name                                                                \n",
       "Bogdan Bogdanovic  current roster              0         0           1   \n",
       "Brandon Goodwin    current roster              0         0           1   \n",
       "Bruno Fernando     current roster              0         0           1   \n",
       "Cam Reddish        current roster              0         0           1   \n",
       "Clint Capela       current roster              0         0           1   \n",
       "\n",
       "                   isNonGuaranteed  isTeamOption  isPlayerOption  \\\n",
       "full_name                                                          \n",
       "Bogdan Bogdanovic                0             0               0   \n",
       "Brandon Goodwin                  0             0               0   \n",
       "Bruno Fernando                   0             0               0   \n",
       "Cam Reddish                      0             0               0   \n",
       "Clint Capela                     0             0               0   \n",
       "\n",
       "                  typeContractDetail       value  \n",
       "full_name                                         \n",
       "Bogdan Bogdanovic         Guaranteed  18000000.0  \n",
       "Brandon Goodwin           Guaranteed   1701593.0  \n",
       "Bruno Fernando            Guaranteed   1517981.0  \n",
       "Cam Reddish               Guaranteed   4458000.0  \n",
       "Clint Capela              Guaranteed  16000000.0  "
      ]
     },
     "execution_count": 95,
     "metadata": {},
     "output_type": "execute_result"
    }
   ],
   "source": [
    "import pandas as pd\n",
    "\n",
    "df = pd.read_sql(query, conn, index_col=\"full_name\")\n",
    "\n",
    "df.head()"
   ]
  },
  {
   "cell_type": "code",
   "execution_count": 96,
   "id": "26eeb428-5c50-424c-a161-51051afd26f7",
   "metadata": {},
   "outputs": [
    {
     "data": {
      "text/plain": [
       "(419, 12)"
      ]
     },
     "execution_count": 96,
     "metadata": {},
     "output_type": "execute_result"
    }
   ],
   "source": [
    "df.shape"
   ]
  },
  {
   "cell_type": "code",
   "execution_count": 97,
   "id": "135c39c1-8e8e-47ee-ad33-159eb8d43ba0",
   "metadata": {},
   "outputs": [
    {
     "data": {
      "text/plain": [
       "count    4.190000e+02\n",
       "mean     8.128092e+06\n",
       "std      9.702137e+06\n",
       "min      5.000000e+04\n",
       "25%      1.620564e+06\n",
       "50%      3.872215e+06\n",
       "75%      1.086595e+07\n",
       "max      4.300636e+07\n",
       "Name: value, dtype: float64"
      ]
     },
     "execution_count": 97,
     "metadata": {},
     "output_type": "execute_result"
    }
   ],
   "source": [
    "df[\"value\"].describe()"
   ]
  },
  {
   "cell_type": "markdown",
   "id": "ed208945-bfc2-45b8-a5a6-8dd21f217de5",
   "metadata": {},
   "source": [
    "### **CREATION BASE DE DONNEES SQL A PARTIR DES FEUILLES DE CALCUL EXCEL**"
   ]
  },
  {
   "cell_type": "code",
   "execution_count": 1,
   "id": "e03f5cab-3839-4dc1-89ce-bee0c66d2514",
   "metadata": {},
   "outputs": [],
   "source": [
    "import sqlite3\n",
    "import pandas as pd"
   ]
  },
  {
   "cell_type": "code",
   "execution_count": 8,
   "id": "ec9b5981-38fa-4627-beb1-70d03c3a0725",
   "metadata": {},
   "outputs": [],
   "source": [
    "## Plusiuers feuilles de calcul\n",
    "con=sqlite3.connect('database_ESR.sqlite')\n",
    "excel_file = 'C:/Users/DDD/Documents/Cameroon_lung_function/SQLITE_tables_ESR/ESR_ready_1.xlsx'\n",
    "wb=pd.ExcelFile(excel_file)  # lecture des feuilles avec pandas\n",
    "for sheet in wb.sheet_names:\n",
    "        df=pd.read_excel(excel_file,sheet_name=sheet)\n",
    "        df.to_sql(sheet,con, index=False,if_exists=\"replace\")\n",
    "con.commit()\n",
    "con.close()"
   ]
  },
  {
   "cell_type": "code",
   "execution_count": 2,
   "id": "90dbdbce-5a2d-4eab-b3b9-1c981ca0175d",
   "metadata": {},
   "outputs": [],
   "source": [
    "## Plusiuers feuilles de calcul\n",
    "con=sqlite3.connect('database_TP_14_07_2023.sqlite')\n",
    "excel_file = 'C:/Users/DDD/Documents/Cameroon_lung_function/Cameroon_lung_function.xlsx'\n",
    "wb=pd.ExcelFile(excel_file)  # lecture des feuilles avec pandas\n",
    "for sheet in wb.sheet_names:\n",
    "        df=pd.read_excel(excel_file,sheet_name=sheet)\n",
    "        df.to_sql(sheet,con, index=False,if_exists=\"replace\")\n",
    "con.commit()\n",
    "con.close()"
   ]
  },
  {
   "cell_type": "code",
   "execution_count": 6,
   "id": "19eb5f8a-14bb-48e7-9ad9-873fae9259d0",
   "metadata": {},
   "outputs": [
    {
     "name": "stdout",
     "output_type": "stream",
     "text": [
      "The sql extension is already loaded. To reload it, use:\n",
      "  %reload_ext sql\n"
     ]
    }
   ],
   "source": [
    "%load_ext sql\n",
    "%sql sqlite:////Users/DDD/Downloads/database_ESR.sqlite"
   ]
  },
  {
   "cell_type": "code",
   "execution_count": 7,
   "id": "5e78fcdf-4cdc-4b02-8440-48cb8901d612",
   "metadata": {},
   "outputs": [
    {
     "name": "stdout",
     "output_type": "stream",
     "text": [
      " * sqlite:////Users/DDD/Downloads/database_ESR.sqlite\n",
      "Done.\n"
     ]
    },
    {
     "data": {
      "text/html": [
       "<table>\n",
       "    <thead>\n",
       "        <tr>\n",
       "            <th>type</th>\n",
       "            <th>name</th>\n",
       "            <th>tbl_name</th>\n",
       "            <th>rootpage</th>\n",
       "            <th>sql</th>\n",
       "        </tr>\n",
       "    </thead>\n",
       "    <tbody>\n",
       "        <tr>\n",
       "            <td>table</td>\n",
       "            <td>table_demographie</td>\n",
       "            <td>table_demographie</td>\n",
       "            <td>2</td>\n",
       "            <td>CREATE TABLE &quot;table_demographie&quot; (<br>&quot;NUM_ORDRE&quot; INTEGER,<br>  &quot;GROUPE&quot; INTEGER,<br>  &quot;Zone_denombrement&quot; REAL,<br>  &quot;Numero_menage&quot; INTEGER,<br>  &quot;Numéro_sujet&quot; INTEGER,<br>  &quot;I_1_Date_de_naissance&quot; TEXT,<br>  &quot;Date_enquete&quot; TEXT,<br>  &quot;DONNEES_SOCIO_DEMOGRAPHIQUES&quot; TEXT,<br>  &quot;SEXE&quot; TEXT,<br>  &quot;SEXE_REC&quot; INTEGER,<br>  &quot;Age&quot; INTEGER,<br>  &quot;Age_Rec&quot; INTEGER,<br>  &quot;niveau_education_Numérique&quot; REAL,<br>  &quot;I.3_plus_haut_niveau_education_en_tranches&quot; REAL,<br>  &quot;I.4_niveau_education_père&quot; REAL,<br>  &quot;I.5_niveau_education_mère&quot; REAL,<br>  &quot;I.6_Profession_principale&quot; TEXT,<br>  &quot;CATEGORIE_PROFESS_REC&quot; REAL<br>)</td>\n",
       "        </tr>\n",
       "        <tr>\n",
       "            <td>table</td>\n",
       "            <td>table_demographie_clinique</td>\n",
       "            <td>table_demographie_clinique</td>\n",
       "            <td>116</td>\n",
       "            <td>CREATE TABLE &quot;table_demographie_clinique&quot; (<br>&quot;NUM_ORDRE&quot; INTEGER,<br>  &quot;I.6_Profession_principale&quot; TEXT,<br>  &quot;CATEGORIE_PROFESS_REC&quot; REAL,<br>  &quot;I.7_catégorie_socioprofessionnnelle&quot; REAL,<br>  &quot;I.8_région_origine&quot; REAL,<br>  &quot;I.9_ethnie&quot; REAL,<br>  &quot;Ethnicity_rec&quot; REAL,<br>  &quot;I.10_statut_matrimonial&quot; REAL,<br>  &quot;STATUT_MARITAL_REC&quot; REAL,<br>  &quot;nombre_personnes_maison&quot; REAL,<br>  &quot;nombre_chambres_maison&quot; REAL,<br>  &quot;SIGNES_RESPIRATOIRES_CHRONIQUES&quot; TEXT,<br>  &quot;II.1.1_toux_habituellement&quot; INTEGER,<br>  &quot;II.1.2_yatil_desmois_oùvoustoussez_laplupartdesjours&quot; REAL,<br>  &quot;janvier&quot; REAL,<br>  &quot;février&quot; REAL,<br>  &quot;mars&quot; REAL,<br>  &quot;avril&quot; REAL,<br>  &quot;mai&quot; REAL,<br>  &quot;juin&quot; REAL,<br>  &quot;juillet&quot; REAL,<br>  &quot;aout&quot; REAL,<br>  &quot;septembre&quot; REAL,<br>  &quot;octobre&quot; REAL,<br>  &quot;novembre&quot; REAL,<br>  &quot;decembre&quot; REAL,<br>  &quot;II.1.3_toux_pendant3mois_ouplus_par_an&quot; REAL,<br>  &quot;II.1.4_combien_années_toussez_vous&quot; TEXT,<br>  &quot;II.1.5_crachez_vous_habituellement&quot; REAL,<br>  &quot;II.1.6_crachez_vous_laplupart_desjours&quot; REAL,<br>  &quot;II.1.7_crachez_vous_3mois_ouplus&quot; REAL<br>)</td>\n",
       "        </tr>\n",
       "        <tr>\n",
       "            <td>table</td>\n",
       "            <td>table_clinique</td>\n",
       "            <td>table_clinique</td>\n",
       "            <td>196</td>\n",
       "            <td>CREATE TABLE &quot;table_clinique&quot; (<br>&quot;NUM_ORDRE&quot; INTEGER,<br>  &quot;II.1.8_depuisconbien_années_crachez_vous&quot; REAL,<br>  &quot;BRONCHITE_CHRONIQUE_REC&quot; INTEGER,<br>  &quot;TOUX_CHRONIQUE_REC&quot; INTEGER,<br>  &quot;EXPECTO_CHRONIQUE_REC&quot; INTEGER,<br>  &quot;DYSPNEE_3_OU_4&quot; INTEGER,<br>  &quot;II.2.1_etesvous_essouflez_montantune_cote&quot; INTEGER,<br>  &quot;II.2.2_essouflement_marche_surterrainplat&quot; REAL,<br>  &quot;II.2.3_arrêtervous_surterrainplat_lorsdela_marche&quot; REAL,<br>  &quot;II.2.4_essouflement_aurepos_moindre_effort&quot; REAL,<br>  &quot;II.2.5_aquel_âge_remarqué_essouflement&quot; REAL,<br>  &quot;ANTECEDENTS&quot; TEXT,<br>  &quot;III.1_avezvousdéjaeula_tuberculose&quot; REAL,<br>  &quot;III.2_combiendefois_tuberculose_poumons&quot; REAL,<br>  &quot;III.3_datetraitement_1er_tuberculose&quot; TEXT,<br>  &quot;III.4_avezvousdéjàeula_pneumonie&quot; REAL,<br>  &quot;III.5_datedeladernière_pneumonie&quot; TEXT,<br>  &quot;III.6_avezvous_asthme&quot; REAL,<br>  &quot;III.7_avezvous_maladiedu_coeur&quot; REAL,<br>  &quot;III.8_avezvousdéjàeu_autremaladie_respiratoire&quot; REAL,<br>  &quot;III.8_precision_autremaladie_respiratoire&quot; TEXT,<br>  &quot;III.9_avezvousdéjàeu_chirurgie_poitrine&quot; REAL,<br>  &quot;III.9_raisonchirurgiepoitrine&quot; TEXT,<br>  &quot;III.10_avezvousdéjàeu_chirurgie_ventre&quot; REAL,<br>  &quot;III.10_raisonchirurgieventre&quot; TEXT,<br>  &quot;III.11_avezvous_hypertension_artérielle&quot; REAL,<br>  &quot;III.12_avezvous_diabète&quot; REAL,<br>  &quot;III.13_avezvousdéjàeu_attaquecérébrale&quot; REAL,<br>  &quot;III.13_date_attaquecérébrale&quot; TEXT,<br>  &quot;III.14_avezvousdéjà_accouché&quot; REAL,<br>  &quot;III.15_prenezvous_médicaments&quot; REAL,<br>  &quot;III.16_êtesvous_sportif_hautniveau&quot; REAL,<br>  &quot;III.17_combien_heures_parsemaine&quot; REAL,<br>  &quot;III.18_fumezvous_avezvousfumé&quot; REAL,<br>  &quot;III.19_avezvous_infection_VIH&quot; REAL,<br>  &quot;III.20_Prenez_vous_ARV&quot; REAL,<br>  &quot;III.21_Autre_probleme_medical&quot; REAL,<br>  &quot;III.22_Sujet_sain&quot; REAL,<br>  &quot;SECURITE_SPIROMETRIE&quot; TEXT,<br>  &quot;IV.1_chirurgie_thorax_abdomen&quot; REAL,<br>  &quot;IV.2_attaque_cardiaque&quot; REAL,<br>  &quot;IV.3_hospi_autreproblème_cardiaque&quot; REAL,<br>  &quot;IV.4_3e_trimestre_grossesse&quot; REAL,<br>  &quot;IV.5_médicaments_antituberculeux&quot; REAL,<br>  &quot;IV.6_contreindication_spirometrie&quot; REAL,<br>  &quot;MESURES_ANTRHOPROMETRIQUES&quot; TEXT,<br>  &quot;V.1_poids&quot; REAL,<br>  &quot;V.2_taille&quot; INTEGER,<br>  &quot;BMI_Rec&quot; REAL,<br>  &quot;BMI_Classes&quot; REAL,<br>  &quot;BMI_Classes_RECIII&quot; REAL,<br>  &quot;V.3_tourde_hanche&quot; REAL,<br>  &quot;V.4_tourde_taille&quot; REAL,<br>  &quot;Tour_Cou&quot; REAL,<br>  &quot;V.5_TA_sytolique&quot; REAL,<br>  &quot;V.5_TA_diastolique&quot; REAL,<br>  &quot;SPO2&quot; REAL,<br>  &quot;MESURES_SPIROMETRIQUES&quot; TEXT,<br>  &quot;VI.1_tests_pre_bronchodilatateurs_acceptables&quot; REAL,<br>  &quot;VI.2_tests_post_bronchodilatateurs_acceptables&quot; REAL,<br>  &quot;VI.3_impossibilité_spirometrie_satisfaisante&quot; REAL,<br>  &quot;Tempts_t&quot; REAL,<br>  &quot;ASTHME&quot; TEXT,<br>  &quot;Presence_3_allergies&quot; INTEGER,<br>  &quot;RHINO_CONJ_ALLERGIQUE_REC&quot; INTEGER,<br>  &quot;DERMATITE_ATOPIQUE_REC&quot; INTEGER,<br>  &quot;I_sifflements_durant_votre_vie&quot; INTEGER,<br>  &quot;II_siflements_durant_12_derniers_mois&quot; INTEGER,<br>  &quot;III_combien_crises_sifflements_12_derniers_mois&quot; REAL,<br>  &quot;IV_combien_crises_sifflements_vouson_reveillez_12mois&quot; REAL,<br>  &quot;V_sifflements_grave_empêchant_dire1ou2mots&quot; REAL,<br>  &quot;VI_avezvous_essouflement_et_sifflements&quot; REAL,<br>  &quot;VII_sifflements_après_effort_12derniersmois&quot; REAL,<br>  &quot;VIII_gêne_respirtoire_reveillant_lanuit_12derniersmois&quot; REAL,<br>  &quot;IX_crise_essouflement_12derniersmois&quot; REAL,<br>  &quot;X_quinte_toux_reveillant_12derniersmois&quot; REAL,<br>  &quot;XI_crise_asthme_12derniersmois&quot; REAL,<br>  &quot;XII_médicaments_pour_asthme&quot; REAL,<br>  &quot;XIII_Crises_asthme_dans_vie&quot; REAL,<br>  &quot;XIV_toux_sèche_sans_rhume_ni_grippe_12derniersmois&quot; REAL,<br>  &quot;XVII_cesproblèmes_et_larmoiements_demangeaisons_12derniersmois&quot; REAL,<br>  &quot;XV_eternuements_nez_coule_bouché_sans_rhumenigrippe&quot; REAL,<br>  &quot;XVI_eternuements_nez_bouché_sans_rhumenigrippe_12derniersmois&quot; REAL,<br>  &quot;XVIII_cesproblèmes_janvier&quot; REAL,<br>  &quot;XVIII_cesproblèmes_févirier&quot; REAL,<br>  &quot;XVIII_cesproblèmes_mars&quot; REAL,<br>  &quot;XVIII_cesproblèmes_avril&quot; REAL,<br>  &quot;XVIII_cesproblèmes_mai&quot; REAL,<br>  &quot;XVIII_cesproblèmes_juin&quot; REAL,<br>  &quot;XVIII_cesproblèmes_juillet&quot; REAL,<br>  &quot;XVIII_cesproblèmes_aout&quot; REAL,<br>  &quot;XVIII_cesproblèmes_septembre&quot; REAL,<br>  &quot;XVIII_cesproblèmes_octobre&quot; REAL,<br>  &quot;XVIII_cesproblèmes_novembre&quot; REAL,<br>  &quot;XVIII_cesproblèmes_decembre&quot; REAL,<br>  &quot;XIX_cesproblèmes_gênés_activités_quotidiennes_12derniersmois&quot; REAL,<br>  &quot;X_avezvous_rhume_de_foins&quot; REAL,<br>  &quot;XXI_avezvous_surlapeau_eruption_intermittente_sur6mois&quot; REAL,<br>  &quot;XXII_eruption_demange_durant_12derniersmois&quot; REAL,<br>  &quot;XXIII_cette_eruption_zonessuivantes_coudes_oreilles_yeux_cou&quot; REAL,<br>  &quot;XXIV_cette_eruption_a_elle_disparu_unmoment_12derniersmois&quot; REAL,<br>  &quot;XXV_combiendefois_eruption_empêchant_dormir_12derniersmois&quot; REAL,<br>  &quot;XXVI_avezvous_eczema&quot; REAL,<br>  &quot;BIOMASSE&quot; TEXT,<br>  &quot;I_Charbon_plusde6mois_cuisson&quot; INTEGER,<br>  &quot;I.1_combien_années_charbon_cuisson&quot; REAL,<br>  &quot;I.2_combien_heures_charbon_parjour&quot; REAL,<br>  &quot;I.3_continuezvous_usage_charbon_cuisson&quot; REAL,<br>  &quot;I.4_Four_Charbon_feu_ouvert&quot; REAL,<br>  &quot;II_Bois_fumier_sciure_cuisson_Utilise&quot; INTEGER,<br>  &quot;II.1_combien_années_bois_cuisson&quot; REAL,<br>  &quot;II.2_combien_heures_parjour_bois&quot; REAL,<br>  &quot;II.3_conttinuezvous_usage_bois_cuisson&quot; REAL,<br>  &quot;BIOMASSE_CUISSON&quot; INTEGER,<br>  &quot;II.4_feudebois_ouvert_à_extérieur&quot; REAL,<br>  &quot;III_Pétrole_plusde6mois_cuisson&quot; INTEGER,<br>  &quot;III.1_combien_années_pétrole_cuisson&quot; REAL,<br>  &quot;III.2_combien_heures_parjour_pétrole&quot; REAL,<br>  &quot;III.3_continuezvous_usage_pétrole_cuisson&quot; REAL,<br>  &quot;III.4_Réchaud_pétrole_ouvertà_extérieur&quot; REAL,<br>  &quot;IV_charbon_plusde6mois_chauffage&quot; INTEGER,<br>  &quot;IV.1_combien_années_charbon_chauffage&quot; REAL,<br>  &quot;IV.2_continezvous_charbon_chauffage&quot; REAL,<br>  &quot;V_Bois_plusde6mois_chauffage&quot; INTEGER,<br>  &quot;V.1_combien_années_bois_chauffage&quot; REAL,<br>  &quot;IV.2_continuezvous_bois_chauffage&quot; REAL,<br>  &quot;BIOMASSE_CHAUFFAGE&quot; INTEGER,<br>  &quot;CUISSON_Combustibles_utilises_3_Types&quot; INTEGER,<br>  &quot;VI_bois_cuisson&quot; INTEGER,<br>  &quot;VI_charbon_cuisson&quot; INTEGER,<br>  &quot;VI_fumier_bouse_cuisson&quot; INTEGER,<br>  &quot;VI_résidus_agricoles_cuisson&quot; INTEGER,<br>  &quot;VI_sciure_cuisson&quot; INTEGER,<br>  &quot;CUISSON_TYP_COMBUST_REC&quot; INTEGER,<br>  &quot;VI_Petrole&quot; INTEGER,<br>  &quot;VI_gaz_cuisson&quot; INTEGER,<br>  &quot;VI_électricité_cuisson&quot; INTEGER,<br>  &quot;VI_autres_combustibles_cuisson&quot; REAL,<br>  &quot;VI_précision_autres_combustible&quot; TEXT,<br>  &quot;VI.1_Combien_heures_cuisinezvous_parjour&quot; REAL,<br>  &quot;VI.2_yeux_larmoient_picotent&quot; REAL,<br>  &quot;VII_Comment_cuisinezvous_chezvous&quot; REAL,<br>  &quot;VII.1_cuisine_ayant_cheminée&quot; REAL,<br>  &quot;VII.2_cuisine_avec_système_evacuation&quot; REAL,<br>  &quot;VII.3_cuisine_avec_fenêtres_extérieur&quot; REAL,<br>  &quot;VII.4_Combien_heures_cuisinezvous_danscettecuisine&quot; REAL,<br>  &quot;VIII_chauffezvous_votre_maison&quot; INTEGER,<br>  &quot;VIII.1_pendant_combiende_mois_dans_année&quot; REAL,<br>  &quot;VIII.2_Chaudière_intérieure_maison&quot; REAL,<br>  &quot;VIII.3_chaudière_ayant_cheminée&quot; REAL,<br>  &quot;VIII.4_chambreàchaudière_ayant_fenêtre&quot; REAL,<br>  &quot;IX_bois_chauffage&quot; INTEGER,<br>  &quot;IX_charbon_chauffage&quot; INTEGER,<br>  &quot;IX_sciure_chauffage&quot; INTEGER,<br>  &quot;IX_fumier_chauffage&quot; INTEGER,<br>  &quot;IX_résidus_agricoles_chauffage&quot; INTEGER,<br>  &quot;CHAUFFAGE_TYPE_COMBUST_REC&quot; INTEGER,<br>  &quot;IX_pétrole_chauffage&quot; INTEGER,<br>  &quot;IX_gaz_chauffage&quot; INTEGER,<br>  &quot;IX_electricité_chauffage&quot; INTEGER,<br>  &quot;IX_autres_combustible_chauffage&quot; INTEGER,<br>  &quot;IX_précision_combustible_chauffage&quot; TEXT,<br>  &quot;X_Aliments_à_vendre_parles_parents&quot; INTEGER,<br>  &quot;X.1_lequel_desparents&quot; REAL,<br>  &quot;X.1_metier_desparents&quot; REAL,<br>  &quot;X.1_autre_metier_à_préciser&quot; TEXT,<br>  &quot;X.2_bois_commerce&quot; REAL,<br>  &quot;X.2_charbon_commerce&quot; REAL,<br>  &quot;X.2_pétrole_commerce&quot; REAL,<br>  &quot;X.2_sciure_commerce&quot; REAL,<br>  &quot;X.2_gaz_commerce&quot; REAL,<br>  &quot;X.2_electricité_commerce&quot; REAL,<br>  &quot;X.2_fumier_commerce&quot; REAL,<br>  &quot;X.2_résidus_agricoles_commerce&quot; REAL,<br>  &quot;X.2_autres_combustible_commerce&quot; REAL,<br>  &quot;X.2_précision_autre_combustible_commerce&quot; REAL,<br>  &quot;X.3_combien_heures_aidezvous_vosparents&quot; REAL,<br>  &quot;X.4_vosyeux_larmoient_picotent_ils&quot; REAL,<br>  &quot;X.5_Comment_cuisinez_vous_ali_vendre&quot; REAL,<br>  &quot;X.6_cettecuisine_a_t_elle_cheminée&quot; REAL,<br>  &quot;X.7_cettecuisine_a_t_elle_système_evacuation&quot; REAL,<br>  &quot;X.8_cettecuisine_a_t_elle_fenêtre_extérieur&quot; REAL,<br>  &quot;X.9_combien_detemps_passezvous_danscette_cuisine&quot; REAL,<br>  &quot;NIVEAU_SOCIO_ECONOMIQUE&quot; TEXT,<br>  &quot;I.1_electricité&quot; REAL,<br>  &quot;I.2_radio&quot; REAL,<br>  &quot;I.3_télévision&quot; REAL,<br>  &quot;I.4_refrigérateur&quot; REAL,<br>  &quot;I.5_vélo&quot; REAL,<br>  &quot;I.6_moto&quot; REAL,<br>  &quot;I.7_voiture&quot; REAL,<br>  &quot;I.8_téléphone_fixe&quot; REAL,<br>  &quot;I.9_four_à_gaz&quot; REAL,<br>  &quot;I.10_téléphone_mobile&quot; REAL,<br>  &quot;II_domestique&quot; REAL,<br>  &quot;III_Utilisation_terrain_familial_Agriculture&quot; REAL,<br>  &quot;IV.1_eau_SNEC_à_domicile&quot; REAL,<br>  &quot;IV.2_eau_SNEC_chez_voisin&quot; REAL,<br>  &quot;IV.3_point_deau_canalisé_publique&quot; REAL,<br>  &quot;IV.4_eau_SNEC_à_puiser_dansla_cour&quot; REAL,<br>  &quot;IV.5_puits_avec_pompe&quot; REAL,<br>  &quot;IV.6_puits_protégé_sans_pompe&quot; REAL,<br>  &quot;IV.7_source_de_surface_bien_protégée&quot; REAL,<br>  &quot;IV.8_eau_de_surface_non_protégée&quot; REAL,<br>  &quot;IV.9_autres_source_eau_potable&quot; REAL,<br>  &quot;V.1_principal_combustible_cuisson_Gaz&quot; REAL,<br>  &quot;V.2_principal_combustible_cuisson_Réchaud_Pétrole&quot; REAL,<br>  &quot;V.3_principal_combustible_cuisson_Bois_fumier&quot; REAL,<br>  &quot;V.4_principal_combustible_cuisson_Charbon&quot; REAL,<br>  &quot;V.5_principal_combustible_cuisson_Autres&quot; REAL,<br>  &quot;VI.1_principal_type_de_toilette_Toilette_moderne_Privée&quot; REAL,<br>  &quot;VI.2_principal_type_de_toilette_Toilette_moderne_partagée&quot; REAL,<br>  &quot;VI.3_principal_type_de_toilette_Fosse_latrine_privée&quot; REAL,<br>  &quot;VI.4_principal_type_de_toilette_Fosse_latrine_Commune&quot; REAL,<br>  &quot;VI.5_principal_type_de_toilette_Latrine_améliorée_partagée&quot; REAL,<br>  &quot;VI.6_principal_type_de_toilette_Fosse_latrine_améliorée_propre&quot; REAL,<br>  &quot;VI.7_principal_type_de_toilette_Buisson_Sol&quot; REAL,<br>  &quot;VII.1_principal_matériel_revêtement_sol_maison_Terre_Sable&quot; REAL,<br>  &quot;VII.2_principal_matériel_revêtement_sol_maison_Ciment&quot; REAL,<br>  &quot;VII.3_principal_matériel_revêtement_sol_maison_Carreaux&quot; REAL,<br>  &quot;VII.4_principal_matériel_revêtement_sol_maison_Fumier_bois&quot; REAL,<br>  &quot;VII.5_principal_matériel_revêtement_sol_maison_Vinyle_Gerflex&quot; REAL,<br>  &quot;VII.6_principal_matériel_revêtement_sol_maison_Tapis&quot; REAL,<br>  &quot;VIII_combien_personnes_pourchaque_chambre&quot; REAL,<br>  &quot;TABAGISME&quot; TEXT,<br>  &quot;I_cigarettes_manufacturées_enroulées&quot; INTEGER,<br>  &quot;I.1_quel_âge_commencer_tabac_régulièrement&quot; REAL,<br>  &quot;I.2_âge_arrêt_fumer&quot; REAL,<br>  &quot;I.2_avezvous_arêter_de_fumer&quot; REAL,<br>  &quot;TABAC_RECC&quot; INTEGER,<br>  &quot;TABAGISME_REC&quot; INTEGER,<br>  &quot;NB_AN_TABAC_EX_FUMEUR&quot; REAL,<br>  &quot;NB_AN_TABAC_CUMUL_TOTAL_DEFINITIF&quot; REAL,<br>  &quot;PAQUETS_ANNEES_REC&quot; REAL,<br>  &quot;TABAC_PA_cutt&quot; REAL,<br>  &quot;I.4_Nombre_cigarettes_par_jour&quot; REAL,<br>  &quot;I.4_Nombre_cigarettes_par_semaine&quot; REAL,<br>  &quot;I.5_type_cigarettes_fumées&quot; REAL,<br>  &quot;II_Tabac_en_Prise&quot; REAL,<br>  &quot;II.1_âge_début_tabac_prisé&quot; REAL,<br>  &quot;II.2_avez_vous_arrêter_de_priser&quot; REAL,<br>  &quot;II.3_âge_arrêt_tabac_prisé&quot; REAL,<br>  &quot;II.4_combien_de_prises_par_jour&quot; REAL,<br>  &quot;II.4_combien_de_prises_par_semaine&quot; REAL,<br>  &quot;III_fumez_vous_la_pipe&quot; REAL,<br>  &quot;III.1_âge_début_pipe&quot; REAL,<br>  &quot;III.2_avezvous_arrêter_pipe&quot; REAL,<br>  &quot;III.3_âge_arrêt_pipe&quot; REAL,<br>  &quot;III.4_combien_jetde_tabac_par_jour&quot; REAL,<br>  &quot;III.4_combien_jetde_tabac_par_semaine&quot; REAL,<br>  &quot;IV_fumezvous_cigares&quot; REAL,<br>  &quot;IV.1_âge_début_cigares&quot; REAL,<br>  &quot;IV.2_avezvous_arrêter_cigares&quot; REAL,<br>  &quot;IV.3_âge_arrêt_cigares&quot; REAL,<br>  &quot;IV.4_combien_cigares_par_jour&quot; REAL,<br>  &quot;IV.4_combien_cigares_par_semaime&quot; REAL,<br>  &quot;V_fumez_vous_canabis&quot; REAL,<br>  &quot;V.1_âge_début_canabis&quot; REAL,<br>  &quot;V.2_avezvous_arrêter_canabis&quot; REAL,<br>  &quot;V.3_âge_arrêt_canabis&quot; REAL,<br>  &quot;V.4_combiende_joint_canabis_par_jour&quot; REAL,<br>  &quot;V.4_combiende_joint_canabis_par_semaine&quot; REAL,<br>  &quot;VI_fumez_vous_autre_substance&quot; REAL,<br>  &quot;VI_type_autre_substance_fumé&quot; TEXT,<br>  &quot;VI_unité_autre_substance_fumé&quot; TEXT,<br>  &quot;VI.1_âge_début_pour_autre_substance_fumé&quot; REAL,<br>  &quot;VI.2_avezvous_arrêter_cette_substance&quot; REAL,<br>  &quot;VI.3_âge_arrêt_autre_substance_fumé&quot; REAL,<br>  &quot;VI.4_Nombre_unité_autre_substance_fumé_par_jour&quot; REAL,<br>  &quot;VI.4_Nombre_unité_autre_substance_fumé_par_semaine&quot; REAL,<br>  &quot;VII_parents_tuteurs_fument_ils_regulierement_maison&quot; REAL,<br>  &quot;Fumeur_Narguilé&quot; REAL,<br>  &quot;Age_arret_Tabac_Rec&quot; REAL,<br>  &quot;PHQ_9&quot; REAL,<br>  &quot;PHQ_9_Rec_Depression_ou_Non&quot; REAL,<br>  &quot;GAD_7&quot; REAL,<br>  &quot;ANXITE_REC&quot; REAL,<br>  &quot;IMC_Rec&quot; REAL,<br>  &quot;Age_DateNais_Date_Enque_Rec&quot; REAL,<br>  &quot;VEMS_PREDICTED&quot; REAL,<br>  &quot;VEMS_PREDICTEC_PERCENT&quot; REAL,<br>  &quot;VEMS_POST&quot; REAL,<br>  &quot;VEMS_POST_PERCENT&quot; REAL,<br>  &quot;Stade_de_severité&quot; REAL,<br>  &quot;VEMS_STADE_SEVERITE&quot; REAL,<br>  &quot;VI.4_CVF_Pre&quot; REAL,<br>  &quot;VI.5_VEMS_Pre&quot; REAL,<br>  &quot;VI.6_VEMSsurCVF_Pre&quot; REAL,<br>  &quot;VI.7_DEMM_Pre&quot; REAL,<br>  &quot;VI.8_DEP_Pre_VERIFICATION_A_FAIRE&quot; REAL,<br>  &quot;DEMM_sur_DEP&quot; REAL,<br>  &quot;VI.4_CVF_post&quot; REAL,<br>  &quot;VI.5_VEMS_Post&quot; REAL,<br>  &quot;VI.6_VEMSsurCVF_Post&quot; REAL,<br>  &quot;VEMS_sur_CVF_Post_Rec&quot; REAL,<br>  &quot;RATIO_Pre_LIN&quot; REAL,<br>  &quot;VI.7_DEMM_Post&quot; REAL,<br>  &quot;VI.8_DEP_Post&quot; REAL,<br>  &quot;FEV1_LLN_GLI&quot; REAL,<br>  &quot;FVC_PREDICTED_GLI&quot; REAL,<br>  &quot;FVC_LLN_GLI&quot; REAL,<br>  &quot;LLN_FEV1_ON_FVC_GLI&quot; REAL,<br>  &quot;FVC_PERCENT_PREDICTED_REC&quot; REAL,<br>  &quot;PATTERN_RESTRICTIF_REC&quot; REAL,<br>  &quot;SEVERITE_PATTERN_RESTRICTIF&quot; REAL,<br>  &quot;OLD_Pre_Ratio_Fixed&quot; REAL,<br>  &quot;RAPPORT_RATIO_POUR_TVO_PRE&quot; REAL,<br>  &quot;TVO_PRE&quot; REAL,<br>  &quot;RAPPORT_RATIO_POUR_COPD&quot; REAL,<br>  &quot;COPD_LLN&quot; REAL,<br>  &quot;BPCO_FIXED_CUT_OFF&quot; REAL,<br>  &quot;SCORE_CHARLSON&quot; REAL,<br>  &quot;ALCOOLISME_REC&quot; REAL,<br>  &quot;Index_ETHYLIQUE_REC&quot; REAL,<br>  &quot;EPWORTH_REC&quot; REAL,<br>  &quot;EDS_REC&quot; REAL,<br>  &quot;STOP_BANG_REC&quot; REAL,<br>  &quot;HAUT_RISQUE_SAHOS_REC&quot; REAL,<br>  &quot;BMI_REC_Obése_Ou_Non&quot; REAL,<br>  &quot;LIN_RATIO_FEV1onFVC_Femme&quot; REAL,<br>  &quot;VEMS_PREDICTED_HOE&quot; REAL,<br>  &quot;VEMS_PREDICTED_FEMME&quot; REAL,<br>  &quot;Diff_VEMS_Post_VEMS_Pre&quot; REAL,<br>  &quot;Diff_VEMS_Inf200ml&quot; REAL,<br>  &quot;Diff_VEMS_Post_VEMS_Pre_Proportion&quot; REAL,<br>  &quot;Diff_FEV1onFVC_Post_LLN_Rwanda&quot; REAL,<br>  &quot;BPCO_Rwanda_LLN&quot; REAL,<br>  &quot;MMSENSIB&quot; REAL,<br>  &quot;MM1SENSI&quot; REAL,<br>  &quot;MM2SENSI&quot; REAL,<br>  &quot;MM3SENSI&quot; REAL,<br>  &quot;MM4SENSI&quot; REAL,<br>  &quot;MM5SENSI&quot; REAL,<br>  &quot;MM6SENSI&quot; REAL,<br>  &quot;MM7SENSI&quot; REAL,<br>  &quot;MONO_POLY_SENSIBILISATION&quot; REAL,<br>  &quot;AUMOINS_1_SENSIBILISATION&quot; REAL,<br>  &quot;MM8SENSI&quot; REAL,<br>  &quot;MM9SENSI&quot; REAL,<br>  &quot;N123LLEC&quot; REAL,<br>  &quot;N124LARA&quot; REAL,<br>  &quot;N125LATL&quot; REAL,<br>  &quot;N126LERF&quot; REAL,<br>  &quot;N127LABI&quot; REAL,<br>  &quot;N128LAMO&quot; REAL,<br>  &quot;N129LAVO&quot; REAL,<br>  &quot;N130TLPH&quot; REAL,<br>  &quot;N131FOUR&quot; REAL,<br>  &quot;N132TLPH&quot; REAL,<br>  &quot;N133AVEZ&quot; REAL,<br>  &quot;N134LESM&quot; REAL,<br>  &quot;N135LEAU&quot; REAL,<br>  &quot;N136LEAU&quot; REAL,<br>  &quot;N137POIN&quot; REAL,<br>  &quot;N138LEAU&quot; REAL,<br>  &quot;N139PUIT&quot; REAL,<br>  &quot;N140PUIT&quot; REAL,<br>  &quot;N141SOUR&quot; REAL,<br>  &quot;N142EAUD&quot; REAL,<br>  &quot;N143AUTR&quot; REAL,<br>  &quot;N144GAZ1&quot; REAL,<br>  &quot;N145RCHA&quot; REAL,<br>  &quot;N146BOIS&quot; REAL,<br>  &quot;N147CHAR&quot; REAL,<br>  &quot;N148AUTR&quot; REAL,<br>  &quot;N149TOIL&quot; REAL,<br>  &quot;N150TOIL&quot; REAL,<br>  &quot;N151FOSS&quot; REAL,<br>  &quot;N152FOSS&quot; REAL,<br>  &quot;N153LATR&quot; REAL,<br>  &quot;N154FOSS&quot; REAL,<br>  &quot;N155BUIS&quot; REAL,<br>  &quot;N156LATE&quot; REAL,<br>  &quot;N157CIME&quot; REAL,<br>  &quot;N158CARR&quot; REAL,<br>  &quot;N159FUMI&quot; REAL,<br>  &quot;N160VINY&quot; REAL,<br>  &quot;N161TAPI&quot; REAL,<br>  &quot;N162COMB&quot; REAL,<br>  &quot;IAH_VALIDE&quot; REAL,<br>  &quot;SAHOS_MODERE_SEVERE&quot; REAL,<br>  &quot;SAHOS&quot; REAL,<br>  &quot;Index_SPO2&quot; REAL,<br>  &quot;VEMS_SUR_CVF_PRE&quot; REAL,<br>  &quot;NSE_ITEM&quot; REAL,<br>  &quot;NSE_ITEM_REC&quot; REAL,<br>  &quot;Quintile_REC&quot; REAL,<br>  &quot;NSE_BAS_INTERM_ELEVE_REC&quot; REAL,<br>  &quot;PERSONNES_CHAMBRE_REC&quot; REAL,<br>  &quot;FEV1_on_FVC_ratio&quot; REAL,<br>  &quot;FEV1_predicted&quot; REAL,<br>  &quot;FEV1FVC_predicted&quot; REAL,<br>  &quot;FVC_predicted&quot; REAL,<br>  &quot;FEF75_predicted&quot; REAL,<br>  &quot;FEF2575_predicted&quot; REAL,<br>  &quot;FEV1_zscore&quot; REAL,<br>  &quot;FEV1FVC_zscore&quot; REAL,<br>  &quot;FVC_zscore&quot; REAL,<br>  &quot;FEF75_zscore&quot; REAL,<br>  &quot;FEF2575_zscore&quot; REAL,<br>  &quot;FEV1_LLN&quot; REAL,<br>  &quot;FEV1FVC_LLN&quot; REAL,<br>  &quot;FEV1FVC_ULN&quot; REAL,<br>  &quot;FVC_LLN&quot; REAL,<br>  &quot;FEF75_LLN&quot; REAL,<br>  &quot;FEF2575_LLN&quot; REAL,<br>  &quot;cal_OLD_pre&quot; REAL,<br>  &quot;OLD_pre_LLN&quot; REAL,<br>  &quot;OLD_fixed&quot; INTEGER,<br>  &quot;cal_OLD_post&quot; REAL,<br>  &quot;cal_fevfvc_post&quot; REAL,<br>  &quot;OLD_post_LLN_or_COPD_LLN&quot; REAL,<br>  &quot;OLD_post_fixed_or_COPD_fixed&quot; REAL,<br>  &quot;AGE_REC_40&quot; INTEGER,<br>  &quot;City_REC&quot; INTEGER,<br>  &quot;fev_percent_predicted_pre&quot; REAL,<br>  &quot;severity_OLD_pre&quot; REAL,<br>  &quot;fev_percent_predicted_post&quot; REAL,<br>  &quot;severity_COPD&quot; REAL,<br>  &quot;filter_$&quot; INTEGER,<br>  &quot;bmi_copd&quot; REAL<br>)</td>\n",
       "        </tr>\n",
       "    </tbody>\n",
       "</table>"
      ],
      "text/plain": [
       "[('table', 'table_demographie', 'table_demographie', 2, 'CREATE TABLE \"table_demographie\" (\\n\"NUM_ORDRE\" INTEGER,\\n  \"GROUPE\" INTEGER,\\n  \"Zone_denombrement\" REAL,\\n  \"Numero_menage\" INTEGER,\\n  \"Numéro_suj ... (277 characters truncated) ... AL,\\n  \"I.4_niveau_education_père\" REAL,\\n  \"I.5_niveau_education_mère\" REAL,\\n  \"I.6_Profession_principale\" TEXT,\\n  \"CATEGORIE_PROFESS_REC\" REAL\\n)'),\n",
       " ('table', 'table_demographie_clinique', 'table_demographie_clinique', 116, 'CREATE TABLE \"table_demographie_clinique\" (\\n\"NUM_ORDRE\" INTEGER,\\n  \"I.6_Profession_principale\" TEXT,\\n  \"CATEGORIE_PROFESS_REC\" REAL,\\n  \"I.7_catég ... (698 characters truncated) ... \" TEXT,\\n  \"II.1.5_crachez_vous_habituellement\" REAL,\\n  \"II.1.6_crachez_vous_laplupart_desjours\" REAL,\\n  \"II.1.7_crachez_vous_3mois_ouplus\" REAL\\n)'),\n",
       " ('table', 'table_clinique', 'table_clinique', 196, 'CREATE TABLE \"table_clinique\" (\\n\"NUM_ORDRE\" INTEGER,\\n  \"II.1.8_depuisconbien_années_crachez_vous\" REAL,\\n  \"BRONCHITE_CHRONIQUE_REC\" INTEGER,\\n  \"T ... (15179 characters truncated) ... ed_pre\" REAL,\\n  \"severity_OLD_pre\" REAL,\\n  \"fev_percent_predicted_post\" REAL,\\n  \"severity_COPD\" REAL,\\n  \"filter_$\" INTEGER,\\n  \"bmi_copd\" REAL\\n)')]"
      ]
     },
     "execution_count": 7,
     "metadata": {},
     "output_type": "execute_result"
    }
   ],
   "source": [
    "%%sql\n",
    "\n",
    "SELECT *\n",
    "FROM sqlite_schema"
   ]
  },
  {
   "cell_type": "code",
   "execution_count": null,
   "id": "3a56cc6c-5517-4e94-b995-0db1d7f9f6c2",
   "metadata": {},
   "outputs": [],
   "source": [
    "## une feuille de calcul\n",
    "db = sqlite3.connect('sqlite.db')\n",
    "dfs = pd.read_excel(excel_file , sheet_name=None)\n",
    "for table, df in dfs.items():\n",
    "    df.to_sql(table, db)\n",
    "    print(f'{df} inserted successfully')"
   ]
  },
  {
   "cell_type": "code",
   "execution_count": null,
   "id": "fc56a881-bb68-439c-ab2c-29af7034c3a0",
   "metadata": {},
   "outputs": [],
   "source": []
  }
 ],
 "metadata": {
  "kernelspec": {
   "display_name": "Python 3 (ipykernel)",
   "language": "python",
   "name": "python3"
  },
  "language_info": {
   "codemirror_mode": {
    "name": "ipython",
    "version": 3
   },
   "file_extension": ".py",
   "mimetype": "text/x-python",
   "name": "python",
   "nbconvert_exporter": "python",
   "pygments_lexer": "ipython3",
   "version": "3.11.3"
  }
 },
 "nbformat": 4,
 "nbformat_minor": 5
}
