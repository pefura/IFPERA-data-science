{
 "cells": [
  {
   "cell_type": "markdown",
   "id": "4a44278a-1d0b-45c1-b236-4aae813627c2",
   "metadata": {},
   "source": [
    "### Exercice semaine 13-Series temporelles\n",
    "##### Les données des cours en bourse en EURO de deux monnaies electroniques (Bitcoin et Ethereum) sont fournies respectivement aux adresses:\n",
    "- [url_Bitcoin](https://raw.githubusercontent.com/pefura/IFPERA-data-science/main/BTC-EU.csv)\n",
    "- [url_Ethereum](https://raw.githubusercontent.com/pefura/IFPERA-data-science/main/ETH-EUR.csv)\n"
   ]
  },
  {
   "cell_type": "code",
   "execution_count": 6,
   "id": "6cad05ad-436f-4e5c-98ef-e2ada4db43f5",
   "metadata": {},
   "outputs": [],
   "source": [
    "# Importer les librairies \n",
    "import pandas as pd\n",
    "import matplotlib.pyplot as plt\n",
    "import plotly.express as px\n",
    "\n",
    "from sklearn.metrics import mean_absolute_error\n",
    "from statsmodels.graphics.tsaplots import plot_acf, plot_pacf\n",
    "from statsmodels.tsa.ar_model import AutoReg\n"
   ]
  },
  {
   "cell_type": "markdown",
   "id": "5dc611fd-cdbc-4ecc-b1ad-3cf409bcb116",
   "metadata": {},
   "source": [
    "### 1. Exploration of time series dataset"
   ]
  },
  {
   "cell_type": "markdown",
   "id": "aea2f063-638e-4ac6-95de-aabae8ef9bd3",
   "metadata": {},
   "source": [
    "**Task 1.1:** Write a function call `\"wrangle\"` to import csv (with comme separated values) dataset of Bitcoin and Ethereum stock price from a url. Your function should have one argument and make sure that the index of dataframe is `Date` column and should be set as pandas.DatetimeIndex.\n",
    "- [Define function in python](https://cs.stanford.edu/people/nick/py/python-function.html)\n",
    "- [Read CSV file using pandas](https://pandas.pydata.org/docs/reference/api/pandas.read_csv.html)\n",
    "- [Define Data time index in pandas ](https://pandas.pydata.org/docs/reference/api/pandas.DatetimeIndex.html)\n",
    "  "
   ]
  },
  {
   "cell_type": "code",
   "execution_count": 1,
   "id": "0f0309bf-45cb-4587-b3f1-44044bf9102b",
   "metadata": {},
   "outputs": [],
   "source": [
    "# Define your function here\n",
    "..."
   ]
  },
  {
   "cell_type": "markdown",
   "id": "3f36d2de-0553-4046-a16d-d22284276851",
   "metadata": {},
   "source": [
    "**Task 1. 2:** Import Bitcoin dataset as `BTC` and Ethereum dataset as `ETH` using your `\"wrangle\"` function. Use info() method of pandas to verify the contents of dataset. Also get the 5 first rows of each dataframe. "
   ]
  },
  {
   "cell_type": "code",
   "execution_count": 47,
   "id": "bb9a23f9-2dbd-45a7-9a43-a282401e3119",
   "metadata": {},
   "outputs": [
    {
     "name": "stdout",
     "output_type": "stream",
     "text": [
      "<class 'pandas.core.frame.DataFrame'>\n",
      "DatetimeIndex: 2923 entries, 2015-06-16 to 2023-06-16\n",
      "Data columns (total 6 columns):\n",
      " #   Column     Non-Null Count  Dtype  \n",
      "---  ------     --------------  -----  \n",
      " 0   Open       2923 non-null   float64\n",
      " 1   High       2923 non-null   float64\n",
      " 2   Low        2923 non-null   float64\n",
      " 3   Close      2923 non-null   float64\n",
      " 4   Adj Close  2923 non-null   float64\n",
      " 5   Volume     2923 non-null   int64  \n",
      "dtypes: float64(5), int64(1)\n",
      "memory usage: 159.9 KB\n",
      "BTC info: None\n"
     ]
    },
    {
     "data": {
      "text/html": [
       "<div>\n",
       "<style scoped>\n",
       "    .dataframe tbody tr th:only-of-type {\n",
       "        vertical-align: middle;\n",
       "    }\n",
       "\n",
       "    .dataframe tbody tr th {\n",
       "        vertical-align: top;\n",
       "    }\n",
       "\n",
       "    .dataframe thead th {\n",
       "        text-align: right;\n",
       "    }\n",
       "</style>\n",
       "<table border=\"1\" class=\"dataframe\">\n",
       "  <thead>\n",
       "    <tr style=\"text-align: right;\">\n",
       "      <th></th>\n",
       "      <th>Open</th>\n",
       "      <th>High</th>\n",
       "      <th>Low</th>\n",
       "      <th>Close</th>\n",
       "      <th>Adj Close</th>\n",
       "      <th>Volume</th>\n",
       "    </tr>\n",
       "    <tr>\n",
       "      <th>Date</th>\n",
       "      <th></th>\n",
       "      <th></th>\n",
       "      <th></th>\n",
       "      <th></th>\n",
       "      <th></th>\n",
       "      <th></th>\n",
       "    </tr>\n",
       "  </thead>\n",
       "  <tbody>\n",
       "    <tr>\n",
       "      <th>2015-06-16</th>\n",
       "      <td>210.028381</td>\n",
       "      <td>224.049484</td>\n",
       "      <td>209.457993</td>\n",
       "      <td>223.236053</td>\n",
       "      <td>223.236053</td>\n",
       "      <td>37024646</td>\n",
       "    </tr>\n",
       "    <tr>\n",
       "      <th>2015-06-17</th>\n",
       "      <td>223.171982</td>\n",
       "      <td>228.111008</td>\n",
       "      <td>219.031372</td>\n",
       "      <td>219.420822</td>\n",
       "      <td>219.420822</td>\n",
       "      <td>38604348</td>\n",
       "    </tr>\n",
       "    <tr>\n",
       "      <th>2015-06-18</th>\n",
       "      <td>219.547577</td>\n",
       "      <td>221.050415</td>\n",
       "      <td>214.824890</td>\n",
       "      <td>218.984268</td>\n",
       "      <td>218.984268</td>\n",
       "      <td>27244921</td>\n",
       "    </tr>\n",
       "    <tr>\n",
       "      <th>2015-06-19</th>\n",
       "      <td>219.015915</td>\n",
       "      <td>221.867935</td>\n",
       "      <td>214.695724</td>\n",
       "      <td>215.416992</td>\n",
       "      <td>215.416992</td>\n",
       "      <td>21105504</td>\n",
       "    </tr>\n",
       "    <tr>\n",
       "      <th>2015-06-20</th>\n",
       "      <td>215.350067</td>\n",
       "      <td>216.493179</td>\n",
       "      <td>211.912811</td>\n",
       "      <td>215.950684</td>\n",
       "      <td>215.950684</td>\n",
       "      <td>18148921</td>\n",
       "    </tr>\n",
       "  </tbody>\n",
       "</table>\n",
       "</div>"
      ],
      "text/plain": [
       "                  Open        High         Low       Close   Adj Close  \\\n",
       "Date                                                                     \n",
       "2015-06-16  210.028381  224.049484  209.457993  223.236053  223.236053   \n",
       "2015-06-17  223.171982  228.111008  219.031372  219.420822  219.420822   \n",
       "2015-06-18  219.547577  221.050415  214.824890  218.984268  218.984268   \n",
       "2015-06-19  219.015915  221.867935  214.695724  215.416992  215.416992   \n",
       "2015-06-20  215.350067  216.493179  211.912811  215.950684  215.950684   \n",
       "\n",
       "              Volume  \n",
       "Date                  \n",
       "2015-06-16  37024646  \n",
       "2015-06-17  38604348  \n",
       "2015-06-18  27244921  \n",
       "2015-06-19  21105504  \n",
       "2015-06-20  18148921  "
      ]
     },
     "execution_count": 47,
     "metadata": {},
     "output_type": "execute_result"
    }
   ],
   "source": [
    "BTC = ...\n",
    "print(\"BTC info:\", BTC.info())\n",
    "BTC.head()"
   ]
  },
  {
   "cell_type": "code",
   "execution_count": 48,
   "id": "d806df1d-92b2-4012-9da9-b4a2eaf61fe0",
   "metadata": {},
   "outputs": [
    {
     "name": "stdout",
     "output_type": "stream",
     "text": [
      "<class 'pandas.core.frame.DataFrame'>\n",
      "DatetimeIndex: 2044 entries, 2017-11-11 to 2023-06-16\n",
      "Data columns (total 6 columns):\n",
      " #   Column     Non-Null Count  Dtype  \n",
      "---  ------     --------------  -----  \n",
      " 0   Open       2044 non-null   float64\n",
      " 1   High       2044 non-null   float64\n",
      " 2   Low        2044 non-null   float64\n",
      " 3   Close      2044 non-null   float64\n",
      " 4   Adj Close  2044 non-null   float64\n",
      " 5   Volume     2044 non-null   int64  \n",
      "dtypes: float64(5), int64(1)\n",
      "memory usage: 111.8 KB\n",
      "ETH info: None\n"
     ]
    },
    {
     "data": {
      "text/html": [
       "<div>\n",
       "<style scoped>\n",
       "    .dataframe tbody tr th:only-of-type {\n",
       "        vertical-align: middle;\n",
       "    }\n",
       "\n",
       "    .dataframe tbody tr th {\n",
       "        vertical-align: top;\n",
       "    }\n",
       "\n",
       "    .dataframe thead th {\n",
       "        text-align: right;\n",
       "    }\n",
       "</style>\n",
       "<table border=\"1\" class=\"dataframe\">\n",
       "  <thead>\n",
       "    <tr style=\"text-align: right;\">\n",
       "      <th></th>\n",
       "      <th>Open</th>\n",
       "      <th>High</th>\n",
       "      <th>Low</th>\n",
       "      <th>Close</th>\n",
       "      <th>Adj Close</th>\n",
       "      <th>Volume</th>\n",
       "    </tr>\n",
       "    <tr>\n",
       "      <th>Date</th>\n",
       "      <th></th>\n",
       "      <th></th>\n",
       "      <th></th>\n",
       "      <th></th>\n",
       "      <th></th>\n",
       "      <th></th>\n",
       "    </tr>\n",
       "  </thead>\n",
       "  <tbody>\n",
       "    <tr>\n",
       "      <th>2015-06-16</th>\n",
       "      <td>210.028381</td>\n",
       "      <td>224.049484</td>\n",
       "      <td>209.457993</td>\n",
       "      <td>223.236053</td>\n",
       "      <td>223.236053</td>\n",
       "      <td>37024646</td>\n",
       "    </tr>\n",
       "    <tr>\n",
       "      <th>2015-06-17</th>\n",
       "      <td>223.171982</td>\n",
       "      <td>228.111008</td>\n",
       "      <td>219.031372</td>\n",
       "      <td>219.420822</td>\n",
       "      <td>219.420822</td>\n",
       "      <td>38604348</td>\n",
       "    </tr>\n",
       "    <tr>\n",
       "      <th>2015-06-18</th>\n",
       "      <td>219.547577</td>\n",
       "      <td>221.050415</td>\n",
       "      <td>214.824890</td>\n",
       "      <td>218.984268</td>\n",
       "      <td>218.984268</td>\n",
       "      <td>27244921</td>\n",
       "    </tr>\n",
       "    <tr>\n",
       "      <th>2015-06-19</th>\n",
       "      <td>219.015915</td>\n",
       "      <td>221.867935</td>\n",
       "      <td>214.695724</td>\n",
       "      <td>215.416992</td>\n",
       "      <td>215.416992</td>\n",
       "      <td>21105504</td>\n",
       "    </tr>\n",
       "    <tr>\n",
       "      <th>2015-06-20</th>\n",
       "      <td>215.350067</td>\n",
       "      <td>216.493179</td>\n",
       "      <td>211.912811</td>\n",
       "      <td>215.950684</td>\n",
       "      <td>215.950684</td>\n",
       "      <td>18148921</td>\n",
       "    </tr>\n",
       "  </tbody>\n",
       "</table>\n",
       "</div>"
      ],
      "text/plain": [
       "                  Open        High         Low       Close   Adj Close  \\\n",
       "Date                                                                     \n",
       "2015-06-16  210.028381  224.049484  209.457993  223.236053  223.236053   \n",
       "2015-06-17  223.171982  228.111008  219.031372  219.420822  219.420822   \n",
       "2015-06-18  219.547577  221.050415  214.824890  218.984268  218.984268   \n",
       "2015-06-19  219.015915  221.867935  214.695724  215.416992  215.416992   \n",
       "2015-06-20  215.350067  216.493179  211.912811  215.950684  215.950684   \n",
       "\n",
       "              Volume  \n",
       "Date                  \n",
       "2015-06-16  37024646  \n",
       "2015-06-17  38604348  \n",
       "2015-06-18  27244921  \n",
       "2015-06-19  21105504  \n",
       "2015-06-20  18148921  "
      ]
     },
     "execution_count": 48,
     "metadata": {},
     "output_type": "execute_result"
    }
   ],
   "source": [
    "ETH = ...\n",
    "print(\"ETH info:\", ETH.info())\n",
    "BTC.head()"
   ]
  },
  {
   "cell_type": "markdown",
   "id": "db616c97-5396-4b5a-b194-6fe678845f49",
   "metadata": {},
   "source": [
    "**Task 1. 3:** Determine the  `earliest date` and  `latest date` of the two datasets\n",
    "- What is your conclusion?"
   ]
  },
  {
   "cell_type": "code",
   "execution_count": null,
   "id": "bab948c3-bf53-469e-9450-6f71a87ed0b8",
   "metadata": {},
   "outputs": [],
   "source": [
    "print(\"BTC earliest date:\", ...)\n",
    "print(\"ETH earliest date:\", ...)\n",
    "\n",
    "print(\"BTC latest date:\", ...)\n",
    "print(\"ETH latest date:\"...)"
   ]
  },
  {
   "cell_type": "markdown",
   "id": "35491ce8-688d-47f9-9bbc-51f7d2485d2c",
   "metadata": {},
   "source": [
    "**Task 1. 4:** Use `merge` pandas function to combine the two datasets in one dataset named `df` on the same `earliest date` and `latest date`. specify `suffixes` for BTC and ETH\n",
    "- [Merge](https://realpython.com/pandas-merge-join-and-concat/)\n"
   ]
  },
  {
   "cell_type": "code",
   "execution_count": 57,
   "id": "ce9dc2c2-25dc-4dc0-be71-6244e7791706",
   "metadata": {},
   "outputs": [
    {
     "name": "stdout",
     "output_type": "stream",
     "text": [
      "<class 'pandas.core.frame.DataFrame'>\n",
      "DatetimeIndex: 2044 entries, 2017-11-11 to 2023-06-16\n",
      "Data columns (total 12 columns):\n",
      " #   Column         Non-Null Count  Dtype  \n",
      "---  ------         --------------  -----  \n",
      " 0   Open_BTC       2044 non-null   float64\n",
      " 1   High_BTC       2044 non-null   float64\n",
      " 2   Low_BTC        2044 non-null   float64\n",
      " 3   Close_BTC      2044 non-null   float64\n",
      " 4   Adj Close_BTC  2044 non-null   float64\n",
      " 5   Volume_BTC     2044 non-null   int64  \n",
      " 6   Open_ETH       2044 non-null   float64\n",
      " 7   High_ETH       2044 non-null   float64\n",
      " 8   Low_ETH        2044 non-null   float64\n",
      " 9   Close_ETH      2044 non-null   float64\n",
      " 10  Adj Close_ETH  2044 non-null   float64\n",
      " 11  Volume_ETH     2044 non-null   int64  \n",
      "dtypes: float64(10), int64(2)\n",
      "memory usage: 207.6 KB\n"
     ]
    }
   ],
   "source": [
    "df = ...\n",
    "df.info()"
   ]
  },
  {
   "cell_type": "markdown",
   "id": "ae943372-093a-47c7-baf3-96bece579c89",
   "metadata": {},
   "source": [
    "**Task 1. 5:** Define time series"
   ]
  },
  {
   "cell_type": "code",
   "execution_count": null,
   "id": "39dfb903-38fa-4224-91b7-ab566bdb4b30",
   "metadata": {},
   "outputs": [],
   "source": [
    " # Give your definition here\n",
    "\n"
   ]
  },
  {
   "cell_type": "markdown",
   "id": "32abfae4-b8c4-4288-a66a-cfe12ae6fa86",
   "metadata": {},
   "source": [
    "**Task 1.6:** Expliquer les expressions suivantes concernant les séries chronologiques et donner les exemples de figures les illustrant:\n",
    "- Tendance d'une série chronologique\n",
    "- Stationnarité\n",
    "- Saisonalité\n",
    "- Cycle"
   ]
  },
  {
   "cell_type": "code",
   "execution_count": null,
   "id": "c9d49f05-919d-4adb-8969-a9fc1a99892a",
   "metadata": {},
   "outputs": [],
   "source": [
    "# Tendance d'une série chronologique\n"
   ]
  },
  {
   "cell_type": "code",
   "execution_count": null,
   "id": "33fa14f4-e63a-47c7-a9b5-79b7d806ae00",
   "metadata": {},
   "outputs": [],
   "source": [
    "# Stationarité\n"
   ]
  },
  {
   "cell_type": "code",
   "execution_count": null,
   "id": "19049794-5b80-4d13-af6f-8d2e48b85b1a",
   "metadata": {},
   "outputs": [],
   "source": [
    "# Saisonalité\n"
   ]
  },
  {
   "cell_type": "code",
   "execution_count": null,
   "id": "c2aa7d5c-405f-49be-ad2b-df23291ef08e",
   "metadata": {},
   "outputs": [],
   "source": [
    "# Cycle\n"
   ]
  },
  {
   "cell_type": "markdown",
   "id": "3bce79f9-a744-430c-bd1c-bd55476bbf05",
   "metadata": {},
   "source": [
    "**Task 1.7:** Use pandas plot to show evolution of BTC and ETH for the same period at `Close`. Specify Date as x-axis and Close stock price as y-axis. The title should be Stock price of cryptocurrencies \n",
    "1) You should use \"Close\" column as a proxy of stock price of each day.\n",
    "2) First use same figure to plot the stock price and then separated figure.\n",
    "3) The dimension of your figure should be 15 x 6\n",
    "4) Give a comment\n",
    "- [Plot in pandas ](https://pandas.pydata.org/docs/reference/api/pandas.DataFrame.plot.html)"
   ]
  },
  {
   "cell_type": "code",
   "execution_count": null,
   "id": "35a90075-9058-4994-a5c2-81e5a17cd499",
   "metadata": {},
   "outputs": [],
   "source": []
  },
  {
   "cell_type": "code",
   "execution_count": null,
   "id": "ea3954f9-b595-43f0-9883-def285172f5b",
   "metadata": {},
   "outputs": [],
   "source": []
  },
  {
   "cell_type": "markdown",
   "id": "4d49b6fd-b8be-42d5-ae66-4c5949638eaa",
   "metadata": {},
   "source": [
    "**Task 1.8:** Use `resample` method of pandas to show evolution of Bitcoin and Ethereum using month as unit of time\n",
    "- [Resample pandas ](https://pandas.pydata.org/docs/reference/api/pandas.DataFrame.resample.html)"
   ]
  },
  {
   "cell_type": "code",
   "execution_count": null,
   "id": "06664f54-9e06-4c27-84be-7b952c77438a",
   "metadata": {},
   "outputs": [],
   "source": []
  },
  {
   "cell_type": "code",
   "execution_count": null,
   "id": "be5f49e2-6e65-4995-9b21-70757e082269",
   "metadata": {},
   "outputs": [],
   "source": []
  },
  {
   "cell_type": "markdown",
   "id": "5416d917-c325-4291-b23c-b2ef81508974",
   "metadata": {},
   "source": [
    "### 2. Prediction of bitcoin stock price \"at Close\""
   ]
  },
  {
   "cell_type": "markdown",
   "id": "8683b18e-b45d-46cb-9926-344bf300a391",
   "metadata": {},
   "source": [
    "**Task 2.1:** Select a pandas series named `y` consisting of `Close`column for Bitcoin."
   ]
  },
  {
   "cell_type": "code",
   "execution_count": 157,
   "id": "eb409842-b5e9-4182-82a8-bbd2ac475433",
   "metadata": {},
   "outputs": [
    {
     "data": {
      "text/plain": [
       "Date\n",
       "2017-11-11    5451.084473\n",
       "2017-11-12    5102.976074\n",
       "2017-11-13    5624.187988\n",
       "2017-11-14    5628.764160\n",
       "2017-11-15    6209.081543\n",
       "Name: Close_BTC, dtype: float64"
      ]
     },
     "execution_count": 157,
     "metadata": {},
     "output_type": "execute_result"
    }
   ],
   "source": [
    "y = ...\n",
    "y.head()"
   ]
  },
  {
   "cell_type": "markdown",
   "id": "53b49e07-04c7-4316-8e33-694f52b5d06d",
   "metadata": {},
   "source": [
    "**Task 2.2:** Create an ACF plot for the data in `y`. Be sure to label the x-axis as `\"Lag [days]\"` and the y-axis as `\"Correlation Coefficient\"`.\n",
    "- [Plot ACF using statsmodels ](https://www.statsmodels.org/dev/generated/statsmodels.graphics.tsaplots.plot_acf.html)"
   ]
  },
  {
   "cell_type": "code",
   "execution_count": null,
   "id": "985cdd18-50ec-4e95-a4d2-33634b9d45b0",
   "metadata": {},
   "outputs": [],
   "source": []
  },
  {
   "cell_type": "markdown",
   "id": "81533829-cf1c-4820-9e14-72d7a62aaba0",
   "metadata": {},
   "source": [
    "**Task 2.3:** Create an PACF plot for the data in `y`. Be sure to label the x-axis as `\"Lag [days]\"` and the y-axis as `\"Correlation Coefficient\"`.\n",
    "- [Plot PACF using statsmodels ](https://www.statsmodels.org/dev/generated/statsmodels.graphics.tsaplots.plot_pacf.html)"
   ]
  },
  {
   "cell_type": "code",
   "execution_count": null,
   "id": "d3f6a3ff-7ccd-40e5-a1b9-15008431d04f",
   "metadata": {},
   "outputs": [],
   "source": []
  },
  {
   "cell_type": "markdown",
   "id": "112a047a-dd29-4ba3-92d2-eae9fc5cb3f2",
   "metadata": {},
   "source": [
    "### Split data"
   ]
  },
  {
   "cell_type": "markdown",
   "id": "5ef7cb39-276c-4e05-82d0-cd1e21159f99",
   "metadata": {},
   "source": [
    "**Task 2.4:** Split `y` into training and test sets. The first 95% of the data should be in your training set. The remaining 5% should be in the test set. Use `iloc` to split data."
   ]
  },
  {
   "cell_type": "code",
   "execution_count": null,
   "id": "a569a44d-bb02-418f-86ec-d4211b2e5d74",
   "metadata": {},
   "outputs": [],
   "source": [
    "cutoff = int(len(y)*0.95)\n",
    "\n",
    "y_train = ...\n",
    "y_test =  ...\n",
    "\n",
    "print(len(y))\n",
    "print(y_train.shape[0])\n",
    "print(y_test.shape[0])\n",
    "y_train.shape[0] + y_test.shape[0] == len(y)"
   ]
  },
  {
   "cell_type": "markdown",
   "id": "d515a9b9-5c0f-44c5-a496-a3a1a93c9c26",
   "metadata": {},
   "source": [
    "### Building model Autoregressive time series model"
   ]
  },
  {
   "cell_type": "markdown",
   "id": "95d307cf-c17b-4dcb-adb5-1ae55ffa3f12",
   "metadata": {},
   "source": [
    "**Task 2.5:** Calculate the baseline mean absolute error for your model. This is a difference between y_train and baseline prediction (mean of y_train. You should repeat y_mean according to the lenght of y_train)"
   ]
  },
  {
   "cell_type": "code",
   "execution_count": null,
   "id": "2627397f-bc21-4b93-b2ce-253edc5d4a07",
   "metadata": {},
   "outputs": [],
   "source": [
    "y_train_mean =...\n",
    "y_pred_baseline = ...\n",
    "mae_baseline = mean_absolute_error(y_train, y_pred_baseline)\n",
    "\n",
    "print(\"Mean P2 Reading:\", round(y_train_mean, 2))\n",
    "print(\"Baseline MAE:\", round(mae_baseline, 2))"
   ]
  },
  {
   "cell_type": "markdown",
   "id": "e32ac410-accf-47b4-9bbd-ab69177fad75",
   "metadata": {},
   "source": [
    "**Task 2.6:** Instantiate an [`AutoReg`](https://www.statsmodels.org/stable/generated/statsmodels.tsa.ar_model.AutoReg.html) model and fit it to the training data `y_train`. Be sure to set the `lags` argument to `10`.\n",
    "- [Autoregressive model ](https://www.statsmodels.org/stable/generated/statsmodels.tsa.ar_model.AutoReg.html)"
   ]
  },
  {
   "cell_type": "code",
   "execution_count": 3,
   "id": "564335f0-8629-4ef4-87ec-e07592e9d69b",
   "metadata": {},
   "outputs": [
    {
     "data": {
      "text/plain": [
       "Ellipsis"
      ]
     },
     "execution_count": 3,
     "metadata": {},
     "output_type": "execute_result"
    }
   ],
   "source": [
    "model = ...\n",
    "model"
   ]
  },
  {
   "cell_type": "markdown",
   "id": "e1978199-5e52-4e1b-b66a-2af8773f61e0",
   "metadata": {},
   "source": [
    "**Task 2.7:** Generate a list of training predictions for your model and use them to calculate your training mean absolute error."
   ]
  },
  {
   "cell_type": "code",
   "execution_count": 166,
   "id": "09859487-ffe2-47e7-9811-5dbfd215d34f",
   "metadata": {},
   "outputs": [
    {
     "name": "stdout",
     "output_type": "stream",
     "text": [
      "Training MAE: 475.8978905320149\n"
     ]
    }
   ],
   "source": [
    "y_pred =  model.predict().dropna()\n",
    "training_mae = mean_absolute_error(y_train.loc[y_pred.index], y_pred)\n",
    "print(\"Training MAE:\", training_mae)"
   ]
  },
  {
   "cell_type": "markdown",
   "id": "ddeb93d0-5cfc-4c71-8af0-83ef1ff2a449",
   "metadata": {},
   "source": [
    "**Task 2.8:** Use `y_train` and `y_pred` to calculate the residuals for your model."
   ]
  },
  {
   "cell_type": "code",
   "execution_count": null,
   "id": "d58e524a-c6e6-4d41-95ea-fb18466d848d",
   "metadata": {},
   "outputs": [],
   "source": [
    "y_train_resid = ...\n",
    "y_train_resid.tail()"
   ]
  },
  {
   "cell_type": "markdown",
   "id": "0d626cd5-92fd-4345-b20f-cf876418c1f4",
   "metadata": {},
   "source": [
    "**Task 2.9:** Create a plot of `y_train_resid`."
   ]
  },
  {
   "cell_type": "code",
   "execution_count": null,
   "id": "29005199-7425-497b-b058-71733891380c",
   "metadata": {},
   "outputs": [],
   "source": []
  },
  {
   "cell_type": "markdown",
   "id": "5718410e-a1f6-443b-bb46-412f6db45178",
   "metadata": {},
   "source": [
    "**Task 2.10:** Create a histogram of `y_train_resid`."
   ]
  },
  {
   "cell_type": "code",
   "execution_count": null,
   "id": "7d75400f-a7cb-44b9-86cc-1fc51ff593f5",
   "metadata": {},
   "outputs": [],
   "source": []
  },
  {
   "cell_type": "markdown",
   "id": "cbabe45a-e657-4e8c-b2fa-6decde33cbac",
   "metadata": {},
   "source": [
    "**Task 2.11:** Create an ACF plot of `y_train_resid`."
   ]
  },
  {
   "cell_type": "code",
   "execution_count": null,
   "id": "12bdee42-6e7a-47fe-b6d6-6c953d17cd17",
   "metadata": {},
   "outputs": [],
   "source": []
  },
  {
   "cell_type": "markdown",
   "id": "41453d16-7e2c-4683-bbe6-3e38203ef320",
   "metadata": {},
   "source": [
    "### Evaluate"
   ]
  },
  {
   "cell_type": "markdown",
   "id": "65911dcd-e26e-4894-b318-a5138f5e6a11",
   "metadata": {},
   "source": [
    "**Task 2.12:** Calculate the test mean absolute error for your model."
   ]
  },
  {
   "cell_type": "code",
   "execution_count": null,
   "id": "a1374490-8824-44b1-8da7-b3862ddebf5b",
   "metadata": {},
   "outputs": [],
   "source": [
    "y_pred_test =  model.predict(y_test.index.min(), y_test.index.max())\n",
    "test_mae = mean_absolute_error(..., ...)\n",
    "print(\"Test MAE:\", test_mae)"
   ]
  },
  {
   "cell_type": "markdown",
   "id": "de0cdcb3-06d8-4435-a882-2ea9d21a11e5",
   "metadata": {},
   "source": [
    "**Task 2.13:** Create a DataFrame `test_predictions` that has two columns: `\"y_test\"` and `\"y_pred\"`. The first should contain the true values for your test set, and the second should contain your model's predictions. Be sure the index of `test_predictions` matches the index of `y_test`."
   ]
  },
  {
   "cell_type": "code",
   "execution_count": 172,
   "id": "6cfb440a-1250-4379-9634-a3ba5fa35e25",
   "metadata": {},
   "outputs": [
    {
     "data": {
      "text/html": [
       "<div>\n",
       "<style scoped>\n",
       "    .dataframe tbody tr th:only-of-type {\n",
       "        vertical-align: middle;\n",
       "    }\n",
       "\n",
       "    .dataframe tbody tr th {\n",
       "        vertical-align: top;\n",
       "    }\n",
       "\n",
       "    .dataframe thead th {\n",
       "        text-align: right;\n",
       "    }\n",
       "</style>\n",
       "<table border=\"1\" class=\"dataframe\">\n",
       "  <thead>\n",
       "    <tr style=\"text-align: right;\">\n",
       "      <th></th>\n",
       "      <th>y_test</th>\n",
       "      <th>y_pred</th>\n",
       "    </tr>\n",
       "    <tr>\n",
       "      <th>Date</th>\n",
       "      <th></th>\n",
       "      <th></th>\n",
       "    </tr>\n",
       "  </thead>\n",
       "  <tbody>\n",
       "    <tr>\n",
       "      <th>2023-03-06</th>\n",
       "      <td>20988.779297</td>\n",
       "      <td>21086.437618</td>\n",
       "    </tr>\n",
       "    <tr>\n",
       "      <th>2023-03-07</th>\n",
       "      <td>21064.697266</td>\n",
       "      <td>21102.045004</td>\n",
       "    </tr>\n",
       "    <tr>\n",
       "      <th>2023-03-08</th>\n",
       "      <td>20587.609375</td>\n",
       "      <td>21058.204573</td>\n",
       "    </tr>\n",
       "    <tr>\n",
       "      <th>2023-03-09</th>\n",
       "      <td>19235.703125</td>\n",
       "      <td>21017.547143</td>\n",
       "    </tr>\n",
       "    <tr>\n",
       "      <th>2023-03-10</th>\n",
       "      <td>19235.703125</td>\n",
       "      <td>21107.065919</td>\n",
       "    </tr>\n",
       "  </tbody>\n",
       "</table>\n",
       "</div>"
      ],
      "text/plain": [
       "                  y_test        y_pred\n",
       "Date                                  \n",
       "2023-03-06  20988.779297  21086.437618\n",
       "2023-03-07  21064.697266  21102.045004\n",
       "2023-03-08  20587.609375  21058.204573\n",
       "2023-03-09  19235.703125  21017.547143\n",
       "2023-03-10  19235.703125  21107.065919"
      ]
     },
     "execution_count": 172,
     "metadata": {},
     "output_type": "execute_result"
    }
   ],
   "source": [
    "df_pred_test = ...\n",
    "df_pred_test.head()"
   ]
  },
  {
   "cell_type": "markdown",
   "id": "de208f5a-15f1-4682-a991-cb2c860395c2",
   "metadata": {},
   "source": [
    "**Task 2.14:** Create a time series plot for the values in `test_predictions` using plotly express or matplotlib. Be sure that the y-axis is properly labeled as `\"Close price\"`."
   ]
  },
  {
   "cell_type": "code",
   "execution_count": 155,
   "id": "905806c8-46b3-446c-809f-4caba54e968a",
   "metadata": {},
   "outputs": [
    {
     "data": {
      "application/vnd.plotly.v1+json": {
       "config": {
        "plotlyServerURL": "https://plot.ly"
       },
       "data": [
        {
         "hovertemplate": "variable=y_test<br>Date=%{x}<br>Close price=%{y}<extra></extra>",
         "legendgroup": "y_test",
         "line": {
          "color": "#636efa",
          "dash": "solid"
         },
         "marker": {
          "symbol": "circle"
         },
         "mode": "lines",
         "name": "y_test",
         "orientation": "v",
         "showlegend": true,
         "type": "scatter",
         "x": [
          "2023-03-06T00:00:00",
          "2023-03-07T00:00:00",
          "2023-03-08T00:00:00",
          "2023-03-09T00:00:00",
          "2023-03-10T00:00:00",
          "2023-03-11T00:00:00",
          "2023-03-12T00:00:00",
          "2023-03-13T00:00:00",
          "2023-03-14T00:00:00",
          "2023-03-15T00:00:00",
          "2023-03-16T00:00:00",
          "2023-03-17T00:00:00",
          "2023-03-18T00:00:00",
          "2023-03-19T00:00:00",
          "2023-03-20T00:00:00",
          "2023-03-21T00:00:00",
          "2023-03-22T00:00:00",
          "2023-03-23T00:00:00",
          "2023-03-24T00:00:00",
          "2023-03-25T00:00:00",
          "2023-03-26T00:00:00",
          "2023-03-27T00:00:00",
          "2023-03-28T00:00:00",
          "2023-03-29T00:00:00",
          "2023-03-30T00:00:00",
          "2023-03-31T00:00:00",
          "2023-04-01T00:00:00",
          "2023-04-02T00:00:00",
          "2023-04-03T00:00:00",
          "2023-04-04T00:00:00",
          "2023-04-05T00:00:00",
          "2023-04-06T00:00:00",
          "2023-04-07T00:00:00",
          "2023-04-08T00:00:00",
          "2023-04-09T00:00:00",
          "2023-04-10T00:00:00",
          "2023-04-11T00:00:00",
          "2023-04-12T00:00:00",
          "2023-04-13T00:00:00",
          "2023-04-14T00:00:00",
          "2023-04-15T00:00:00",
          "2023-04-16T00:00:00",
          "2023-04-17T00:00:00",
          "2023-04-18T00:00:00",
          "2023-04-19T00:00:00",
          "2023-04-20T00:00:00",
          "2023-04-21T00:00:00",
          "2023-04-22T00:00:00",
          "2023-04-23T00:00:00",
          "2023-04-24T00:00:00",
          "2023-04-25T00:00:00",
          "2023-04-26T00:00:00",
          "2023-04-27T00:00:00",
          "2023-04-28T00:00:00",
          "2023-04-29T00:00:00",
          "2023-04-30T00:00:00",
          "2023-05-01T00:00:00",
          "2023-05-02T00:00:00",
          "2023-05-03T00:00:00",
          "2023-05-04T00:00:00",
          "2023-05-05T00:00:00",
          "2023-05-06T00:00:00",
          "2023-05-07T00:00:00",
          "2023-05-08T00:00:00",
          "2023-05-09T00:00:00",
          "2023-05-10T00:00:00",
          "2023-05-11T00:00:00",
          "2023-05-12T00:00:00",
          "2023-05-13T00:00:00",
          "2023-05-14T00:00:00",
          "2023-05-15T00:00:00",
          "2023-05-16T00:00:00",
          "2023-05-17T00:00:00",
          "2023-05-18T00:00:00",
          "2023-05-19T00:00:00",
          "2023-05-20T00:00:00",
          "2023-05-21T00:00:00",
          "2023-05-22T00:00:00",
          "2023-05-23T00:00:00",
          "2023-05-24T00:00:00",
          "2023-05-25T00:00:00",
          "2023-05-26T00:00:00",
          "2023-05-27T00:00:00",
          "2023-05-28T00:00:00",
          "2023-05-29T00:00:00",
          "2023-05-30T00:00:00",
          "2023-05-31T00:00:00",
          "2023-06-01T00:00:00",
          "2023-06-02T00:00:00",
          "2023-06-03T00:00:00",
          "2023-06-04T00:00:00",
          "2023-06-05T00:00:00",
          "2023-06-06T00:00:00",
          "2023-06-07T00:00:00",
          "2023-06-08T00:00:00",
          "2023-06-09T00:00:00",
          "2023-06-10T00:00:00",
          "2023-06-11T00:00:00",
          "2023-06-12T00:00:00",
          "2023-06-13T00:00:00",
          "2023-06-14T00:00:00",
          "2023-06-15T00:00:00",
          "2023-06-16T00:00:00"
         ],
         "xaxis": "x",
         "y": [
          20988.779297,
          21064.697266,
          20587.609375,
          19235.703125,
          19235.703125,
          18943.587891,
          19379.527344,
          20749.800781,
          22565.941406,
          23069.601563,
          23035.966797,
          23604.212891,
          25505.626953,
          25025.171875,
          26251.658203,
          25905.304688,
          26153.638672,
          25124.207031,
          26151.009766,
          25512.394531,
          25513.712891,
          25974.146484,
          25114.818359,
          25156.841797,
          26145.060547,
          25708.375,
          26205.189453,
          26143.123047,
          26103.367188,
          25479.769531,
          25706.507813,
          25843.804688,
          25681.841797,
          25395.777344,
          25419.804688,
          25962.480469,
          27280.267578,
          27697.037109,
          27405.621094,
          27505.623047,
          27455.939453,
          27307.808594,
          27598.189453,
          26952.845703,
          27696.791016,
          26317.671875,
          25753.052734,
          24581.541016,
          25068.714844,
          25101.648438,
          24893.007813,
          25785.673828,
          25732.861328,
          26717.722656,
          26368.09375,
          26284.855469,
          26581.580078,
          25610.464844,
          26047.433594,
          26205.544922,
          26170.326172,
          26344.966797,
          25783.212891,
          25825.054688,
          25183.925781,
          25225.355469,
          25150.4375,
          24743.683594,
          24502.441406,
          24488.308594,
          24813.755859,
          25008.222656,
          24882.451172,
          25280.462891,
          24902.060547,
          24855.890625,
          25079.349609,
          24719.412109,
          24837.511719,
          25280.449219,
          24484.876953,
          24689.779297,
          24898.371094,
          25037.275391,
          26196.158203,
          25914.65625,
          25813.796875,
          25454.462891,
          24924.980469,
          25434.765625,
          25271.925781,
          25352.396484,
          24049.574219,
          25459.982422,
          24606.056641,
          24585.150391,
          24635.195313,
          24039.84375,
          24130.296875,
          24067.697266,
          24021.917969,
          23170.253906,
          24073.660156
         ],
         "yaxis": "y"
        },
        {
         "hovertemplate": "variable=y_pred<br>Date=%{x}<br>Close price=%{y}<extra></extra>",
         "legendgroup": "y_pred",
         "line": {
          "color": "#EF553B",
          "dash": "solid"
         },
         "marker": {
          "symbol": "circle"
         },
         "mode": "lines",
         "name": "y_pred",
         "orientation": "v",
         "showlegend": true,
         "type": "scatter",
         "x": [
          "2023-03-06T00:00:00",
          "2023-03-07T00:00:00",
          "2023-03-08T00:00:00",
          "2023-03-09T00:00:00",
          "2023-03-10T00:00:00",
          "2023-03-11T00:00:00",
          "2023-03-12T00:00:00",
          "2023-03-13T00:00:00",
          "2023-03-14T00:00:00",
          "2023-03-15T00:00:00",
          "2023-03-16T00:00:00",
          "2023-03-17T00:00:00",
          "2023-03-18T00:00:00",
          "2023-03-19T00:00:00",
          "2023-03-20T00:00:00",
          "2023-03-21T00:00:00",
          "2023-03-22T00:00:00",
          "2023-03-23T00:00:00",
          "2023-03-24T00:00:00",
          "2023-03-25T00:00:00",
          "2023-03-26T00:00:00",
          "2023-03-27T00:00:00",
          "2023-03-28T00:00:00",
          "2023-03-29T00:00:00",
          "2023-03-30T00:00:00",
          "2023-03-31T00:00:00",
          "2023-04-01T00:00:00",
          "2023-04-02T00:00:00",
          "2023-04-03T00:00:00",
          "2023-04-04T00:00:00",
          "2023-04-05T00:00:00",
          "2023-04-06T00:00:00",
          "2023-04-07T00:00:00",
          "2023-04-08T00:00:00",
          "2023-04-09T00:00:00",
          "2023-04-10T00:00:00",
          "2023-04-11T00:00:00",
          "2023-04-12T00:00:00",
          "2023-04-13T00:00:00",
          "2023-04-14T00:00:00",
          "2023-04-15T00:00:00",
          "2023-04-16T00:00:00",
          "2023-04-17T00:00:00",
          "2023-04-18T00:00:00",
          "2023-04-19T00:00:00",
          "2023-04-20T00:00:00",
          "2023-04-21T00:00:00",
          "2023-04-22T00:00:00",
          "2023-04-23T00:00:00",
          "2023-04-24T00:00:00",
          "2023-04-25T00:00:00",
          "2023-04-26T00:00:00",
          "2023-04-27T00:00:00",
          "2023-04-28T00:00:00",
          "2023-04-29T00:00:00",
          "2023-04-30T00:00:00",
          "2023-05-01T00:00:00",
          "2023-05-02T00:00:00",
          "2023-05-03T00:00:00",
          "2023-05-04T00:00:00",
          "2023-05-05T00:00:00",
          "2023-05-06T00:00:00",
          "2023-05-07T00:00:00",
          "2023-05-08T00:00:00",
          "2023-05-09T00:00:00",
          "2023-05-10T00:00:00",
          "2023-05-11T00:00:00",
          "2023-05-12T00:00:00",
          "2023-05-13T00:00:00",
          "2023-05-14T00:00:00",
          "2023-05-15T00:00:00",
          "2023-05-16T00:00:00",
          "2023-05-17T00:00:00",
          "2023-05-18T00:00:00",
          "2023-05-19T00:00:00",
          "2023-05-20T00:00:00",
          "2023-05-21T00:00:00",
          "2023-05-22T00:00:00",
          "2023-05-23T00:00:00",
          "2023-05-24T00:00:00",
          "2023-05-25T00:00:00",
          "2023-05-26T00:00:00",
          "2023-05-27T00:00:00",
          "2023-05-28T00:00:00",
          "2023-05-29T00:00:00",
          "2023-05-30T00:00:00",
          "2023-05-31T00:00:00",
          "2023-06-01T00:00:00",
          "2023-06-02T00:00:00",
          "2023-06-03T00:00:00",
          "2023-06-04T00:00:00",
          "2023-06-05T00:00:00",
          "2023-06-06T00:00:00",
          "2023-06-07T00:00:00",
          "2023-06-08T00:00:00",
          "2023-06-09T00:00:00",
          "2023-06-10T00:00:00",
          "2023-06-11T00:00:00",
          "2023-06-12T00:00:00",
          "2023-06-13T00:00:00",
          "2023-06-14T00:00:00",
          "2023-06-15T00:00:00",
          "2023-06-16T00:00:00"
         ],
         "xaxis": "x",
         "y": [
          21086.43761754197,
          21102.045003923096,
          21058.20457255607,
          21017.547142775915,
          21107.065918691347,
          21136.4582474664,
          21031.285987304018,
          21031.477925113173,
          21042.50870820335,
          21042.28062421053,
          21044.988300387624,
          21035.787126979198,
          21027.64366789702,
          21040.81244643581,
          21046.04816589765,
          21036.06551735638,
          21035.97596838858,
          21037.12869246376,
          21037.79377306096,
          21038.72381712769,
          21037.39489523288,
          21036.1162143554,
          21037.84112529042,
          21038.664355378463,
          21037.79934992918,
          21037.824798237758,
          21037.989375923637,
          21038.228857229453,
          21038.52237972958,
          21038.44367201372,
          21038.349163602434,
          21038.645364945194,
          21038.850561759024,
          21038.87129653074,
          21038.963816644446,
          21039.067805170544,
          21039.19823612983,
          21039.341152977537,
          21039.428643412262,
          21039.510308569214,
          21039.640020435436,
          21039.761771715064,
          21039.863806276957,
          21039.97012454198,
          21040.07636836149,
          21040.18765129409,
          21040.301295931487,
          21040.4071097863,
          21040.511454934807,
          21040.621269671774,
          21040.730393609145,
          21040.83734073572,
          21040.94412542773,
          21041.05046738916,
          21041.15742779332,
          21041.26462292989,
          21041.370600045346,
          21041.476117794635,
          21041.58204674253,
          21041.687750474426,
          21041.793048684078,
          21041.898073665896,
          21042.00280710948,
          21042.10743289558,
          21042.21190585857,
          21042.316028267313,
          21042.419884356987,
          21042.523580606423,
          21042.62705680296,
          21042.73029308099,
          21042.833292179635,
          21042.936052288038,
          21043.038602478555,
          21043.140938843662,
          21043.24303589874,
          21043.344902574525,
          21043.446551827823,
          21043.547979053135,
          21043.649182729176,
          21043.750161999404,
          21043.850916844847,
          21043.951451896246,
          21044.051767363693,
          21044.151860457787,
          21044.25173240748,
          21044.351385098988,
          21044.450818687594,
          21044.550033504576,
          21044.649029686414,
          21044.74780759876,
          21044.846368288214,
          21044.944712243305,
          21045.042839544512,
          21045.140750718514,
          21045.23844638906,
          21045.335927025626,
          21045.433193099165,
          21045.530245021037,
          21045.627083239488,
          21045.723708298665,
          21045.820120675507,
          21045.916320792185,
          21046.012309116828
         ],
         "yaxis": "y"
        }
       ],
       "layout": {
        "autosize": true,
        "legend": {
         "title": {
          "text": "variable"
         },
         "tracegroupgap": 0
        },
        "margin": {
         "t": 60
        },
        "template": {
         "data": {
          "bar": [
           {
            "error_x": {
             "color": "#2a3f5f"
            },
            "error_y": {
             "color": "#2a3f5f"
            },
            "marker": {
             "line": {
              "color": "#E5ECF6",
              "width": 0.5
             },
             "pattern": {
              "fillmode": "overlay",
              "size": 10,
              "solidity": 0.2
             }
            },
            "type": "bar"
           }
          ],
          "barpolar": [
           {
            "marker": {
             "line": {
              "color": "#E5ECF6",
              "width": 0.5
             },
             "pattern": {
              "fillmode": "overlay",
              "size": 10,
              "solidity": 0.2
             }
            },
            "type": "barpolar"
           }
          ],
          "carpet": [
           {
            "aaxis": {
             "endlinecolor": "#2a3f5f",
             "gridcolor": "white",
             "linecolor": "white",
             "minorgridcolor": "white",
             "startlinecolor": "#2a3f5f"
            },
            "baxis": {
             "endlinecolor": "#2a3f5f",
             "gridcolor": "white",
             "linecolor": "white",
             "minorgridcolor": "white",
             "startlinecolor": "#2a3f5f"
            },
            "type": "carpet"
           }
          ],
          "choropleth": [
           {
            "colorbar": {
             "outlinewidth": 0,
             "ticks": ""
            },
            "type": "choropleth"
           }
          ],
          "contour": [
           {
            "colorbar": {
             "outlinewidth": 0,
             "ticks": ""
            },
            "colorscale": [
             [
              0,
              "#0d0887"
             ],
             [
              0.1111111111111111,
              "#46039f"
             ],
             [
              0.2222222222222222,
              "#7201a8"
             ],
             [
              0.3333333333333333,
              "#9c179e"
             ],
             [
              0.4444444444444444,
              "#bd3786"
             ],
             [
              0.5555555555555556,
              "#d8576b"
             ],
             [
              0.6666666666666666,
              "#ed7953"
             ],
             [
              0.7777777777777778,
              "#fb9f3a"
             ],
             [
              0.8888888888888888,
              "#fdca26"
             ],
             [
              1,
              "#f0f921"
             ]
            ],
            "type": "contour"
           }
          ],
          "contourcarpet": [
           {
            "colorbar": {
             "outlinewidth": 0,
             "ticks": ""
            },
            "type": "contourcarpet"
           }
          ],
          "heatmap": [
           {
            "colorbar": {
             "outlinewidth": 0,
             "ticks": ""
            },
            "colorscale": [
             [
              0,
              "#0d0887"
             ],
             [
              0.1111111111111111,
              "#46039f"
             ],
             [
              0.2222222222222222,
              "#7201a8"
             ],
             [
              0.3333333333333333,
              "#9c179e"
             ],
             [
              0.4444444444444444,
              "#bd3786"
             ],
             [
              0.5555555555555556,
              "#d8576b"
             ],
             [
              0.6666666666666666,
              "#ed7953"
             ],
             [
              0.7777777777777778,
              "#fb9f3a"
             ],
             [
              0.8888888888888888,
              "#fdca26"
             ],
             [
              1,
              "#f0f921"
             ]
            ],
            "type": "heatmap"
           }
          ],
          "heatmapgl": [
           {
            "colorbar": {
             "outlinewidth": 0,
             "ticks": ""
            },
            "colorscale": [
             [
              0,
              "#0d0887"
             ],
             [
              0.1111111111111111,
              "#46039f"
             ],
             [
              0.2222222222222222,
              "#7201a8"
             ],
             [
              0.3333333333333333,
              "#9c179e"
             ],
             [
              0.4444444444444444,
              "#bd3786"
             ],
             [
              0.5555555555555556,
              "#d8576b"
             ],
             [
              0.6666666666666666,
              "#ed7953"
             ],
             [
              0.7777777777777778,
              "#fb9f3a"
             ],
             [
              0.8888888888888888,
              "#fdca26"
             ],
             [
              1,
              "#f0f921"
             ]
            ],
            "type": "heatmapgl"
           }
          ],
          "histogram": [
           {
            "marker": {
             "pattern": {
              "fillmode": "overlay",
              "size": 10,
              "solidity": 0.2
             }
            },
            "type": "histogram"
           }
          ],
          "histogram2d": [
           {
            "colorbar": {
             "outlinewidth": 0,
             "ticks": ""
            },
            "colorscale": [
             [
              0,
              "#0d0887"
             ],
             [
              0.1111111111111111,
              "#46039f"
             ],
             [
              0.2222222222222222,
              "#7201a8"
             ],
             [
              0.3333333333333333,
              "#9c179e"
             ],
             [
              0.4444444444444444,
              "#bd3786"
             ],
             [
              0.5555555555555556,
              "#d8576b"
             ],
             [
              0.6666666666666666,
              "#ed7953"
             ],
             [
              0.7777777777777778,
              "#fb9f3a"
             ],
             [
              0.8888888888888888,
              "#fdca26"
             ],
             [
              1,
              "#f0f921"
             ]
            ],
            "type": "histogram2d"
           }
          ],
          "histogram2dcontour": [
           {
            "colorbar": {
             "outlinewidth": 0,
             "ticks": ""
            },
            "colorscale": [
             [
              0,
              "#0d0887"
             ],
             [
              0.1111111111111111,
              "#46039f"
             ],
             [
              0.2222222222222222,
              "#7201a8"
             ],
             [
              0.3333333333333333,
              "#9c179e"
             ],
             [
              0.4444444444444444,
              "#bd3786"
             ],
             [
              0.5555555555555556,
              "#d8576b"
             ],
             [
              0.6666666666666666,
              "#ed7953"
             ],
             [
              0.7777777777777778,
              "#fb9f3a"
             ],
             [
              0.8888888888888888,
              "#fdca26"
             ],
             [
              1,
              "#f0f921"
             ]
            ],
            "type": "histogram2dcontour"
           }
          ],
          "mesh3d": [
           {
            "colorbar": {
             "outlinewidth": 0,
             "ticks": ""
            },
            "type": "mesh3d"
           }
          ],
          "parcoords": [
           {
            "line": {
             "colorbar": {
              "outlinewidth": 0,
              "ticks": ""
             }
            },
            "type": "parcoords"
           }
          ],
          "pie": [
           {
            "automargin": true,
            "type": "pie"
           }
          ],
          "scatter": [
           {
            "fillpattern": {
             "fillmode": "overlay",
             "size": 10,
             "solidity": 0.2
            },
            "type": "scatter"
           }
          ],
          "scatter3d": [
           {
            "line": {
             "colorbar": {
              "outlinewidth": 0,
              "ticks": ""
             }
            },
            "marker": {
             "colorbar": {
              "outlinewidth": 0,
              "ticks": ""
             }
            },
            "type": "scatter3d"
           }
          ],
          "scattercarpet": [
           {
            "marker": {
             "colorbar": {
              "outlinewidth": 0,
              "ticks": ""
             }
            },
            "type": "scattercarpet"
           }
          ],
          "scattergeo": [
           {
            "marker": {
             "colorbar": {
              "outlinewidth": 0,
              "ticks": ""
             }
            },
            "type": "scattergeo"
           }
          ],
          "scattergl": [
           {
            "marker": {
             "colorbar": {
              "outlinewidth": 0,
              "ticks": ""
             }
            },
            "type": "scattergl"
           }
          ],
          "scattermapbox": [
           {
            "marker": {
             "colorbar": {
              "outlinewidth": 0,
              "ticks": ""
             }
            },
            "type": "scattermapbox"
           }
          ],
          "scatterpolar": [
           {
            "marker": {
             "colorbar": {
              "outlinewidth": 0,
              "ticks": ""
             }
            },
            "type": "scatterpolar"
           }
          ],
          "scatterpolargl": [
           {
            "marker": {
             "colorbar": {
              "outlinewidth": 0,
              "ticks": ""
             }
            },
            "type": "scatterpolargl"
           }
          ],
          "scatterternary": [
           {
            "marker": {
             "colorbar": {
              "outlinewidth": 0,
              "ticks": ""
             }
            },
            "type": "scatterternary"
           }
          ],
          "surface": [
           {
            "colorbar": {
             "outlinewidth": 0,
             "ticks": ""
            },
            "colorscale": [
             [
              0,
              "#0d0887"
             ],
             [
              0.1111111111111111,
              "#46039f"
             ],
             [
              0.2222222222222222,
              "#7201a8"
             ],
             [
              0.3333333333333333,
              "#9c179e"
             ],
             [
              0.4444444444444444,
              "#bd3786"
             ],
             [
              0.5555555555555556,
              "#d8576b"
             ],
             [
              0.6666666666666666,
              "#ed7953"
             ],
             [
              0.7777777777777778,
              "#fb9f3a"
             ],
             [
              0.8888888888888888,
              "#fdca26"
             ],
             [
              1,
              "#f0f921"
             ]
            ],
            "type": "surface"
           }
          ],
          "table": [
           {
            "cells": {
             "fill": {
              "color": "#EBF0F8"
             },
             "line": {
              "color": "white"
             }
            },
            "header": {
             "fill": {
              "color": "#C8D4E3"
             },
             "line": {
              "color": "white"
             }
            },
            "type": "table"
           }
          ]
         },
         "layout": {
          "annotationdefaults": {
           "arrowcolor": "#2a3f5f",
           "arrowhead": 0,
           "arrowwidth": 1
          },
          "autotypenumbers": "strict",
          "coloraxis": {
           "colorbar": {
            "outlinewidth": 0,
            "ticks": ""
           }
          },
          "colorscale": {
           "diverging": [
            [
             0,
             "#8e0152"
            ],
            [
             0.1,
             "#c51b7d"
            ],
            [
             0.2,
             "#de77ae"
            ],
            [
             0.3,
             "#f1b6da"
            ],
            [
             0.4,
             "#fde0ef"
            ],
            [
             0.5,
             "#f7f7f7"
            ],
            [
             0.6,
             "#e6f5d0"
            ],
            [
             0.7,
             "#b8e186"
            ],
            [
             0.8,
             "#7fbc41"
            ],
            [
             0.9,
             "#4d9221"
            ],
            [
             1,
             "#276419"
            ]
           ],
           "sequential": [
            [
             0,
             "#0d0887"
            ],
            [
             0.1111111111111111,
             "#46039f"
            ],
            [
             0.2222222222222222,
             "#7201a8"
            ],
            [
             0.3333333333333333,
             "#9c179e"
            ],
            [
             0.4444444444444444,
             "#bd3786"
            ],
            [
             0.5555555555555556,
             "#d8576b"
            ],
            [
             0.6666666666666666,
             "#ed7953"
            ],
            [
             0.7777777777777778,
             "#fb9f3a"
            ],
            [
             0.8888888888888888,
             "#fdca26"
            ],
            [
             1,
             "#f0f921"
            ]
           ],
           "sequentialminus": [
            [
             0,
             "#0d0887"
            ],
            [
             0.1111111111111111,
             "#46039f"
            ],
            [
             0.2222222222222222,
             "#7201a8"
            ],
            [
             0.3333333333333333,
             "#9c179e"
            ],
            [
             0.4444444444444444,
             "#bd3786"
            ],
            [
             0.5555555555555556,
             "#d8576b"
            ],
            [
             0.6666666666666666,
             "#ed7953"
            ],
            [
             0.7777777777777778,
             "#fb9f3a"
            ],
            [
             0.8888888888888888,
             "#fdca26"
            ],
            [
             1,
             "#f0f921"
            ]
           ]
          },
          "colorway": [
           "#636efa",
           "#EF553B",
           "#00cc96",
           "#ab63fa",
           "#FFA15A",
           "#19d3f3",
           "#FF6692",
           "#B6E880",
           "#FF97FF",
           "#FECB52"
          ],
          "font": {
           "color": "#2a3f5f"
          },
          "geo": {
           "bgcolor": "white",
           "lakecolor": "white",
           "landcolor": "#E5ECF6",
           "showlakes": true,
           "showland": true,
           "subunitcolor": "white"
          },
          "hoverlabel": {
           "align": "left"
          },
          "hovermode": "closest",
          "mapbox": {
           "style": "light"
          },
          "paper_bgcolor": "white",
          "plot_bgcolor": "#E5ECF6",
          "polar": {
           "angularaxis": {
            "gridcolor": "white",
            "linecolor": "white",
            "ticks": ""
           },
           "bgcolor": "#E5ECF6",
           "radialaxis": {
            "gridcolor": "white",
            "linecolor": "white",
            "ticks": ""
           }
          },
          "scene": {
           "xaxis": {
            "backgroundcolor": "#E5ECF6",
            "gridcolor": "white",
            "gridwidth": 2,
            "linecolor": "white",
            "showbackground": true,
            "ticks": "",
            "zerolinecolor": "white"
           },
           "yaxis": {
            "backgroundcolor": "#E5ECF6",
            "gridcolor": "white",
            "gridwidth": 2,
            "linecolor": "white",
            "showbackground": true,
            "ticks": "",
            "zerolinecolor": "white"
           },
           "zaxis": {
            "backgroundcolor": "#E5ECF6",
            "gridcolor": "white",
            "gridwidth": 2,
            "linecolor": "white",
            "showbackground": true,
            "ticks": "",
            "zerolinecolor": "white"
           }
          },
          "shapedefaults": {
           "line": {
            "color": "#2a3f5f"
           }
          },
          "ternary": {
           "aaxis": {
            "gridcolor": "white",
            "linecolor": "white",
            "ticks": ""
           },
           "baxis": {
            "gridcolor": "white",
            "linecolor": "white",
            "ticks": ""
           },
           "bgcolor": "#E5ECF6",
           "caxis": {
            "gridcolor": "white",
            "linecolor": "white",
            "ticks": ""
           }
          },
          "title": {
           "x": 0.05
          },
          "xaxis": {
           "automargin": true,
           "gridcolor": "white",
           "linecolor": "white",
           "ticks": "",
           "title": {
            "standoff": 15
           },
           "zerolinecolor": "white",
           "zerolinewidth": 2
          },
          "yaxis": {
           "automargin": true,
           "gridcolor": "white",
           "linecolor": "white",
           "ticks": "",
           "title": {
            "standoff": 15
           },
           "zerolinecolor": "white",
           "zerolinewidth": 2
          }
         }
        },
        "xaxis": {
         "anchor": "y",
         "autorange": true,
         "domain": [
          0,
          1
         ],
         "range": [
          "2023-03-06",
          "2023-06-16"
         ],
         "title": {
          "text": "Date"
         },
         "type": "date"
        },
        "yaxis": {
         "anchor": "x",
         "autorange": true,
         "domain": [
          0,
          1
         ],
         "range": [
          18457.285156666665,
          28183.339843333335
         ],
         "title": {
          "text": "Close price"
         },
         "type": "linear"
        }
       }
      },
      "text/html": [
       "<div>                            <div id=\"3f6de911-f621-4193-92cf-e5826a739dec\" class=\"plotly-graph-div\" style=\"height:525px; width:100%;\"></div>            <script type=\"text/javascript\">                require([\"plotly\"], function(Plotly) {                    window.PLOTLYENV=window.PLOTLYENV || {};                                    if (document.getElementById(\"3f6de911-f621-4193-92cf-e5826a739dec\")) {                    Plotly.newPlot(                        \"3f6de911-f621-4193-92cf-e5826a739dec\",                        [{\"hovertemplate\":\"variable=y_test<br>Date=%{x}<br>Close price=%{y}<extra></extra>\",\"legendgroup\":\"y_test\",\"line\":{\"color\":\"#636efa\",\"dash\":\"solid\"},\"marker\":{\"symbol\":\"circle\"},\"mode\":\"lines\",\"name\":\"y_test\",\"orientation\":\"v\",\"showlegend\":true,\"x\":[\"2023-03-06T00:00:00\",\"2023-03-07T00:00:00\",\"2023-03-08T00:00:00\",\"2023-03-09T00:00:00\",\"2023-03-10T00:00:00\",\"2023-03-11T00:00:00\",\"2023-03-12T00:00:00\",\"2023-03-13T00:00:00\",\"2023-03-14T00:00:00\",\"2023-03-15T00:00:00\",\"2023-03-16T00:00:00\",\"2023-03-17T00:00:00\",\"2023-03-18T00:00:00\",\"2023-03-19T00:00:00\",\"2023-03-20T00:00:00\",\"2023-03-21T00:00:00\",\"2023-03-22T00:00:00\",\"2023-03-23T00:00:00\",\"2023-03-24T00:00:00\",\"2023-03-25T00:00:00\",\"2023-03-26T00:00:00\",\"2023-03-27T00:00:00\",\"2023-03-28T00:00:00\",\"2023-03-29T00:00:00\",\"2023-03-30T00:00:00\",\"2023-03-31T00:00:00\",\"2023-04-01T00:00:00\",\"2023-04-02T00:00:00\",\"2023-04-03T00:00:00\",\"2023-04-04T00:00:00\",\"2023-04-05T00:00:00\",\"2023-04-06T00:00:00\",\"2023-04-07T00:00:00\",\"2023-04-08T00:00:00\",\"2023-04-09T00:00:00\",\"2023-04-10T00:00:00\",\"2023-04-11T00:00:00\",\"2023-04-12T00:00:00\",\"2023-04-13T00:00:00\",\"2023-04-14T00:00:00\",\"2023-04-15T00:00:00\",\"2023-04-16T00:00:00\",\"2023-04-17T00:00:00\",\"2023-04-18T00:00:00\",\"2023-04-19T00:00:00\",\"2023-04-20T00:00:00\",\"2023-04-21T00:00:00\",\"2023-04-22T00:00:00\",\"2023-04-23T00:00:00\",\"2023-04-24T00:00:00\",\"2023-04-25T00:00:00\",\"2023-04-26T00:00:00\",\"2023-04-27T00:00:00\",\"2023-04-28T00:00:00\",\"2023-04-29T00:00:00\",\"2023-04-30T00:00:00\",\"2023-05-01T00:00:00\",\"2023-05-02T00:00:00\",\"2023-05-03T00:00:00\",\"2023-05-04T00:00:00\",\"2023-05-05T00:00:00\",\"2023-05-06T00:00:00\",\"2023-05-07T00:00:00\",\"2023-05-08T00:00:00\",\"2023-05-09T00:00:00\",\"2023-05-10T00:00:00\",\"2023-05-11T00:00:00\",\"2023-05-12T00:00:00\",\"2023-05-13T00:00:00\",\"2023-05-14T00:00:00\",\"2023-05-15T00:00:00\",\"2023-05-16T00:00:00\",\"2023-05-17T00:00:00\",\"2023-05-18T00:00:00\",\"2023-05-19T00:00:00\",\"2023-05-20T00:00:00\",\"2023-05-21T00:00:00\",\"2023-05-22T00:00:00\",\"2023-05-23T00:00:00\",\"2023-05-24T00:00:00\",\"2023-05-25T00:00:00\",\"2023-05-26T00:00:00\",\"2023-05-27T00:00:00\",\"2023-05-28T00:00:00\",\"2023-05-29T00:00:00\",\"2023-05-30T00:00:00\",\"2023-05-31T00:00:00\",\"2023-06-01T00:00:00\",\"2023-06-02T00:00:00\",\"2023-06-03T00:00:00\",\"2023-06-04T00:00:00\",\"2023-06-05T00:00:00\",\"2023-06-06T00:00:00\",\"2023-06-07T00:00:00\",\"2023-06-08T00:00:00\",\"2023-06-09T00:00:00\",\"2023-06-10T00:00:00\",\"2023-06-11T00:00:00\",\"2023-06-12T00:00:00\",\"2023-06-13T00:00:00\",\"2023-06-14T00:00:00\",\"2023-06-15T00:00:00\",\"2023-06-16T00:00:00\"],\"xaxis\":\"x\",\"y\":[20988.779297,21064.697266,20587.609375,19235.703125,19235.703125,18943.587891,19379.527344,20749.800781,22565.941406,23069.601563,23035.966797,23604.212891,25505.626953,25025.171875,26251.658203,25905.304688,26153.638672,25124.207031,26151.009766,25512.394531,25513.712891,25974.146484,25114.818359,25156.841797,26145.060547,25708.375,26205.189453,26143.123047,26103.367188,25479.769531,25706.507813,25843.804688,25681.841797,25395.777344,25419.804688,25962.480469,27280.267578,27697.037109,27405.621094,27505.623047,27455.939453,27307.808594,27598.189453,26952.845703,27696.791016,26317.671875,25753.052734,24581.541016,25068.714844,25101.648438,24893.007813,25785.673828,25732.861328,26717.722656,26368.09375,26284.855469,26581.580078,25610.464844,26047.433594,26205.544922,26170.326172,26344.966797,25783.212891,25825.054688,25183.925781,25225.355469,25150.4375,24743.683594,24502.441406,24488.308594,24813.755859,25008.222656,24882.451172,25280.462891,24902.060547,24855.890625,25079.349609,24719.412109,24837.511719,25280.449219,24484.876953,24689.779297,24898.371094,25037.275391,26196.158203,25914.65625,25813.796875,25454.462891,24924.980469,25434.765625,25271.925781,25352.396484,24049.574219,25459.982422,24606.056641,24585.150391,24635.195313,24039.84375,24130.296875,24067.697266,24021.917969,23170.253906,24073.660156],\"yaxis\":\"y\",\"type\":\"scatter\"},{\"hovertemplate\":\"variable=y_pred<br>Date=%{x}<br>Close price=%{y}<extra></extra>\",\"legendgroup\":\"y_pred\",\"line\":{\"color\":\"#EF553B\",\"dash\":\"solid\"},\"marker\":{\"symbol\":\"circle\"},\"mode\":\"lines\",\"name\":\"y_pred\",\"orientation\":\"v\",\"showlegend\":true,\"x\":[\"2023-03-06T00:00:00\",\"2023-03-07T00:00:00\",\"2023-03-08T00:00:00\",\"2023-03-09T00:00:00\",\"2023-03-10T00:00:00\",\"2023-03-11T00:00:00\",\"2023-03-12T00:00:00\",\"2023-03-13T00:00:00\",\"2023-03-14T00:00:00\",\"2023-03-15T00:00:00\",\"2023-03-16T00:00:00\",\"2023-03-17T00:00:00\",\"2023-03-18T00:00:00\",\"2023-03-19T00:00:00\",\"2023-03-20T00:00:00\",\"2023-03-21T00:00:00\",\"2023-03-22T00:00:00\",\"2023-03-23T00:00:00\",\"2023-03-24T00:00:00\",\"2023-03-25T00:00:00\",\"2023-03-26T00:00:00\",\"2023-03-27T00:00:00\",\"2023-03-28T00:00:00\",\"2023-03-29T00:00:00\",\"2023-03-30T00:00:00\",\"2023-03-31T00:00:00\",\"2023-04-01T00:00:00\",\"2023-04-02T00:00:00\",\"2023-04-03T00:00:00\",\"2023-04-04T00:00:00\",\"2023-04-05T00:00:00\",\"2023-04-06T00:00:00\",\"2023-04-07T00:00:00\",\"2023-04-08T00:00:00\",\"2023-04-09T00:00:00\",\"2023-04-10T00:00:00\",\"2023-04-11T00:00:00\",\"2023-04-12T00:00:00\",\"2023-04-13T00:00:00\",\"2023-04-14T00:00:00\",\"2023-04-15T00:00:00\",\"2023-04-16T00:00:00\",\"2023-04-17T00:00:00\",\"2023-04-18T00:00:00\",\"2023-04-19T00:00:00\",\"2023-04-20T00:00:00\",\"2023-04-21T00:00:00\",\"2023-04-22T00:00:00\",\"2023-04-23T00:00:00\",\"2023-04-24T00:00:00\",\"2023-04-25T00:00:00\",\"2023-04-26T00:00:00\",\"2023-04-27T00:00:00\",\"2023-04-28T00:00:00\",\"2023-04-29T00:00:00\",\"2023-04-30T00:00:00\",\"2023-05-01T00:00:00\",\"2023-05-02T00:00:00\",\"2023-05-03T00:00:00\",\"2023-05-04T00:00:00\",\"2023-05-05T00:00:00\",\"2023-05-06T00:00:00\",\"2023-05-07T00:00:00\",\"2023-05-08T00:00:00\",\"2023-05-09T00:00:00\",\"2023-05-10T00:00:00\",\"2023-05-11T00:00:00\",\"2023-05-12T00:00:00\",\"2023-05-13T00:00:00\",\"2023-05-14T00:00:00\",\"2023-05-15T00:00:00\",\"2023-05-16T00:00:00\",\"2023-05-17T00:00:00\",\"2023-05-18T00:00:00\",\"2023-05-19T00:00:00\",\"2023-05-20T00:00:00\",\"2023-05-21T00:00:00\",\"2023-05-22T00:00:00\",\"2023-05-23T00:00:00\",\"2023-05-24T00:00:00\",\"2023-05-25T00:00:00\",\"2023-05-26T00:00:00\",\"2023-05-27T00:00:00\",\"2023-05-28T00:00:00\",\"2023-05-29T00:00:00\",\"2023-05-30T00:00:00\",\"2023-05-31T00:00:00\",\"2023-06-01T00:00:00\",\"2023-06-02T00:00:00\",\"2023-06-03T00:00:00\",\"2023-06-04T00:00:00\",\"2023-06-05T00:00:00\",\"2023-06-06T00:00:00\",\"2023-06-07T00:00:00\",\"2023-06-08T00:00:00\",\"2023-06-09T00:00:00\",\"2023-06-10T00:00:00\",\"2023-06-11T00:00:00\",\"2023-06-12T00:00:00\",\"2023-06-13T00:00:00\",\"2023-06-14T00:00:00\",\"2023-06-15T00:00:00\",\"2023-06-16T00:00:00\"],\"xaxis\":\"x\",\"y\":[21086.43761754197,21102.045003923096,21058.20457255607,21017.547142775915,21107.065918691347,21136.4582474664,21031.285987304018,21031.477925113173,21042.50870820335,21042.28062421053,21044.988300387624,21035.787126979198,21027.64366789702,21040.81244643581,21046.04816589765,21036.06551735638,21035.97596838858,21037.12869246376,21037.79377306096,21038.72381712769,21037.39489523288,21036.1162143554,21037.84112529042,21038.664355378463,21037.79934992918,21037.824798237758,21037.989375923637,21038.228857229453,21038.52237972958,21038.44367201372,21038.349163602434,21038.645364945194,21038.850561759024,21038.87129653074,21038.963816644446,21039.067805170544,21039.19823612983,21039.341152977537,21039.428643412262,21039.510308569214,21039.640020435436,21039.761771715064,21039.863806276957,21039.97012454198,21040.07636836149,21040.18765129409,21040.301295931487,21040.4071097863,21040.511454934807,21040.621269671774,21040.730393609145,21040.83734073572,21040.94412542773,21041.05046738916,21041.15742779332,21041.26462292989,21041.370600045346,21041.476117794635,21041.58204674253,21041.687750474426,21041.793048684078,21041.898073665896,21042.00280710948,21042.10743289558,21042.21190585857,21042.316028267313,21042.419884356987,21042.523580606423,21042.62705680296,21042.73029308099,21042.833292179635,21042.936052288038,21043.038602478555,21043.140938843662,21043.24303589874,21043.344902574525,21043.446551827823,21043.547979053135,21043.649182729176,21043.750161999404,21043.850916844847,21043.951451896246,21044.051767363693,21044.151860457787,21044.25173240748,21044.351385098988,21044.450818687594,21044.550033504576,21044.649029686414,21044.74780759876,21044.846368288214,21044.944712243305,21045.042839544512,21045.140750718514,21045.23844638906,21045.335927025626,21045.433193099165,21045.530245021037,21045.627083239488,21045.723708298665,21045.820120675507,21045.916320792185,21046.012309116828],\"yaxis\":\"y\",\"type\":\"scatter\"}],                        {\"template\":{\"data\":{\"histogram2dcontour\":[{\"type\":\"histogram2dcontour\",\"colorbar\":{\"outlinewidth\":0,\"ticks\":\"\"},\"colorscale\":[[0.0,\"#0d0887\"],[0.1111111111111111,\"#46039f\"],[0.2222222222222222,\"#7201a8\"],[0.3333333333333333,\"#9c179e\"],[0.4444444444444444,\"#bd3786\"],[0.5555555555555556,\"#d8576b\"],[0.6666666666666666,\"#ed7953\"],[0.7777777777777778,\"#fb9f3a\"],[0.8888888888888888,\"#fdca26\"],[1.0,\"#f0f921\"]]}],\"choropleth\":[{\"type\":\"choropleth\",\"colorbar\":{\"outlinewidth\":0,\"ticks\":\"\"}}],\"histogram2d\":[{\"type\":\"histogram2d\",\"colorbar\":{\"outlinewidth\":0,\"ticks\":\"\"},\"colorscale\":[[0.0,\"#0d0887\"],[0.1111111111111111,\"#46039f\"],[0.2222222222222222,\"#7201a8\"],[0.3333333333333333,\"#9c179e\"],[0.4444444444444444,\"#bd3786\"],[0.5555555555555556,\"#d8576b\"],[0.6666666666666666,\"#ed7953\"],[0.7777777777777778,\"#fb9f3a\"],[0.8888888888888888,\"#fdca26\"],[1.0,\"#f0f921\"]]}],\"heatmap\":[{\"type\":\"heatmap\",\"colorbar\":{\"outlinewidth\":0,\"ticks\":\"\"},\"colorscale\":[[0.0,\"#0d0887\"],[0.1111111111111111,\"#46039f\"],[0.2222222222222222,\"#7201a8\"],[0.3333333333333333,\"#9c179e\"],[0.4444444444444444,\"#bd3786\"],[0.5555555555555556,\"#d8576b\"],[0.6666666666666666,\"#ed7953\"],[0.7777777777777778,\"#fb9f3a\"],[0.8888888888888888,\"#fdca26\"],[1.0,\"#f0f921\"]]}],\"heatmapgl\":[{\"type\":\"heatmapgl\",\"colorbar\":{\"outlinewidth\":0,\"ticks\":\"\"},\"colorscale\":[[0.0,\"#0d0887\"],[0.1111111111111111,\"#46039f\"],[0.2222222222222222,\"#7201a8\"],[0.3333333333333333,\"#9c179e\"],[0.4444444444444444,\"#bd3786\"],[0.5555555555555556,\"#d8576b\"],[0.6666666666666666,\"#ed7953\"],[0.7777777777777778,\"#fb9f3a\"],[0.8888888888888888,\"#fdca26\"],[1.0,\"#f0f921\"]]}],\"contourcarpet\":[{\"type\":\"contourcarpet\",\"colorbar\":{\"outlinewidth\":0,\"ticks\":\"\"}}],\"contour\":[{\"type\":\"contour\",\"colorbar\":{\"outlinewidth\":0,\"ticks\":\"\"},\"colorscale\":[[0.0,\"#0d0887\"],[0.1111111111111111,\"#46039f\"],[0.2222222222222222,\"#7201a8\"],[0.3333333333333333,\"#9c179e\"],[0.4444444444444444,\"#bd3786\"],[0.5555555555555556,\"#d8576b\"],[0.6666666666666666,\"#ed7953\"],[0.7777777777777778,\"#fb9f3a\"],[0.8888888888888888,\"#fdca26\"],[1.0,\"#f0f921\"]]}],\"surface\":[{\"type\":\"surface\",\"colorbar\":{\"outlinewidth\":0,\"ticks\":\"\"},\"colorscale\":[[0.0,\"#0d0887\"],[0.1111111111111111,\"#46039f\"],[0.2222222222222222,\"#7201a8\"],[0.3333333333333333,\"#9c179e\"],[0.4444444444444444,\"#bd3786\"],[0.5555555555555556,\"#d8576b\"],[0.6666666666666666,\"#ed7953\"],[0.7777777777777778,\"#fb9f3a\"],[0.8888888888888888,\"#fdca26\"],[1.0,\"#f0f921\"]]}],\"mesh3d\":[{\"type\":\"mesh3d\",\"colorbar\":{\"outlinewidth\":0,\"ticks\":\"\"}}],\"scatter\":[{\"fillpattern\":{\"fillmode\":\"overlay\",\"size\":10,\"solidity\":0.2},\"type\":\"scatter\"}],\"parcoords\":[{\"type\":\"parcoords\",\"line\":{\"colorbar\":{\"outlinewidth\":0,\"ticks\":\"\"}}}],\"scatterpolargl\":[{\"type\":\"scatterpolargl\",\"marker\":{\"colorbar\":{\"outlinewidth\":0,\"ticks\":\"\"}}}],\"bar\":[{\"error_x\":{\"color\":\"#2a3f5f\"},\"error_y\":{\"color\":\"#2a3f5f\"},\"marker\":{\"line\":{\"color\":\"#E5ECF6\",\"width\":0.5},\"pattern\":{\"fillmode\":\"overlay\",\"size\":10,\"solidity\":0.2}},\"type\":\"bar\"}],\"scattergeo\":[{\"type\":\"scattergeo\",\"marker\":{\"colorbar\":{\"outlinewidth\":0,\"ticks\":\"\"}}}],\"scatterpolar\":[{\"type\":\"scatterpolar\",\"marker\":{\"colorbar\":{\"outlinewidth\":0,\"ticks\":\"\"}}}],\"histogram\":[{\"marker\":{\"pattern\":{\"fillmode\":\"overlay\",\"size\":10,\"solidity\":0.2}},\"type\":\"histogram\"}],\"scattergl\":[{\"type\":\"scattergl\",\"marker\":{\"colorbar\":{\"outlinewidth\":0,\"ticks\":\"\"}}}],\"scatter3d\":[{\"type\":\"scatter3d\",\"line\":{\"colorbar\":{\"outlinewidth\":0,\"ticks\":\"\"}},\"marker\":{\"colorbar\":{\"outlinewidth\":0,\"ticks\":\"\"}}}],\"scattermapbox\":[{\"type\":\"scattermapbox\",\"marker\":{\"colorbar\":{\"outlinewidth\":0,\"ticks\":\"\"}}}],\"scatterternary\":[{\"type\":\"scatterternary\",\"marker\":{\"colorbar\":{\"outlinewidth\":0,\"ticks\":\"\"}}}],\"scattercarpet\":[{\"type\":\"scattercarpet\",\"marker\":{\"colorbar\":{\"outlinewidth\":0,\"ticks\":\"\"}}}],\"carpet\":[{\"aaxis\":{\"endlinecolor\":\"#2a3f5f\",\"gridcolor\":\"white\",\"linecolor\":\"white\",\"minorgridcolor\":\"white\",\"startlinecolor\":\"#2a3f5f\"},\"baxis\":{\"endlinecolor\":\"#2a3f5f\",\"gridcolor\":\"white\",\"linecolor\":\"white\",\"minorgridcolor\":\"white\",\"startlinecolor\":\"#2a3f5f\"},\"type\":\"carpet\"}],\"table\":[{\"cells\":{\"fill\":{\"color\":\"#EBF0F8\"},\"line\":{\"color\":\"white\"}},\"header\":{\"fill\":{\"color\":\"#C8D4E3\"},\"line\":{\"color\":\"white\"}},\"type\":\"table\"}],\"barpolar\":[{\"marker\":{\"line\":{\"color\":\"#E5ECF6\",\"width\":0.5},\"pattern\":{\"fillmode\":\"overlay\",\"size\":10,\"solidity\":0.2}},\"type\":\"barpolar\"}],\"pie\":[{\"automargin\":true,\"type\":\"pie\"}]},\"layout\":{\"autotypenumbers\":\"strict\",\"colorway\":[\"#636efa\",\"#EF553B\",\"#00cc96\",\"#ab63fa\",\"#FFA15A\",\"#19d3f3\",\"#FF6692\",\"#B6E880\",\"#FF97FF\",\"#FECB52\"],\"font\":{\"color\":\"#2a3f5f\"},\"hovermode\":\"closest\",\"hoverlabel\":{\"align\":\"left\"},\"paper_bgcolor\":\"white\",\"plot_bgcolor\":\"#E5ECF6\",\"polar\":{\"bgcolor\":\"#E5ECF6\",\"angularaxis\":{\"gridcolor\":\"white\",\"linecolor\":\"white\",\"ticks\":\"\"},\"radialaxis\":{\"gridcolor\":\"white\",\"linecolor\":\"white\",\"ticks\":\"\"}},\"ternary\":{\"bgcolor\":\"#E5ECF6\",\"aaxis\":{\"gridcolor\":\"white\",\"linecolor\":\"white\",\"ticks\":\"\"},\"baxis\":{\"gridcolor\":\"white\",\"linecolor\":\"white\",\"ticks\":\"\"},\"caxis\":{\"gridcolor\":\"white\",\"linecolor\":\"white\",\"ticks\":\"\"}},\"coloraxis\":{\"colorbar\":{\"outlinewidth\":0,\"ticks\":\"\"}},\"colorscale\":{\"sequential\":[[0.0,\"#0d0887\"],[0.1111111111111111,\"#46039f\"],[0.2222222222222222,\"#7201a8\"],[0.3333333333333333,\"#9c179e\"],[0.4444444444444444,\"#bd3786\"],[0.5555555555555556,\"#d8576b\"],[0.6666666666666666,\"#ed7953\"],[0.7777777777777778,\"#fb9f3a\"],[0.8888888888888888,\"#fdca26\"],[1.0,\"#f0f921\"]],\"sequentialminus\":[[0.0,\"#0d0887\"],[0.1111111111111111,\"#46039f\"],[0.2222222222222222,\"#7201a8\"],[0.3333333333333333,\"#9c179e\"],[0.4444444444444444,\"#bd3786\"],[0.5555555555555556,\"#d8576b\"],[0.6666666666666666,\"#ed7953\"],[0.7777777777777778,\"#fb9f3a\"],[0.8888888888888888,\"#fdca26\"],[1.0,\"#f0f921\"]],\"diverging\":[[0,\"#8e0152\"],[0.1,\"#c51b7d\"],[0.2,\"#de77ae\"],[0.3,\"#f1b6da\"],[0.4,\"#fde0ef\"],[0.5,\"#f7f7f7\"],[0.6,\"#e6f5d0\"],[0.7,\"#b8e186\"],[0.8,\"#7fbc41\"],[0.9,\"#4d9221\"],[1,\"#276419\"]]},\"xaxis\":{\"gridcolor\":\"white\",\"linecolor\":\"white\",\"ticks\":\"\",\"title\":{\"standoff\":15},\"zerolinecolor\":\"white\",\"automargin\":true,\"zerolinewidth\":2},\"yaxis\":{\"gridcolor\":\"white\",\"linecolor\":\"white\",\"ticks\":\"\",\"title\":{\"standoff\":15},\"zerolinecolor\":\"white\",\"automargin\":true,\"zerolinewidth\":2},\"scene\":{\"xaxis\":{\"backgroundcolor\":\"#E5ECF6\",\"gridcolor\":\"white\",\"linecolor\":\"white\",\"showbackground\":true,\"ticks\":\"\",\"zerolinecolor\":\"white\",\"gridwidth\":2},\"yaxis\":{\"backgroundcolor\":\"#E5ECF6\",\"gridcolor\":\"white\",\"linecolor\":\"white\",\"showbackground\":true,\"ticks\":\"\",\"zerolinecolor\":\"white\",\"gridwidth\":2},\"zaxis\":{\"backgroundcolor\":\"#E5ECF6\",\"gridcolor\":\"white\",\"linecolor\":\"white\",\"showbackground\":true,\"ticks\":\"\",\"zerolinecolor\":\"white\",\"gridwidth\":2}},\"shapedefaults\":{\"line\":{\"color\":\"#2a3f5f\"}},\"annotationdefaults\":{\"arrowcolor\":\"#2a3f5f\",\"arrowhead\":0,\"arrowwidth\":1},\"geo\":{\"bgcolor\":\"white\",\"landcolor\":\"#E5ECF6\",\"subunitcolor\":\"white\",\"showland\":true,\"showlakes\":true,\"lakecolor\":\"white\"},\"title\":{\"x\":0.05},\"mapbox\":{\"style\":\"light\"}}},\"xaxis\":{\"anchor\":\"y\",\"domain\":[0.0,1.0],\"title\":{\"text\":\"Date\"}},\"yaxis\":{\"anchor\":\"x\",\"domain\":[0.0,1.0],\"title\":{\"text\":\"Close price\"}},\"legend\":{\"title\":{\"text\":\"variable\"},\"tracegroupgap\":0},\"margin\":{\"t\":60}},                        {\"responsive\": true}                    ).then(function(){\n",
       "                            \n",
       "var gd = document.getElementById('3f6de911-f621-4193-92cf-e5826a739dec');\n",
       "var x = new MutationObserver(function (mutations, observer) {{\n",
       "        var display = window.getComputedStyle(gd).display;\n",
       "        if (!display || display === 'none') {{\n",
       "            console.log([gd, 'removed!']);\n",
       "            Plotly.purge(gd);\n",
       "            observer.disconnect();\n",
       "        }}\n",
       "}});\n",
       "\n",
       "// Listen for the removal of the full notebook cells\n",
       "var notebookContainer = gd.closest('#notebook-container');\n",
       "if (notebookContainer) {{\n",
       "    x.observe(notebookContainer, {childList: true});\n",
       "}}\n",
       "\n",
       "// Listen for the clearing of the current output cell\n",
       "var outputEl = gd.closest('.output');\n",
       "if (outputEl) {{\n",
       "    x.observe(outputEl, {childList: true});\n",
       "}}\n",
       "\n",
       "                        })                };                });            </script>        </div>"
      ]
     },
     "metadata": {},
     "output_type": "display_data"
    }
   ],
   "source": [
    "# Using plotly\n",
    "fig = px.line(df_pred_test, labels={\"value\": \"Close price\"})\n",
    "fig.show()"
   ]
  },
  {
   "cell_type": "code",
   "execution_count": 10,
   "id": "a15034aa-57d7-44fa-b864-13c1408323ab",
   "metadata": {},
   "outputs": [],
   "source": [
    "# Using matplotlib\n"
   ]
  },
  {
   "cell_type": "markdown",
   "id": "dbcbf30e-692e-459e-8b6f-f42135832616",
   "metadata": {},
   "source": [
    "**Task 2.15:** Perform walk-forward validation for your model for the entire test set `y_test`. Store your model's predictions in the Series `y_pred_wfv`. Then calculate test mean absolute error"
   ]
  },
  {
   "cell_type": "code",
   "execution_count": 174,
   "id": "b611232a-e2c0-484a-a280-b77f99b11f3e",
   "metadata": {},
   "outputs": [],
   "source": [
    "# The code is below. Run this cell. \n",
    "%%capture\n",
    "\n",
    "# First, we define a walk-forward variable\n",
    "y_pred_wfv = pd.Series()\n",
    "# Then, we define a variable that takes into account what's happened in the past\n",
    "history = y_train.copy()\n",
    "# The `for` loop tells the model what to do with those variables.\n",
    "for i in range(len(y_test)):\n",
    "    # Here's where we generate the actual AR model\n",
    "    model = AutoReg(history, 10, old_names=False).fit()\n",
    "    # Now we're using `forecast` to create our next prediction\n",
    "    next_pred = model.forecast()\n",
    "    # We're adding the next prediction to the list\n",
    "    y_pred_wfv = y_pred_wfv._append(next_pred)\n",
    "    # And finally updating `history` to take into account the new observation\n",
    "    history = history._append(y_test[next_pred.index])"
   ]
  },
  {
   "cell_type": "code",
   "execution_count": null,
   "id": "73d03e59-650e-4991-b1ba-d66bc12f7fff",
   "metadata": {},
   "outputs": [],
   "source": [
    "test_mae = ...\n",
    "print(\"Test MAE (walk forward validation):\", round(test_mae, 2))"
   ]
  },
  {
   "cell_type": "markdown",
   "id": "7cf5bfd5-b28e-4dc2-bdb3-84d158fdb04a",
   "metadata": {},
   "source": [
    "### Communicate "
   ]
  },
  {
   "cell_type": "markdown",
   "id": "62f1f3b2-bec9-4f87-83c4-67101fb7f2c9",
   "metadata": {},
   "source": [
    "**Task 2.16:** Print out the parameters for your trained model."
   ]
  },
  {
   "cell_type": "code",
   "execution_count": null,
   "id": "649c1c13-56b1-4d60-9064-f8e243713104",
   "metadata": {},
   "outputs": [],
   "source": [
    "print(model.params)"
   ]
  },
  {
   "cell_type": "markdown",
   "id": "2588fb6e-1311-4e34-8b67-ced955bcd0ad",
   "metadata": {},
   "source": [
    "**Task 2.17:** Put the values for `y_test` and `y_pred_wfv` into the DataFrame `test_predictions` (don't forget the index). Then plot `df_pred_test` using plotly express."
   ]
  },
  {
   "cell_type": "code",
   "execution_count": 176,
   "id": "d8a372c0-ff42-41f9-ab18-d40b56c6a4e3",
   "metadata": {},
   "outputs": [],
   "source": [
    "test_predictions = pd.DataFrame(\n",
    "    {\"y_test\": y_test, \"y_pred\": y_pred_wfv}, index=y_test.index\n",
    ")\n"
   ]
  },
  {
   "cell_type": "code",
   "execution_count": null,
   "id": "48b56ddc-80c0-4070-9878-04fbff60ee9a",
   "metadata": {},
   "outputs": [],
   "source": [
    "# Using plotly\n"
   ]
  },
  {
   "attachments": {
    "5154388b-47e7-4daa-993c-42d41d7cae7c.png": {
     "image/png": "[encoded data removed]"
    }
   },
   "cell_type": "markdown",
   "id": "8bcbd8b5-0250-484c-a2cc-371216d9cdc0",
   "metadata": {},
   "source": [
    "![image.png](attachment:5154388b-47e7-4daa-993c-42d41d7cae7c.png)"
   ]
  },
  {
   "cell_type": "code",
   "execution_count": 8,
   "id": "b5524dda-653c-4249-bfd9-185f61f09302",
   "metadata": {},
   "outputs": [],
   "source": [
    "# using matplotlib\n"
   ]
  }
 ],
 "metadata": {
  "kernelspec": {
   "display_name": "Python 3 (ipykernel)",
   "language": "python",
   "name": "python3"
  },
  "language_info": {
   "codemirror_mode": {
    "name": "ipython",
    "version": 3
   },
   "file_extension": ".py",
   "mimetype": "text/x-python",
   "name": "python",
   "nbconvert_exporter": "python",
   "pygments_lexer": "ipython3",
   "version": "3.11.3"
  }
 },
 "nbformat": 4,
 "nbformat_minor": 5
}
